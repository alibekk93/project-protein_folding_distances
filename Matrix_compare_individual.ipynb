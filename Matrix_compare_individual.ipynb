{
 "cells": [
  {
   "cell_type": "markdown",
   "metadata": {},
   "source": [
    "# Comparing individual matrices"
   ]
  },
  {
   "cell_type": "markdown",
   "metadata": {},
   "source": [
    "## 0. Libraries"
   ]
  },
  {
   "cell_type": "code",
   "execution_count": 235,
   "metadata": {},
   "outputs": [],
   "source": [
    "import pandas as pd\n",
    "import numpy as np\n",
    "import matplotlib.pyplot as plt\n",
    "import matplotlib\n",
    "import seaborn as sns\n",
    "import math\n",
    "import sys"
   ]
  },
  {
   "cell_type": "markdown",
   "metadata": {},
   "source": [
    "## 1. Import data"
   ]
  },
  {
   "cell_type": "code",
   "execution_count": 236,
   "metadata": {
    "scrolled": true
   },
   "outputs": [],
   "source": [
    "# species = sys.argv[1]\n",
    "# orders = str(sys.argv[2])\n",
    "\n",
    "species = 'Bsubtilis'\n",
    "orders = '8'\n",
    "\n",
    "file_path = 'C:/Users/alibe/Desktop/Project/training_files/XXX/09_XXX_YYY_ZZZ_overall'\n",
    "file_path = file_path.replace('XXX', species).replace('ZZZ', orders)\n",
    "\n",
    "path1 = file_path.replace('YYY', species) + '.csv'\n",
    "path2 = file_path.replace('YYY', 'Ecoli') + '.csv'\n",
    "\n",
    "matrix1_count = pd.read_csv(path1, index_col = 0)\n",
    "matrix2_count = pd.read_csv(path2, index_col = 0)\n",
    "\n",
    "title = species[0] + '. ' + species[1:]"
   ]
  },
  {
   "cell_type": "code",
   "execution_count": 237,
   "metadata": {},
   "outputs": [],
   "source": [
    "matrix1 = []\n",
    "matrix2 = []"
   ]
  },
  {
   "cell_type": "code",
   "execution_count": 238,
   "metadata": {},
   "outputs": [
    {
     "name": "stdout",
     "output_type": "stream",
     "text": [
      "\r",
      "Matrix completion: 0.000000%\r",
      "Matrix completion: 12.500000%\r",
      "Matrix completion: 25.000000%\r",
      "Matrix completion: 37.500000%\r",
      "Matrix completion: 50.000000%\r",
      "Matrix completion: 62.500000%\r",
      "Matrix completion: 75.000000%\r",
      "Matrix completion: 87.500000%\r",
      "Matrix completion: 100.000000%"
     ]
    }
   ],
   "source": [
    "for i in range(len(matrix1_count)):\n",
    "    for j in range(len(matrix1_count.columns)):\n",
    "        matrix1.append(matrix1_count.iloc[i, j] / matrix1_count.to_numpy().sum())\n",
    "        matrix2.append(matrix2_count.iloc[i, j] / matrix2_count.to_numpy().sum())\n",
    "    print('\\rMatrix completion: {:%}'.format(i / (len(matrix1_count) - 1)), end = '')"
   ]
  },
  {
   "cell_type": "markdown",
   "metadata": {},
   "source": [
    "## 2. Calculate distance"
   ]
  },
  {
   "cell_type": "code",
   "execution_count": 239,
   "metadata": {},
   "outputs": [],
   "source": [
    "EuD = 0\n",
    "D_matrix = np.zeros(len(matrix1))"
   ]
  },
  {
   "cell_type": "code",
   "execution_count": 240,
   "metadata": {},
   "outputs": [],
   "source": [
    "for i in range(len(matrix1)):\n",
    "    EuD += math.sqrt((matrix1[i] - matrix2[i]) ** 2)\n",
    "    D_matrix[i] = matrix1[i] - matrix2[i]"
   ]
  },
  {
   "cell_type": "markdown",
   "metadata": {},
   "source": [
    "## 3. Graph - matrix"
   ]
  },
  {
   "cell_type": "code",
   "execution_count": 241,
   "metadata": {},
   "outputs": [],
   "source": [
    "AA = list(matrix1_count.columns)\n",
    "SS = list(matrix1_count.index)\n",
    "D_matrix.shape = (len(SS), len(AA))"
   ]
  },
  {
   "cell_type": "code",
   "execution_count": 242,
   "metadata": {},
   "outputs": [],
   "source": [
    "if len(SS) == 9:\n",
    "    fig_size = (7, 4)\n",
    "else:\n",
    "    fig_size = (7, 3)"
   ]
  },
  {
   "cell_type": "code",
   "execution_count": 243,
   "metadata": {
    "scrolled": true
   },
   "outputs": [
    {
     "data": {
      "image/png": "[encoded data removed]",
      "text/plain": [
       "<Figure size 504x288 with 2 Axes>"
      ]
     },
     "metadata": {
      "needs_background": "light"
     },
     "output_type": "display_data"
    }
   ],
   "source": [
    "grid_kws = {\"height_ratios\": (0.9, .05), \"hspace\": .3}\n",
    "f, (ax, cbar_ax) = plt.subplots(2, gridspec_kw=grid_kws, figsize = fig_size)\n",
    "ax.set_title(title, va = 'top' , style='italic')\n",
    "HM = sns.heatmap(D_matrix, linewidth=0.5, center = 0, cmap=sns.diverging_palette(10, 200, sep=50, as_cmap=True),\n",
    "                vmax = 0.008, vmin = -0.008, xticklabels=AA, yticklabels=SS, square = True,\n",
    "                ax=ax, cbar_ax=cbar_ax, cbar_kws={\"orientation\": \"horizontal\"})\n",
    "plt.show()"
   ]
  },
  {
   "cell_type": "code",
   "execution_count": 244,
   "metadata": {},
   "outputs": [],
   "source": [
    "fig1 = HM.get_figure()"
   ]
  },
  {
   "cell_type": "markdown",
   "metadata": {},
   "source": [
    "## 5. Output"
   ]
  },
  {
   "cell_type": "code",
   "execution_count": 245,
   "metadata": {},
   "outputs": [],
   "source": [
    "fig1.savefig(file_path.replace('YYY_', '').replace('09', '10') + '.png')"
   ]
  },
  {
   "cell_type": "code",
   "execution_count": null,
   "metadata": {},
   "outputs": [],
   "source": []
  }
 ],
 "metadata": {
  "kernelspec": {
   "display_name": "Python 3",
   "language": "python",
   "name": "python3"
  },
  "language_info": {
   "codemirror_mode": {
    "name": "ipython",
    "version": 3
   },
   "file_extension": ".py",
   "mimetype": "text/x-python",
   "name": "python",
   "nbconvert_exporter": "python",
   "pygments_lexer": "ipython3",
   "version": "3.7.3"
  }
 },
 "nbformat": 4,
 "nbformat_minor": 2
}
