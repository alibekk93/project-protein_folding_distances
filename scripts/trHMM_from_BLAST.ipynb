{
 "cells": [
  {
   "cell_type": "markdown",
   "metadata": {},
   "source": [
    "# Create .trHMM from BLAST results"
   ]
  },
  {
   "cell_type": "markdown",
   "metadata": {},
   "source": [
    "## 0. Libraries"
   ]
  },
  {
   "cell_type": "code",
   "execution_count": 2,
   "metadata": {},
   "outputs": [],
   "source": [
    "import pandas as pd\n",
    "import sys"
   ]
  },
  {
   "cell_type": "markdown",
   "metadata": {},
   "source": [
    "## 1. Import data + filter"
   ]
  },
  {
   "cell_type": "code",
   "execution_count": null,
   "metadata": {},
   "outputs": [],
   "source": [
    "# species = sys.argv[1]\n",
    "\n",
    "species = 'Bsubtilis'\n",
    "\n",
    "file_path = 'C:/Users/alibe/Desktop/Project/training_files/XXX/04_XXX_BLAST'\n",
    "path = file_path + '.csv'\n",
    "BLAST_results = pd.read_csv(path, index_col = False)"
   ]
  },
  {
   "cell_type": "code",
   "execution_count": 4,
   "metadata": {},
   "outputs": [],
   "source": [
    "SS_data = pd.read_csv('C:/Users/alibe/Desktop/SS_data_processed.csv', index_col = False)"
   ]
  },
  {
   "cell_type": "code",
   "execution_count": 5,
   "metadata": {},
   "outputs": [],
   "source": [
    "BLAST_results_filtered = BLAST_results[BLAST_results['%Match'] >= 95]\n",
    "BLAST_results_filtered = BLAST_results_filtered[BLAST_results_filtered['MatchLen'] >= 100]\n",
    "BLAST_results_filtered = BLAST_results_filtered[BLAST_results_filtered['BitScore'] >= 200]"
   ]
  },
  {
   "cell_type": "code",
   "execution_count": 6,
   "metadata": {
    "scrolled": true
   },
   "outputs": [],
   "source": [
    "BLAST_results_filtered.reset_index().to_csv(file_path.replace('04', '05') + '_results_filtered' + '.csv')"
   ]
  },
  {
   "cell_type": "code",
   "execution_count": 7,
   "metadata": {},
   "outputs": [],
   "source": [
    "BLAST_results_filtered = BLAST_results_filtered.reset_index()"
   ]
  },
  {
   "cell_type": "markdown",
   "metadata": {},
   "source": [
    "## 2. Create lists"
   ]
  },
  {
   "cell_type": "code",
   "execution_count": 8,
   "metadata": {},
   "outputs": [],
   "source": [
    "DB_list = []\n",
    "multiplier_list = []"
   ]
  },
  {
   "cell_type": "code",
   "execution_count": 9,
   "metadata": {},
   "outputs": [],
   "source": [
    "for i in range(len(BLAST_results_filtered)):\n",
    "    DB_id = BLAST_results_filtered.DB_Seq.iloc[i]\n",
    "    multiplier = int((len(DB_id) + 1) / 7)\n",
    "    multiplier_list.append(multiplier)\n",
    "    DB_list.append(DB_id.split('_'))"
   ]
  },
  {
   "cell_type": "code",
   "execution_count": 10,
   "metadata": {},
   "outputs": [],
   "source": [
    "Q_list = list(BLAST_results_filtered.Query)\n",
    "QS_list = list(BLAST_results_filtered.QueryStart.astype(int))\n",
    "QE_list = list(BLAST_results_filtered.QueryEnd.astype(int))\n",
    "DBS_list = list(BLAST_results_filtered.DB_SeqStart.astype(int))\n",
    "DBE_list = list(BLAST_results_filtered.DB_SeqEnd.astype(int))"
   ]
  },
  {
   "cell_type": "markdown",
   "metadata": {},
   "source": [
    "## 3. Create lines for Query"
   ]
  },
  {
   "cell_type": "code",
   "execution_count": 11,
   "metadata": {},
   "outputs": [],
   "source": [
    "Q_AA = []\n",
    "Q_SS = []"
   ]
  },
  {
   "cell_type": "code",
   "execution_count": 12,
   "metadata": {
    "scrolled": true
   },
   "outputs": [
    {
     "name": "stdout",
     "output_type": "stream",
     "text": [
      "\r",
      "Q:0.000000%\r",
      "Q:100.000000%"
     ]
    }
   ],
   "source": [
    "for i in range(len(Q_list)):\n",
    "    AA = SS_data.loc[SS_data['Name'] == Q_list[i], 'AA'].iloc[0]\n",
    "    SS = SS_data.loc[SS_data['Name'] == Q_list[i], 'SS'].iloc[0]\n",
    "    # cutting out non-matching parts\n",
    "    AA = AA[QS_list[i] - 1 : QE_list[i]]\n",
    "    SS = SS[QS_list[i] - 1 : QE_list[i]]\n",
    "    # multiplication\n",
    "    Q_AA.append(('*' + AA) * int(multiplier_list[i]))\n",
    "    Q_SS.append(('*' + SS) * int(multiplier_list[i]))\n",
    "    print('\\rQ:{:%}'.format(i / (len(Q_list) - 1)), end = '')"
   ]
  },
  {
   "cell_type": "code",
   "execution_count": 13,
   "metadata": {},
   "outputs": [],
   "source": [
    "Q_AA_line = ''.join(Q_AA)\n",
    "Q_8_SS_line = ''.join(Q_SS)\n",
    "Q_3_SS_line = Q_8_SS_line.replace('S', 'C').replace('T', 'C').replace('B', 'E').replace('I', 'H').replace('G', 'H')"
   ]
  },
  {
   "cell_type": "markdown",
   "metadata": {},
   "source": [
    "## 4. Create lines for DB"
   ]
  },
  {
   "cell_type": "code",
   "execution_count": 14,
   "metadata": {},
   "outputs": [],
   "source": [
    "DB_AA = []\n",
    "DB_SS = []"
   ]
  },
  {
   "cell_type": "code",
   "execution_count": 15,
   "metadata": {
    "scrolled": true
   },
   "outputs": [
    {
     "name": "stdout",
     "output_type": "stream",
     "text": [
      "DB:100.000000%"
     ]
    }
   ],
   "source": [
    "for i in range(len(DB_list)):\n",
    "    for j in DB_list[i]:\n",
    "        AA = SS_data.loc[SS_data['Name'] == j, 'AA'].iloc[0]\n",
    "        SS = SS_data.loc[SS_data['Name'] == j, 'SS'].iloc[0]\n",
    "        # cutting out non-matching parts\n",
    "        AA = AA[DBS_list[i] - 1 : DBE_list[i]]\n",
    "        SS = SS[DBS_list[i] - 1 : DBE_list[i]]\n",
    "        # appending\n",
    "        DB_AA.append('*' + AA)\n",
    "        DB_SS.append('*' + SS)\n",
    "    print('\\rDB:{:%}'.format(i / (len(DB_list) - 1)), end = '')"
   ]
  },
  {
   "cell_type": "code",
   "execution_count": 16,
   "metadata": {},
   "outputs": [],
   "source": [
    "DB_AA_line = ''.join(DB_AA)\n",
    "DB_8_SS_line = ''.join(DB_SS)\n",
    "DB_3_SS_line = DB_8_SS_line.replace('S', 'C').replace('T', 'C').replace('B', 'E').replace('I', 'H').replace('G', 'H')"
   ]
  },
  {
   "cell_type": "markdown",
   "metadata": {},
   "source": [
    "## 4. Create .trHMMs from lists"
   ]
  },
  {
   "cell_type": "code",
   "execution_count": 17,
   "metadata": {},
   "outputs": [],
   "source": [
    "Q_8_output_path = file_path.replace('BLAST', 'Ecoli').replace('04', '06') + '_8' + '.trHMM'\n",
    "DB_8_output_path = file_path.replace('BLAST', species).replace('04', '06') + '_8' + '.trHMM'"
   ]
  },
  {
   "cell_type": "code",
   "execution_count": 18,
   "metadata": {},
   "outputs": [],
   "source": [
    "Q_3_output_path = file_path.replace('BLAST', 'Ecoli').replace('04', '06') + '_3' + '.trHMM'\n",
    "DB_3_output_path = file_path.replace('BLAST', species).replace('04', '06') + '_3' + '.trHMM'"
   ]
  },
  {
   "cell_type": "code",
   "execution_count": 19,
   "metadata": {},
   "outputs": [],
   "source": [
    "Q_8_trHMM = open(Q_8_output_path, 'w')\n",
    "Q_8_trHMM.write('>AA')\n",
    "Q_8_trHMM.write('\\n')\n",
    "Q_8_trHMM.write(Q_AA_line)\n",
    "Q_8_trHMM.write('\\n')\n",
    "Q_8_trHMM.write('>SS')\n",
    "Q_8_trHMM.write('\\n')\n",
    "Q_8_trHMM.write(Q_8_SS_line)\n",
    "Q_8_trHMM.close()"
   ]
  },
  {
   "cell_type": "code",
   "execution_count": 20,
   "metadata": {},
   "outputs": [],
   "source": [
    "DB_8_trHMM = open(DB_8_output_path, 'w')\n",
    "DB_8_trHMM.write('>AA')\n",
    "DB_8_trHMM.write('\\n')\n",
    "DB_8_trHMM.write(DB_AA_line)\n",
    "DB_8_trHMM.write('\\n')\n",
    "DB_8_trHMM.write('>SS')\n",
    "DB_8_trHMM.write('\\n')\n",
    "DB_8_trHMM.write(DB_8_SS_line)\n",
    "DB_8_trHMM.close()"
   ]
  },
  {
   "cell_type": "code",
   "execution_count": 21,
   "metadata": {},
   "outputs": [],
   "source": [
    "Q_3_trHMM = open(Q_3_output_path, 'w')\n",
    "Q_3_trHMM.write('>AA')\n",
    "Q_3_trHMM.write('\\n')\n",
    "Q_3_trHMM.write(Q_AA_line)\n",
    "Q_3_trHMM.write('\\n')\n",
    "Q_3_trHMM.write('>SS')\n",
    "Q_3_trHMM.write('\\n')\n",
    "Q_3_trHMM.write(Q_3_SS_line)\n",
    "Q_3_trHMM.close()"
   ]
  },
  {
   "cell_type": "code",
   "execution_count": 22,
   "metadata": {},
   "outputs": [],
   "source": [
    "DB_3_trHMM = open(DB_3_output_path, 'w')\n",
    "DB_3_trHMM.write('>AA')\n",
    "DB_3_trHMM.write('\\n')\n",
    "DB_3_trHMM.write(DB_AA_line)\n",
    "DB_3_trHMM.write('\\n')\n",
    "DB_3_trHMM.write('>SS')\n",
    "DB_3_trHMM.write('\\n')\n",
    "DB_3_trHMM.write(DB_3_SS_line)\n",
    "DB_3_trHMM.close()"
   ]
  },
  {
   "cell_type": "code",
   "execution_count": null,
   "metadata": {},
   "outputs": [],
   "source": []
  }
 ],
 "metadata": {
  "kernelspec": {
   "display_name": "Python 3",
   "language": "python",
   "name": "python3"
  },
  "language_info": {
   "codemirror_mode": {
    "name": "ipython",
    "version": 3
   },
   "file_extension": ".py",
   "mimetype": "text/x-python",
   "name": "python",
   "nbconvert_exporter": "python",
   "pygments_lexer": "ipython3",
   "version": "3.7.3"
  }
 },
 "nbformat": 4,
 "nbformat_minor": 2
}
