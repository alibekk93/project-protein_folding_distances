{
 "cells": [
  {
   "cell_type": "markdown",
   "metadata": {},
   "source": [
    "# Split .trHMM"
   ]
  },
  {
   "cell_type": "markdown",
   "metadata": {},
   "source": [
    "## 0. Libraries"
   ]
  },
  {
   "cell_type": "code",
   "execution_count": 443,
   "metadata": {},
   "outputs": [],
   "source": [
    "import pandas as pd\n",
    "import numpy as np\n",
    "import math\n",
    "import sys\n",
    "import random\n",
    "import seaborn as sns\n",
    "import matplotlib.pyplot as plt"
   ]
  },
  {
   "cell_type": "markdown",
   "metadata": {},
   "source": [
    "## 1. Load data"
   ]
  },
  {
   "cell_type": "code",
   "execution_count": 444,
   "metadata": {},
   "outputs": [],
   "source": [
    "##### Format:\n",
    "##### AA\n",
    "##### Amino Acid sequence\n",
    "##### SS\n",
    "##### Secondary Structure sequence"
   ]
  },
  {
   "cell_type": "code",
   "execution_count": 445,
   "metadata": {},
   "outputs": [],
   "source": [
    "# DB1 = sys.argv[1]\n",
    "# orders = str(sys.argv[2])\n",
    "# seqlen = int(sys.argv[3])\n",
    "\n",
    "species = 'Bsubtilis'\n",
    "orders = '8'\n",
    "seqlen = 100\n",
    "\n",
    "file_path = 'C:/Users/alibe/Desktop/Project/training_files/XXX/06_XXX_YYY_ZZZ'\n",
    "file_path = file_path.replace('XXX', species).replace('ZZZ', orders)\n",
    "path = file_path + '.trHMM'\n",
    "training_file_1 = open(path.replace('YYY', species))\n",
    "training_file_2 = open(path.replace('YYY', 'Ecoli'))"
   ]
  },
  {
   "cell_type": "code",
   "execution_count": 446,
   "metadata": {},
   "outputs": [],
   "source": [
    "lines_1 = training_file_1.read().splitlines()\n",
    "AA_seq_1 = lines_1[1]\n",
    "SS_seq_1 = lines_1[3]\n",
    "\n",
    "lines_2 = training_file_2.read().splitlines()\n",
    "AA_seq_2 = lines_2[1]\n",
    "SS_seq_2 = lines_2[3]"
   ]
  },
  {
   "cell_type": "code",
   "execution_count": 447,
   "metadata": {},
   "outputs": [],
   "source": [
    "AA_list = ['*','A','C','D','E','F','G','H','I','K','L','M','N','P','Q','R','S','T','V','W','X','Y']\n",
    "\n",
    "if file_path[-1] == '8':\n",
    "    SS_list = ['*','B','C','E','G','H','I','S','T']\n",
    "elif file_path[-1] == '3':\n",
    "    SS_list = ['*','C','E','H']"
   ]
  },
  {
   "cell_type": "markdown",
   "metadata": {},
   "source": [
    "## 2. Create equal lines"
   ]
  },
  {
   "cell_type": "code",
   "execution_count": 448,
   "metadata": {},
   "outputs": [],
   "source": [
    "nseq = int(len(AA_seq_1) // seqlen)\n",
    "seqstarts = []\n",
    "for i in range(nseq):\n",
    "    seqstarts.append(i * seqlen)"
   ]
  },
  {
   "cell_type": "code",
   "execution_count": 449,
   "metadata": {},
   "outputs": [],
   "source": [
    "AA_seq_eq_list_1 = []\n",
    "SS_seq_eq_list_1 = []\n",
    "\n",
    "for i in seqstarts:\n",
    "    AA_seq_eq_list_1.append(AA_seq_1[i:i+seqlen])\n",
    "    SS_seq_eq_list_1.append(SS_seq_1[i:i+seqlen])"
   ]
  },
  {
   "cell_type": "code",
   "execution_count": 450,
   "metadata": {},
   "outputs": [],
   "source": [
    "AA_seq_eq_list_2 = []\n",
    "SS_seq_eq_list_2 = []\n",
    "\n",
    "for i in seqstarts:\n",
    "    AA_seq_eq_list_2.append(AA_seq_2[i:i+seqlen])\n",
    "    SS_seq_eq_list_2.append(SS_seq_2[i:i+seqlen])"
   ]
  },
  {
   "cell_type": "markdown",
   "metadata": {},
   "source": [
    "## 3. Function to fill matrices"
   ]
  },
  {
   "cell_type": "code",
   "execution_count": 451,
   "metadata": {},
   "outputs": [],
   "source": [
    "def fill_matrix(list1, list2):\n",
    "    global count_matrix_list\n",
    "    count_matrix_list = []\n",
    "    for split in range(len(list1)):\n",
    "        count_matrix = np.zeros((len(SS_list), len(AA_list)))\n",
    "        for i in range(len(list1[split])):\n",
    "            for j in range(len(AA_list)):\n",
    "                if list1[split][i] == AA_list[j]:\n",
    "                    for k in range(len(SS_list)):\n",
    "                        if list2[split][i] == SS_list[k]:\n",
    "                            count_matrix[k,j] += 1\n",
    "        count_matrix = pd.DataFrame(count_matrix, index=SS_list, columns=AA_list)\n",
    "        count_matrix_list.append(count_matrix)\n",
    "        print('\\rMatrices made: {:%}'.format(split / (len(list1) - 1)), end = '')\n",
    "    return count_matrix_list"
   ]
  },
  {
   "cell_type": "code",
   "execution_count": 452,
   "metadata": {
    "scrolled": true
   },
   "outputs": [
    {
     "name": "stdout",
     "output_type": "stream",
     "text": [
      "\r",
      "Matrices made: 0.000000%\r",
      "Matrices made: 1.136364%\r",
      "Matrices made: 2.272727%\r",
      "Matrices made: 3.409091%\r",
      "Matrices made: 4.545455%\r",
      "Matrices made: 5.681818%\r",
      "Matrices made: 6.818182%\r",
      "Matrices made: 7.954545%\r",
      "Matrices made: 9.090909%\r",
      "Matrices made: 10.227273%\r",
      "Matrices made: 11.363636%\r",
      "Matrices made: 12.500000%\r",
      "Matrices made: 13.636364%\r",
      "Matrices made: 14.772727%\r",
      "Matrices made: 15.909091%\r",
      "Matrices made: 17.045455%\r",
      "Matrices made: 18.181818%\r",
      "Matrices made: 19.318182%\r",
      "Matrices made: 20.454545%\r",
      "Matrices made: 21.590909%\r",
      "Matrices made: 22.727273%\r",
      "Matrices made: 23.863636%\r",
      "Matrices made: 25.000000%\r",
      "Matrices made: 26.136364%\r",
      "Matrices made: 27.272727%\r",
      "Matrices made: 28.409091%\r",
      "Matrices made: 29.545455%\r",
      "Matrices made: 30.681818%\r",
      "Matrices made: 31.818182%\r",
      "Matrices made: 32.954545%\r",
      "Matrices made: 34.090909%\r",
      "Matrices made: 35.227273%\r",
      "Matrices made: 36.363636%\r",
      "Matrices made: 37.500000%\r",
      "Matrices made: 38.636364%\r",
      "Matrices made: 39.772727%\r",
      "Matrices made: 40.909091%\r",
      "Matrices made: 42.045455%\r",
      "Matrices made: 43.181818%\r",
      "Matrices made: 44.318182%\r",
      "Matrices made: 45.454545%\r",
      "Matrices made: 46.590909%\r",
      "Matrices made: 47.727273%\r",
      "Matrices made: 48.863636%\r",
      "Matrices made: 50.000000%\r",
      "Matrices made: 51.136364%\r",
      "Matrices made: 52.272727%\r",
      "Matrices made: 53.409091%\r",
      "Matrices made: 54.545455%\r",
      "Matrices made: 55.681818%\r",
      "Matrices made: 56.818182%\r",
      "Matrices made: 57.954545%\r",
      "Matrices made: 59.090909%\r",
      "Matrices made: 60.227273%\r",
      "Matrices made: 61.363636%\r",
      "Matrices made: 62.500000%\r",
      "Matrices made: 63.636364%\r",
      "Matrices made: 64.772727%\r",
      "Matrices made: 65.909091%\r",
      "Matrices made: 67.045455%\r",
      "Matrices made: 68.181818%\r",
      "Matrices made: 69.318182%\r",
      "Matrices made: 70.454545%\r",
      "Matrices made: 71.590909%\r",
      "Matrices made: 72.727273%\r",
      "Matrices made: 73.863636%\r",
      "Matrices made: 75.000000%\r",
      "Matrices made: 76.136364%\r",
      "Matrices made: 77.272727%\r",
      "Matrices made: 78.409091%\r",
      "Matrices made: 79.545455%\r",
      "Matrices made: 80.681818%\r",
      "Matrices made: 81.818182%\r",
      "Matrices made: 82.954545%\r",
      "Matrices made: 84.090909%\r",
      "Matrices made: 85.227273%\r",
      "Matrices made: 86.363636%\r",
      "Matrices made: 87.500000%\r",
      "Matrices made: 88.636364%\r",
      "Matrices made: 89.772727%\r",
      "Matrices made: 90.909091%\r",
      "Matrices made: 92.045455%\r",
      "Matrices made: 93.181818%\r",
      "Matrices made: 94.318182%\r",
      "Matrices made: 95.454545%\r",
      "Matrices made: 96.590909%\r",
      "Matrices made: 97.727273%\r",
      "Matrices made: 98.863636%\r",
      "Matrices made: 100.000000%"
     ]
    }
   ],
   "source": [
    "res_list_1 = fill_matrix(AA_seq_eq_list_1, SS_seq_eq_list_1)"
   ]
  },
  {
   "cell_type": "code",
   "execution_count": 453,
   "metadata": {
    "scrolled": true
   },
   "outputs": [
    {
     "name": "stdout",
     "output_type": "stream",
     "text": [
      "Matrices made: 100.000000%"
     ]
    }
   ],
   "source": [
    "res_list_2 = fill_matrix(AA_seq_eq_list_2, SS_seq_eq_list_2)"
   ]
  },
  {
   "cell_type": "code",
   "execution_count": 454,
   "metadata": {},
   "outputs": [],
   "source": [
    "pd.concat(res_list_1).to_csv(file_path.replace('06', '07').replace('XXX', species).replace('YYY', species) + '.csv')\n",
    "pd.concat(res_list_2).to_csv(file_path.replace('06', '07').replace('XXX', species).replace('YYY', 'Ecoli') + '.csv')"
   ]
  },
  {
   "cell_type": "markdown",
   "metadata": {},
   "source": [
    "## 4. Function to calculate distance"
   ]
  },
  {
   "cell_type": "code",
   "execution_count": 455,
   "metadata": {},
   "outputs": [],
   "source": [
    "def distance_calculator(matrix1, matrix2):\n",
    "    EuD = 0\n",
    "    for i in range(len(matrix1)):\n",
    "        for j in range(len(matrix1.columns)):\n",
    "            Y = matrix1.iloc[i, j] / matrix1.to_numpy().sum()\n",
    "            E = matrix2.iloc[i, j] / matrix2.to_numpy().sum()\n",
    "            EuD += math.sqrt((Y - E) ** 2)\n",
    "    return EuD"
   ]
  },
  {
   "cell_type": "code",
   "execution_count": 456,
   "metadata": {
    "scrolled": true
   },
   "outputs": [
    {
     "name": "stdout",
     "output_type": "stream",
     "text": [
      "Done: 100.000000%"
     ]
    }
   ],
   "source": [
    "E_dis_list = []\n",
    "for i in range(len(res_list_1)):\n",
    "    E_dis_list.append(distance_calculator(res_list_1[i], res_list_2[i]))\n",
    "    print('\\rDone: {:%}'.format(i / (len(res_list_1) - 1)), end = '')"
   ]
  },
  {
   "cell_type": "markdown",
   "metadata": {},
   "source": [
    "## 5. Table"
   ]
  },
  {
   "cell_type": "code",
   "execution_count": 457,
   "metadata": {
    "scrolled": true
   },
   "outputs": [],
   "source": [
    "table = pd.DataFrame(E_dis_list, columns=['Distance'])"
   ]
  },
  {
   "cell_type": "code",
   "execution_count": 458,
   "metadata": {},
   "outputs": [],
   "source": [
    "table.to_csv(file_path.replace('06', '08').replace('XXX', species).replace('YYY', 'distances') + '.csv')"
   ]
  },
  {
   "cell_type": "code",
   "execution_count": 459,
   "metadata": {
    "scrolled": false
   },
   "outputs": [
    {
     "data": {
      "text/plain": [
       "(array([15., 10., 16., 13., 21.,  4.,  5.,  3.,  1.,  1.]),\n",
       " array([0.  , 0.02, 0.04, 0.06, 0.08, 0.1 , 0.12, 0.14, 0.16, 0.18, 0.2 ]),\n",
       " <a list of 10 Patch objects>)"
      ]
     },
     "execution_count": 459,
     "metadata": {},
     "output_type": "execute_result"
    },
    {
     "data": {
      "image/png": "[encoded data removed]",
      "text/plain": [
       "<Figure size 432x288 with 1 Axes>"
      ]
     },
     "metadata": {
      "needs_background": "light"
     },
     "output_type": "display_data"
    }
   ],
   "source": [
    "plt.hist(E_dis_list)"
   ]
  },
  {
   "cell_type": "code",
   "execution_count": null,
   "metadata": {},
   "outputs": [],
   "source": []
  }
 ],
 "metadata": {
  "kernelspec": {
   "display_name": "Python 3",
   "language": "python",
   "name": "python3"
  },
  "language_info": {
   "codemirror_mode": {
    "name": "ipython",
    "version": 3
   },
   "file_extension": ".py",
   "mimetype": "text/x-python",
   "name": "python",
   "nbconvert_exporter": "python",
   "pygments_lexer": "ipython3",
   "version": "3.7.3"
  }
 },
 "nbformat": 4,
 "nbformat_minor": 2
}
