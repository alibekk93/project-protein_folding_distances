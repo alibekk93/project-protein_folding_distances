{
  "nbformat": 4,
  "nbformat_minor": 0,
  "metadata": {
    "colab": {
      "name": "SS_and_expression_systems_v2.ipynb",
      "provenance": [],
      "collapsed_sections": [
        "hpxOgpwkO-bq",
        "J0RM1yc5xvu_",
        "vFDGipHLPnJI",
        "wQZ1txB1xsuM"
      ],
      "include_colab_link": true
    },
    "include_colab_link": true,
    "kernelspec": {
      "display_name": "Python 3",
      "name": "python3"
    }
  },
  "cells": [
    {
      "cell_type": "markdown",
      "metadata": {
        "id": "view-in-github",
        "colab_type": "text"
      },
      "source": [
        "<a href=\"https://colab.research.google.com/github/alibekk93/project-protein_folding_distances/blob/colab_v3/SS_and_expression_systems_noFilter.ipynb\" target=\"_parent\"><img src=\"https://colab.research.google.com/assets/colab-badge.svg\" alt=\"Open In Colab\"/></a>"
      ]
    },
    {
      "cell_type": "markdown",
      "metadata": {
        "id": "drSNSZ59f7Ob"
      },
      "source": [
        "This is a **Colab** implementation of the code for **SS_and_expression_systems** project"
      ]
    },
    {
      "cell_type": "markdown",
      "metadata": {
        "id": "qV2PeKXvgOVt"
      },
      "source": [
        "The code consists of several parts:\n",
        "\n",
        "1.   **Data preprocessing** - we use [PDB's ss.txt file](https://cdn.rcsb.org/etl/kabschSander/ss.txt.gz) to create a csv file with AA and SS sequences in a table format for all available entries\n",
        "2.   **FASTA files creation** - using PDB's advanced search, we found IDs of each protein source / expression system pair and saved the results in .csv format. We combine the .csv files with the preprocessed SS_data_processed datafile (d_processed) to obtain AA of these entities and save them in .FAS format. Separate files are made for *E. coli* and \"native\" expression systems\n",
        "3.   **BLASTp** - this step is performed in [DAMBE](http://dambe.bio.uottawa.ca/DAMBE/dambe.aspx)\n",
        "3.   **BLASTp results filtering** - we load the results of BLASTp ran in DAMBE and filter them\n",
        "4.   **Data files creation** - we use filtered BLASTp results to create a separate data file for each protein database. Each Protein origin species / Expression system pair has a separate database\n",
        "5.   **Matrix creation** - for each resampled data file we create a count matrix with AA /SS pairs\n",
        "6.   **Matrix comparison** - matrices are compared visually and JS divergencies are calculated between them\n",
        "7.   **Statistical analysis** - we compare JS divergencies between different data files. We obtain median JS divergencies to  compare effect of having *E. coli* as an expression system for proteins from different source organisms. We use bootstrapping to obtain confidence intervals and permutation to test null hypothesis that JS divergencies are not correlated with protein source species"
      ]
    },
    {
      "cell_type": "code",
      "source": [
        "!git clone -b colab_v3 https://github.com/alibekk93/project-protein_folding_distances"
      ],
      "metadata": {
        "colab": {
          "base_uri": "https://localhost:8080/"
        },
        "id": "YLnEULZsFt92",
        "outputId": "4e3f3525-ebfa-44f2-ae25-8dff9ab404af"
      },
      "execution_count": 1,
      "outputs": [
        {
          "output_type": "stream",
          "name": "stdout",
          "text": [
            "Cloning into 'project-protein_folding_distances'...\n",
            "remote: Enumerating objects: 611, done.\u001b[K\n",
            "remote: Counting objects: 100% (216/216), done.\u001b[K\n",
            "remote: Compressing objects: 100% (150/150), done.\u001b[K\n",
            "remote: Total 611 (delta 77), reused 190 (delta 59), pack-reused 395\u001b[K\n",
            "Receiving objects: 100% (611/611), 53.08 MiB | 15.57 MiB/s, done.\n",
            "Resolving deltas: 100% (224/224), done.\n"
          ]
        }
      ]
    },
    {
      "cell_type": "markdown",
      "metadata": {
        "id": "673ZNVbasNXK"
      },
      "source": [
        "# Set-up"
      ]
    },
    {
      "cell_type": "code",
      "metadata": {
        "id": "yorZ6tztsOCR"
      },
      "source": [
        "# essential ones:\n",
        "import pandas as pd\n",
        "import numpy as np\n",
        "import matplotlib.pyplot as plt\n",
        "import matplotlib.colors\n",
        "from matplotlib.lines import Line2D\n",
        "import seaborn as sns\n",
        "\n",
        "# files handling in Colab:\n",
        "from google.colab import files\n",
        "from io import StringIO\n",
        "\n",
        "# loop iteration visualization:\n",
        "from tqdm import tqdm\n",
        "\n",
        "SS_types_mapping = {'I':'H', 'G':'H',\n",
        "                    'B':'E',\n",
        "                    'S':'C', 'T':'C'}\n",
        "\n",
        "entity_id_mapping = {integer+1:letter for integer, letter in enumerate('ABCDEFGHIJKLMNOPQRSTUVWXYZ')}\n",
        "\n",
        "species_names = ['Bacillus subtilis', 'Desulfovibrio vulgaris',\n",
        "                 'Lactococcus lactis', 'Pseudomonas fluorescens',\n",
        "                 'Pseudomonas putida', 'Salmonella enterica', 'Streptomyces rubiginosus', 'Thermus thermophilus'\n",
        "                 ]\n",
        "\n",
        "species_names_short = [species_name[0] + species_name.split(' ')[1] for species_name in species_names]\n",
        "species_names_veryshort = [species_name[0] + '. ' + species_name[1:] for species_name in species_names_short]\n",
        "\n",
        "AA_types = ['A','C','D','E','F','G','H','I','K','L','M','N','P','Q','R','S','T','V','W','X','Y']\n",
        "SS8_types = ['H','I','G','E','B','C','S','T']\n",
        "SS3_types = ['H','E','C']"
      ],
      "execution_count": 2,
      "outputs": []
    },
    {
      "cell_type": "code",
      "metadata": {
        "id": "q60bbBCzNGKj"
      },
      "source": [
        "# Upload files - only do this if you already prepared them\n",
        "protein_SS_df = pd.read_pickle('/content/project-protein_folding_distances/results/protein_SS_df.pkl')\n",
        "resampled_data = pd.read_pickle('/content/project-protein_folding_distances/results/resampled_data.pkl')\n",
        "ci_df_long = pd.read_pickle('/content/project-protein_folding_distances/results/ci_df_long.pkl')"
      ],
      "execution_count": null,
      "outputs": []
    },
    {
      "cell_type": "code",
      "metadata": {
        "id": "3bKYtbV-5SXs"
      },
      "source": [
        "def change_to_SS3(count_matrix_8):\n",
        "  count_matrix_8 = count_matrix_8.T\n",
        "  count_matrix_3 = pd.DataFrame(np.zeros((len(AA_types), len(SS3_types))), columns=SS3_types, index=AA_types)\n",
        "  count_matrix_3.H = count_matrix_8.H + count_matrix_8.I + count_matrix_8.G\n",
        "  count_matrix_3.E = count_matrix_8.E + count_matrix_8.B\n",
        "  count_matrix_3.C = count_matrix_8.C + count_matrix_8.S + count_matrix_8['T']\n",
        "  return count_matrix_3.T"
      ],
      "execution_count": 3,
      "outputs": []
    },
    {
      "cell_type": "markdown",
      "metadata": {
        "id": "kexTr1jJf4dr"
      },
      "source": [
        "# Data preprocessing"
      ]
    },
    {
      "cell_type": "markdown",
      "metadata": {
        "id": "bIWEC6BRr2i1"
      },
      "source": [
        "We use [PDB's ss.txt file](https://cdn.rcsb.org/etl/kabschSander/ss.txt.gz) to create a csv file with AA and SS sequences in a table format for all available entries\n",
        "\n",
        "The table would be more eficient for later tasks than the original file\n",
        "\n",
        "In this file coil SS are repreneted by spaces, \" \", we need to replace the spaces with \"C\""
      ]
    },
    {
      "cell_type": "markdown",
      "metadata": {
        "id": "fIf6H_k5tIb0"
      },
      "source": [
        "## Download the ss.txt file"
      ]
    },
    {
      "cell_type": "code",
      "source": [
        "!gunzip /content/project-protein_folding_distances/ss.txt.gz"
      ],
      "metadata": {
        "id": "4OV1V4o7Ra3L"
      },
      "execution_count": 4,
      "outputs": []
    },
    {
      "cell_type": "code",
      "metadata": {
        "id": "yGLpgf68z4WB"
      },
      "source": [
        "with open('/content/project-protein_folding_distances/ss.txt', 'r', encoding='utf-8') as f:\n",
        "  d_lines = f.read().splitlines()"
      ],
      "execution_count": 5,
      "outputs": []
    },
    {
      "cell_type": "markdown",
      "metadata": {
        "id": "v0SVgQmhinPl"
      },
      "source": [
        "## Separate lines in 3 lists and form a dataframe:\n",
        "\n",
        "1.   **seq_names** - sequence names list\n",
        "2.   **AA_seqs** - AA sequences list\n",
        "3.   **SS_seqs** - SS sequences list\n"
      ]
    },
    {
      "cell_type": "markdown",
      "metadata": {
        "id": "53jE0RFkjJRl"
      },
      "source": [
        "This is tricky because sequences can occupy various number of lines. We will need to utilize the **'>'** characters to distinguish between sequence names and sequences. For each sequence, we will concatenate each line until the next **'>'** character. We will also have to iterate a variable **seq_type** to separate AA from SS"
      ]
    },
    {
      "cell_type": "code",
      "metadata": {
        "id": "BLzeF_YjimdF"
      },
      "source": [
        "seq_names = []\n",
        "AA_seqs = []\n",
        "SS_seqs = []\n",
        "seq_type = 'AA'\n",
        "seq = ''        # we will concatenate sequences to this string\n",
        "\n",
        "for line in d_lines[:-1]:                      # last line is empty, so we do not include it\n",
        "  if line[0] == '>':                               # indicates sequence name\n",
        "    if seq_type == 'AA':\n",
        "      if seq != '':\n",
        "        AA_seqs.append(seq)\n",
        "        seq_type = 'SS'\n",
        "        seq = ''\n",
        "      seq_names.append(line[1:7])\n",
        "    elif seq_type == 'SS':\n",
        "      if seq != '':\n",
        "        SS_seqs.append(seq.replace(' ','C'))\n",
        "        seq_type = 'AA'\n",
        "        seq = ''\n",
        "      continue\n",
        "  else:                                            # indicates sequence string\n",
        "    seq += line\n",
        "SS_seqs.append(seq.replace(' ','C'))               # append the last line"
      ],
      "execution_count": 6,
      "outputs": []
    },
    {
      "cell_type": "code",
      "metadata": {
        "id": "DA1GHEXQr1LH"
      },
      "source": [
        "d_processed = pd.DataFrame({'AA_seq':AA_seqs, 'SS_seq':SS_seqs}, index=seq_names[1:])"
      ],
      "execution_count": 7,
      "outputs": []
    },
    {
      "cell_type": "code",
      "source": [
        "for sn_s, sn_l in zip(species_names_short[5:], species_names[5:]):\n",
        "  path = '/content/00_' + sn_s +'.csv'\n",
        "  id_df = pd.read_csv(path)\n",
        "  id_df.dropna(subset=['expression_host_sci_name'], inplace=True)\n",
        "  id_df_native = id_df[id_df.expression_host_sci_name.str.contains(sn_l)][['pdb_id', 'entity_id']]\n",
        "  id_df_recomb = id_df[id_df.expression_host_sci_name.str.contains('Escherichia coli')][['pdb_id', 'entity_id']]\n",
        "  id_df_native.entity_id = id_df_native.entity_id.map({1:'A', 2:'B', 3:'C', 4:'D', 5:'E', 6:'F', 7:'G'})\n",
        "  id_df_recomb.entity_id = id_df_recomb.entity_id.map({1:'A', 2:'B', 3:'C', 4:'D', 5:'E', 6:'F', 7:'G'})\n",
        "  id_df_native['ID_full'] = id_df_native.pdb_id.str.upper() + ':' + id_df_native.entity_id\n",
        "  id_df_recomb['ID_full'] = id_df_recomb.pdb_id.str.upper() + ':' + id_df_recomb.entity_id\n",
        "  ids_native = [*id_df_native['ID_full']]\n",
        "  ids_recomb = [*id_df_recomb['ID_full']]\n",
        "  AA_native = ''\n",
        "  SS_native = ''\n",
        "  AA_recomb = ''\n",
        "  SS_recomb = ''\n",
        "  for idn in ids_native:\n",
        "    try:\n",
        "      AA_native += d_processed.loc[idn].AA_seq\n",
        "      SS_native += d_processed.loc[idn].SS_seq\n",
        "    except:\n",
        "      continue\n",
        "  for idr in ids_recomb:\n",
        "    try:\n",
        "      AA_recomb += d_processed.loc[idr].AA_seq\n",
        "      SS_recomb += d_processed.loc[idr].SS_seq\n",
        "    except:\n",
        "      continue\n",
        "  name_native = '06_' + sn_s + '_' + sn_s + '_datafile_ALL.fas'\n",
        "  name_recomb = '06_' + sn_s + '_' + 'Ecoli' + '_datafile_ALL.fas'\n",
        "  datafile_native = open(name_native, 'w')\n",
        "  datafile_native.write('>AA\\n')\n",
        "  datafile_native.write(AA_native + '\\n')\n",
        "  datafile_native.write('>SS\\n')\n",
        "  datafile_native.write(SS_native)\n",
        "  datafile_native.close()\n",
        "  files.download(name_native)\n",
        "  datafile_recomb = open(name_recomb, 'w')\n",
        "  datafile_recomb.write('>AA\\n')\n",
        "  datafile_recomb.write(AA_recomb + '\\n')\n",
        "  datafile_recomb.write('>SS\\n')\n",
        "  datafile_recomb.write(SS_recomb)\n",
        "  datafile_recomb.close()\n",
        "  files.download(name_recomb)"
      ],
      "metadata": {
        "colab": {
          "base_uri": "https://localhost:8080/",
          "height": 17
        },
        "id": "zHdL8MT8-gcJ",
        "outputId": "fd128910-6c14-41d1-c315-8925cb0edc32"
      },
      "execution_count": 63,
      "outputs": [
        {
          "output_type": "display_data",
          "data": {
            "text/plain": [
              "<IPython.core.display.Javascript object>"
            ],
            "application/javascript": [
              "\n",
              "    async function download(id, filename, size) {\n",
              "      if (!google.colab.kernel.accessAllowed) {\n",
              "        return;\n",
              "      }\n",
              "      const div = document.createElement('div');\n",
              "      const label = document.createElement('label');\n",
              "      label.textContent = `Downloading \"${filename}\": `;\n",
              "      div.appendChild(label);\n",
              "      const progress = document.createElement('progress');\n",
              "      progress.max = size;\n",
              "      div.appendChild(progress);\n",
              "      document.body.appendChild(div);\n",
              "\n",
              "      const buffers = [];\n",
              "      let downloaded = 0;\n",
              "\n",
              "      const channel = await google.colab.kernel.comms.open(id);\n",
              "      // Send a message to notify the kernel that we're ready.\n",
              "      channel.send({})\n",
              "\n",
              "      for await (const message of channel.messages) {\n",
              "        // Send a message to notify the kernel that we're ready.\n",
              "        channel.send({})\n",
              "        if (message.buffers) {\n",
              "          for (const buffer of message.buffers) {\n",
              "            buffers.push(buffer);\n",
              "            downloaded += buffer.byteLength;\n",
              "            progress.value = downloaded;\n",
              "          }\n",
              "        }\n",
              "      }\n",
              "      const blob = new Blob(buffers, {type: 'application/binary'});\n",
              "      const a = document.createElement('a');\n",
              "      a.href = window.URL.createObjectURL(blob);\n",
              "      a.download = filename;\n",
              "      div.appendChild(a);\n",
              "      a.click();\n",
              "      div.remove();\n",
              "    }\n",
              "  "
            ]
          },
          "metadata": {}
        },
        {
          "output_type": "display_data",
          "data": {
            "text/plain": [
              "<IPython.core.display.Javascript object>"
            ],
            "application/javascript": [
              "download(\"download_0e593bf9-2bbc-4d51-8435-baa912935e9d\", \"06_Pputida_Pputida_datafile_ALL.fas\", 2555)"
            ]
          },
          "metadata": {}
        },
        {
          "output_type": "display_data",
          "data": {
            "text/plain": [
              "<IPython.core.display.Javascript object>"
            ],
            "application/javascript": [
              "\n",
              "    async function download(id, filename, size) {\n",
              "      if (!google.colab.kernel.accessAllowed) {\n",
              "        return;\n",
              "      }\n",
              "      const div = document.createElement('div');\n",
              "      const label = document.createElement('label');\n",
              "      label.textContent = `Downloading \"${filename}\": `;\n",
              "      div.appendChild(label);\n",
              "      const progress = document.createElement('progress');\n",
              "      progress.max = size;\n",
              "      div.appendChild(progress);\n",
              "      document.body.appendChild(div);\n",
              "\n",
              "      const buffers = [];\n",
              "      let downloaded = 0;\n",
              "\n",
              "      const channel = await google.colab.kernel.comms.open(id);\n",
              "      // Send a message to notify the kernel that we're ready.\n",
              "      channel.send({})\n",
              "\n",
              "      for await (const message of channel.messages) {\n",
              "        // Send a message to notify the kernel that we're ready.\n",
              "        channel.send({})\n",
              "        if (message.buffers) {\n",
              "          for (const buffer of message.buffers) {\n",
              "            buffers.push(buffer);\n",
              "            downloaded += buffer.byteLength;\n",
              "            progress.value = downloaded;\n",
              "          }\n",
              "        }\n",
              "      }\n",
              "      const blob = new Blob(buffers, {type: 'application/binary'});\n",
              "      const a = document.createElement('a');\n",
              "      a.href = window.URL.createObjectURL(blob);\n",
              "      a.download = filename;\n",
              "      div.appendChild(a);\n",
              "      a.click();\n",
              "      div.remove();\n",
              "    }\n",
              "  "
            ]
          },
          "metadata": {}
        },
        {
          "output_type": "display_data",
          "data": {
            "text/plain": [
              "<IPython.core.display.Javascript object>"
            ],
            "application/javascript": [
              "download(\"download_4d543e0a-7cf3-4bbe-b03a-5ebcd7e540a7\", \"06_Pputida_Ecoli_datafile_ALL.fas\", 345315)"
            ]
          },
          "metadata": {}
        },
        {
          "output_type": "display_data",
          "data": {
            "text/plain": [
              "<IPython.core.display.Javascript object>"
            ],
            "application/javascript": [
              "\n",
              "    async function download(id, filename, size) {\n",
              "      if (!google.colab.kernel.accessAllowed) {\n",
              "        return;\n",
              "      }\n",
              "      const div = document.createElement('div');\n",
              "      const label = document.createElement('label');\n",
              "      label.textContent = `Downloading \"${filename}\": `;\n",
              "      div.appendChild(label);\n",
              "      const progress = document.createElement('progress');\n",
              "      progress.max = size;\n",
              "      div.appendChild(progress);\n",
              "      document.body.appendChild(div);\n",
              "\n",
              "      const buffers = [];\n",
              "      let downloaded = 0;\n",
              "\n",
              "      const channel = await google.colab.kernel.comms.open(id);\n",
              "      // Send a message to notify the kernel that we're ready.\n",
              "      channel.send({})\n",
              "\n",
              "      for await (const message of channel.messages) {\n",
              "        // Send a message to notify the kernel that we're ready.\n",
              "        channel.send({})\n",
              "        if (message.buffers) {\n",
              "          for (const buffer of message.buffers) {\n",
              "            buffers.push(buffer);\n",
              "            downloaded += buffer.byteLength;\n",
              "            progress.value = downloaded;\n",
              "          }\n",
              "        }\n",
              "      }\n",
              "      const blob = new Blob(buffers, {type: 'application/binary'});\n",
              "      const a = document.createElement('a');\n",
              "      a.href = window.URL.createObjectURL(blob);\n",
              "      a.download = filename;\n",
              "      div.appendChild(a);\n",
              "      a.click();\n",
              "      div.remove();\n",
              "    }\n",
              "  "
            ]
          },
          "metadata": {}
        },
        {
          "output_type": "display_data",
          "data": {
            "text/plain": [
              "<IPython.core.display.Javascript object>"
            ],
            "application/javascript": [
              "download(\"download_4201fe24-07f6-4417-9774-572ac2e91ed3\", \"06_Senterica_Senterica_datafile_ALL.fas\", 22615)"
            ]
          },
          "metadata": {}
        },
        {
          "output_type": "display_data",
          "data": {
            "text/plain": [
              "<IPython.core.display.Javascript object>"
            ],
            "application/javascript": [
              "\n",
              "    async function download(id, filename, size) {\n",
              "      if (!google.colab.kernel.accessAllowed) {\n",
              "        return;\n",
              "      }\n",
              "      const div = document.createElement('div');\n",
              "      const label = document.createElement('label');\n",
              "      label.textContent = `Downloading \"${filename}\": `;\n",
              "      div.appendChild(label);\n",
              "      const progress = document.createElement('progress');\n",
              "      progress.max = size;\n",
              "      div.appendChild(progress);\n",
              "      document.body.appendChild(div);\n",
              "\n",
              "      const buffers = [];\n",
              "      let downloaded = 0;\n",
              "\n",
              "      const channel = await google.colab.kernel.comms.open(id);\n",
              "      // Send a message to notify the kernel that we're ready.\n",
              "      channel.send({})\n",
              "\n",
              "      for await (const message of channel.messages) {\n",
              "        // Send a message to notify the kernel that we're ready.\n",
              "        channel.send({})\n",
              "        if (message.buffers) {\n",
              "          for (const buffer of message.buffers) {\n",
              "            buffers.push(buffer);\n",
              "            downloaded += buffer.byteLength;\n",
              "            progress.value = downloaded;\n",
              "          }\n",
              "        }\n",
              "      }\n",
              "      const blob = new Blob(buffers, {type: 'application/binary'});\n",
              "      const a = document.createElement('a');\n",
              "      a.href = window.URL.createObjectURL(blob);\n",
              "      a.download = filename;\n",
              "      div.appendChild(a);\n",
              "      a.click();\n",
              "      div.remove();\n",
              "    }\n",
              "  "
            ]
          },
          "metadata": {}
        },
        {
          "output_type": "display_data",
          "data": {
            "text/plain": [
              "<IPython.core.display.Javascript object>"
            ],
            "application/javascript": [
              "download(\"download_a55b08bb-f63d-4180-b34e-5f7c42b12d58\", \"06_Senterica_Ecoli_datafile_ALL.fas\", 499169)"
            ]
          },
          "metadata": {}
        },
        {
          "output_type": "display_data",
          "data": {
            "text/plain": [
              "<IPython.core.display.Javascript object>"
            ],
            "application/javascript": [
              "\n",
              "    async function download(id, filename, size) {\n",
              "      if (!google.colab.kernel.accessAllowed) {\n",
              "        return;\n",
              "      }\n",
              "      const div = document.createElement('div');\n",
              "      const label = document.createElement('label');\n",
              "      label.textContent = `Downloading \"${filename}\": `;\n",
              "      div.appendChild(label);\n",
              "      const progress = document.createElement('progress');\n",
              "      progress.max = size;\n",
              "      div.appendChild(progress);\n",
              "      document.body.appendChild(div);\n",
              "\n",
              "      const buffers = [];\n",
              "      let downloaded = 0;\n",
              "\n",
              "      const channel = await google.colab.kernel.comms.open(id);\n",
              "      // Send a message to notify the kernel that we're ready.\n",
              "      channel.send({})\n",
              "\n",
              "      for await (const message of channel.messages) {\n",
              "        // Send a message to notify the kernel that we're ready.\n",
              "        channel.send({})\n",
              "        if (message.buffers) {\n",
              "          for (const buffer of message.buffers) {\n",
              "            buffers.push(buffer);\n",
              "            downloaded += buffer.byteLength;\n",
              "            progress.value = downloaded;\n",
              "          }\n",
              "        }\n",
              "      }\n",
              "      const blob = new Blob(buffers, {type: 'application/binary'});\n",
              "      const a = document.createElement('a');\n",
              "      a.href = window.URL.createObjectURL(blob);\n",
              "      a.download = filename;\n",
              "      div.appendChild(a);\n",
              "      a.click();\n",
              "      div.remove();\n",
              "    }\n",
              "  "
            ]
          },
          "metadata": {}
        },
        {
          "output_type": "display_data",
          "data": {
            "text/plain": [
              "<IPython.core.display.Javascript object>"
            ],
            "application/javascript": [
              "download(\"download_21a03e72-5cbe-4352-81dc-13b316f605d2\", \"06_Srubiginosus_Srubiginosus_datafile_ALL.fas\", 13191)"
            ]
          },
          "metadata": {}
        },
        {
          "output_type": "display_data",
          "data": {
            "text/plain": [
              "<IPython.core.display.Javascript object>"
            ],
            "application/javascript": [
              "\n",
              "    async function download(id, filename, size) {\n",
              "      if (!google.colab.kernel.accessAllowed) {\n",
              "        return;\n",
              "      }\n",
              "      const div = document.createElement('div');\n",
              "      const label = document.createElement('label');\n",
              "      label.textContent = `Downloading \"${filename}\": `;\n",
              "      div.appendChild(label);\n",
              "      const progress = document.createElement('progress');\n",
              "      progress.max = size;\n",
              "      div.appendChild(progress);\n",
              "      document.body.appendChild(div);\n",
              "\n",
              "      const buffers = [];\n",
              "      let downloaded = 0;\n",
              "\n",
              "      const channel = await google.colab.kernel.comms.open(id);\n",
              "      // Send a message to notify the kernel that we're ready.\n",
              "      channel.send({})\n",
              "\n",
              "      for await (const message of channel.messages) {\n",
              "        // Send a message to notify the kernel that we're ready.\n",
              "        channel.send({})\n",
              "        if (message.buffers) {\n",
              "          for (const buffer of message.buffers) {\n",
              "            buffers.push(buffer);\n",
              "            downloaded += buffer.byteLength;\n",
              "            progress.value = downloaded;\n",
              "          }\n",
              "        }\n",
              "      }\n",
              "      const blob = new Blob(buffers, {type: 'application/binary'});\n",
              "      const a = document.createElement('a');\n",
              "      a.href = window.URL.createObjectURL(blob);\n",
              "      a.download = filename;\n",
              "      div.appendChild(a);\n",
              "      a.click();\n",
              "      div.remove();\n",
              "    }\n",
              "  "
            ]
          },
          "metadata": {}
        },
        {
          "output_type": "display_data",
          "data": {
            "text/plain": [
              "<IPython.core.display.Javascript object>"
            ],
            "application/javascript": [
              "download(\"download_140ea5a6-0fa8-4555-b457-3befdd4cdc95\", \"06_Srubiginosus_Ecoli_datafile_ALL.fas\", 8539)"
            ]
          },
          "metadata": {}
        },
        {
          "output_type": "display_data",
          "data": {
            "text/plain": [
              "<IPython.core.display.Javascript object>"
            ],
            "application/javascript": [
              "\n",
              "    async function download(id, filename, size) {\n",
              "      if (!google.colab.kernel.accessAllowed) {\n",
              "        return;\n",
              "      }\n",
              "      const div = document.createElement('div');\n",
              "      const label = document.createElement('label');\n",
              "      label.textContent = `Downloading \"${filename}\": `;\n",
              "      div.appendChild(label);\n",
              "      const progress = document.createElement('progress');\n",
              "      progress.max = size;\n",
              "      div.appendChild(progress);\n",
              "      document.body.appendChild(div);\n",
              "\n",
              "      const buffers = [];\n",
              "      let downloaded = 0;\n",
              "\n",
              "      const channel = await google.colab.kernel.comms.open(id);\n",
              "      // Send a message to notify the kernel that we're ready.\n",
              "      channel.send({})\n",
              "\n",
              "      for await (const message of channel.messages) {\n",
              "        // Send a message to notify the kernel that we're ready.\n",
              "        channel.send({})\n",
              "        if (message.buffers) {\n",
              "          for (const buffer of message.buffers) {\n",
              "            buffers.push(buffer);\n",
              "            downloaded += buffer.byteLength;\n",
              "            progress.value = downloaded;\n",
              "          }\n",
              "        }\n",
              "      }\n",
              "      const blob = new Blob(buffers, {type: 'application/binary'});\n",
              "      const a = document.createElement('a');\n",
              "      a.href = window.URL.createObjectURL(blob);\n",
              "      a.download = filename;\n",
              "      div.appendChild(a);\n",
              "      a.click();\n",
              "      div.remove();\n",
              "    }\n",
              "  "
            ]
          },
          "metadata": {}
        },
        {
          "output_type": "display_data",
          "data": {
            "text/plain": [
              "<IPython.core.display.Javascript object>"
            ],
            "application/javascript": [
              "download(\"download_21e5e72c-33fe-4737-937e-5344a58ed531\", \"06_Tthermophilus_Tthermophilus_datafile_ALL.fas\", 9861)"
            ]
          },
          "metadata": {}
        },
        {
          "output_type": "display_data",
          "data": {
            "text/plain": [
              "<IPython.core.display.Javascript object>"
            ],
            "application/javascript": [
              "\n",
              "    async function download(id, filename, size) {\n",
              "      if (!google.colab.kernel.accessAllowed) {\n",
              "        return;\n",
              "      }\n",
              "      const div = document.createElement('div');\n",
              "      const label = document.createElement('label');\n",
              "      label.textContent = `Downloading \"${filename}\": `;\n",
              "      div.appendChild(label);\n",
              "      const progress = document.createElement('progress');\n",
              "      progress.max = size;\n",
              "      div.appendChild(progress);\n",
              "      document.body.appendChild(div);\n",
              "\n",
              "      const buffers = [];\n",
              "      let downloaded = 0;\n",
              "\n",
              "      const channel = await google.colab.kernel.comms.open(id);\n",
              "      // Send a message to notify the kernel that we're ready.\n",
              "      channel.send({})\n",
              "\n",
              "      for await (const message of channel.messages) {\n",
              "        // Send a message to notify the kernel that we're ready.\n",
              "        channel.send({})\n",
              "        if (message.buffers) {\n",
              "          for (const buffer of message.buffers) {\n",
              "            buffers.push(buffer);\n",
              "            downloaded += buffer.byteLength;\n",
              "            progress.value = downloaded;\n",
              "          }\n",
              "        }\n",
              "      }\n",
              "      const blob = new Blob(buffers, {type: 'application/binary'});\n",
              "      const a = document.createElement('a');\n",
              "      a.href = window.URL.createObjectURL(blob);\n",
              "      a.download = filename;\n",
              "      div.appendChild(a);\n",
              "      a.click();\n",
              "      div.remove();\n",
              "    }\n",
              "  "
            ]
          },
          "metadata": {}
        },
        {
          "output_type": "display_data",
          "data": {
            "text/plain": [
              "<IPython.core.display.Javascript object>"
            ],
            "application/javascript": [
              "download(\"download_c73cd681-6674-4098-acbb-5bd01b53f973\", \"06_Tthermophilus_Ecoli_datafile_ALL.fas\", 633329)"
            ]
          },
          "metadata": {}
        }
      ]
    },
    {
      "cell_type": "markdown",
      "metadata": {
        "id": "hpxOgpwkO-bq"
      },
      "source": [
        "# FASTA files creation"
      ]
    },
    {
      "cell_type": "markdown",
      "metadata": {
        "id": "Eqeldxs5PTco"
      },
      "source": [
        "We need to create FASTA files so that we can run BLASTp using them. We used PDB's advances search to download protein IDs and entity numbers in .csv format and will combine those files with the preprocessed dataframe from the previous step"
      ]
    },
    {
      "cell_type": "markdown",
      "metadata": {
        "id": "RwbTPZZnPwA7"
      },
      "source": [
        "First, we load the .csv files"
      ]
    },
    {
      "cell_type": "code",
      "metadata": {
        "colab": {
          "resources": {
            "http://localhost:8080/nbextensions/google.colab/files.js": {
              "data": "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",
              "headers": [
                [
                  "content-type",
                  "application/javascript"
                ]
              ],
              "ok": true,
              "status": 200,
              "status_text": ""
            }
          },
          "base_uri": "https://localhost:8080/",
          "height": 73
        },
        "id": "F53MbQ-tPDKB",
        "outputId": "245c2510-afe2-474a-b80e-b8df09298294"
      },
      "source": [
        "uploaded = files.upload()"
      ],
      "execution_count": null,
      "outputs": [
        {
          "output_type": "display_data",
          "data": {
            "text/plain": [
              "<IPython.core.display.HTML object>"
            ],
            "text/html": [
              "\n",
              "     <input type=\"file\" id=\"files-5e091c6b-3568-4aea-a71a-37019f30c9e1\" name=\"files[]\" multiple disabled\n",
              "        style=\"border:none\" />\n",
              "     <output id=\"result-5e091c6b-3568-4aea-a71a-37019f30c9e1\">\n",
              "      Upload widget is only available when the cell has been executed in the\n",
              "      current browser session. Please rerun this cell to enable.\n",
              "      </output>\n",
              "      <script src=\"/nbextensions/google.colab/files.js\"></script> "
            ]
          },
          "metadata": {}
        },
        {
          "output_type": "stream",
          "name": "stdout",
          "text": [
            "Saving 00_Hsalinarum.csv to 00_Hsalinarum.csv\n"
          ]
        }
      ]
    },
    {
      "cell_type": "markdown",
      "metadata": {
        "id": "w8Bz_syJQ-9D"
      },
      "source": [
        "We will process these files into FASTA files using a function"
      ]
    },
    {
      "cell_type": "code",
      "metadata": {
        "id": "RjnuXDCRPEtn"
      },
      "source": [
        "def create_fasta(species_name, alt_expression_sys='Escherichia coli', d_processed=d_processed, download=True):\n",
        "  '''\n",
        "  Creates FASTA files with protein AA using a protein .csv file and a preprocessed dataframe of protein AA / SS\n",
        "  species_name: protein host name\n",
        "  alt_expression_sys: the non-native expression system of interest. E. coli by default\n",
        "  d_processed: the processed protein AA / SS file\n",
        "  download: if True will download the FASTA file\n",
        "  '''\n",
        "  # create names for the new files\n",
        "  species_name_short = species_name[0] + species_name.split(' ')[1]\n",
        "  alt_name_short = alt_expression_sys[0] + alt_expression_sys.split(' ')[1]\n",
        "  protein_file_name = '00_' + species_name_short + '.csv'\n",
        "  FASTA_name_1 = '02_' + species_name_short + '_' + species_name_short + '_AA.FAS'\n",
        "  FASTA_name_2 = '02_' + species_name_short + '_' + alt_name_short + '_AA.FAS'\n",
        "  \n",
        "  # load the .csv file into a dataframe, drop NaNs\n",
        "  ID_df = pd.read_csv(StringIO(str(uploaded[protein_file_name],'utf-8')))\n",
        "  ID_df.dropna(subset=['expression_host_sci_name'], inplace=True)\n",
        "\n",
        "  # filter expression systems\n",
        "  df_1 = ID_df[ID_df.expression_host_sci_name.str.contains(species_name)]\n",
        "  df_2 = ID_df[ID_df.expression_host_sci_name.str.contains(alt_expression_sys)]\n",
        "\n",
        "  # create lists of IDs (with entities as A, B, C, etc)\n",
        "  proteins_1 = [p_id.upper()+':'+entity_id_mapping[e_id] for p_id, e_id in zip(df_1.pdb_id, df_1.entity_id)]\n",
        "  proteins_2 = [p_id.upper()+':'+entity_id_mapping[e_id] for p_id, e_id in zip(df_2.pdb_id, df_2.entity_id)]\n",
        "  # drop protein IDs that are not in d_processed (this is rare, but sometimes happens for some reason)\n",
        "  proteins_1 = [protein for protein in proteins_1 if protein in d_processed.index]\n",
        "  proteins_2 = [protein for protein in proteins_2 if protein in d_processed.index]\n",
        "\n",
        "  # create lists of AAs\n",
        "  AAs_1 = [d_processed.loc[protein, 'AA_seq'] for protein in proteins_1]\n",
        "  AAs_2 = [d_processed.loc[protein, 'AA_seq'] for protein in proteins_2]\n",
        "\n",
        "  # create FASTA files and download\n",
        "  with open(FASTA_name_1, mode='w') as f:\n",
        "    for p_idx in range(len(proteins_1)):\n",
        "      f.write('>'+proteins_1[p_idx]+'\\n')\n",
        "      f.write(AAs_1[p_idx]+'\\n')\n",
        "  \n",
        "  with open(FASTA_name_2, mode='w') as f:\n",
        "    for p_idx in range(len(proteins_2)):\n",
        "      f.write('>'+proteins_2[p_idx]+'\\n')\n",
        "      f.write(AAs_2[p_idx]+'\\n')\n",
        "  \n",
        "  if download==True:\n",
        "    files.download(FASTA_name_1)\n",
        "    files.download(FASTA_name_2)"
      ],
      "execution_count": null,
      "outputs": []
    },
    {
      "cell_type": "code",
      "metadata": {
        "colab": {
          "base_uri": "https://localhost:8080/",
          "height": 356
        },
        "id": "KCcxDOEITB2T",
        "outputId": "64d7fd13-4543-407f-e70c-b088f27fc588"
      },
      "source": [
        "for species in species_names:\n",
        "  print(species)\n",
        "  create_fasta(species_name=species, alt_expression_sys='Escherichia coli', d_processed=d_processed, download=False)"
      ],
      "execution_count": null,
      "outputs": [
        {
          "output_type": "stream",
          "name": "stdout",
          "text": [
            "Bacillus subtilis\n"
          ]
        },
        {
          "output_type": "error",
          "ename": "KeyError",
          "evalue": "ignored",
          "traceback": [
            "\u001b[0;31m---------------------------------------------------------------------------\u001b[0m",
            "\u001b[0;31mKeyError\u001b[0m                                  Traceback (most recent call last)",
            "\u001b[0;32m<ipython-input-11-136447121c9b>\u001b[0m in \u001b[0;36m<module>\u001b[0;34m()\u001b[0m\n\u001b[1;32m      1\u001b[0m \u001b[0;32mfor\u001b[0m \u001b[0mspecies\u001b[0m \u001b[0;32min\u001b[0m \u001b[0mspecies_names\u001b[0m\u001b[0;34m:\u001b[0m\u001b[0;34m\u001b[0m\u001b[0;34m\u001b[0m\u001b[0m\n\u001b[1;32m      2\u001b[0m   \u001b[0mprint\u001b[0m\u001b[0;34m(\u001b[0m\u001b[0mspecies\u001b[0m\u001b[0;34m)\u001b[0m\u001b[0;34m\u001b[0m\u001b[0;34m\u001b[0m\u001b[0m\n\u001b[0;32m----> 3\u001b[0;31m   \u001b[0mcreate_fasta\u001b[0m\u001b[0;34m(\u001b[0m\u001b[0mspecies_name\u001b[0m\u001b[0;34m=\u001b[0m\u001b[0mspecies\u001b[0m\u001b[0;34m,\u001b[0m \u001b[0malt_expression_sys\u001b[0m\u001b[0;34m=\u001b[0m\u001b[0;34m'Escherichia coli'\u001b[0m\u001b[0;34m,\u001b[0m \u001b[0md_processed\u001b[0m\u001b[0;34m=\u001b[0m\u001b[0md_processed\u001b[0m\u001b[0;34m,\u001b[0m \u001b[0mdownload\u001b[0m\u001b[0;34m=\u001b[0m\u001b[0;32mFalse\u001b[0m\u001b[0;34m)\u001b[0m\u001b[0;34m\u001b[0m\u001b[0;34m\u001b[0m\u001b[0m\n\u001b[0m",
            "\u001b[0;32m<ipython-input-10-415490fb3391>\u001b[0m in \u001b[0;36mcreate_fasta\u001b[0;34m(species_name, alt_expression_sys, d_processed, download)\u001b[0m\n\u001b[1;32m     15\u001b[0m \u001b[0;34m\u001b[0m\u001b[0m\n\u001b[1;32m     16\u001b[0m   \u001b[0;31m# load the .csv file into a dataframe, drop NaNs\u001b[0m\u001b[0;34m\u001b[0m\u001b[0;34m\u001b[0m\u001b[0;34m\u001b[0m\u001b[0m\n\u001b[0;32m---> 17\u001b[0;31m   \u001b[0mID_df\u001b[0m \u001b[0;34m=\u001b[0m \u001b[0mpd\u001b[0m\u001b[0;34m.\u001b[0m\u001b[0mread_csv\u001b[0m\u001b[0;34m(\u001b[0m\u001b[0mStringIO\u001b[0m\u001b[0;34m(\u001b[0m\u001b[0mstr\u001b[0m\u001b[0;34m(\u001b[0m\u001b[0muploaded\u001b[0m\u001b[0;34m[\u001b[0m\u001b[0mprotein_file_name\u001b[0m\u001b[0;34m]\u001b[0m\u001b[0;34m,\u001b[0m\u001b[0;34m'utf-8'\u001b[0m\u001b[0;34m)\u001b[0m\u001b[0;34m)\u001b[0m\u001b[0;34m)\u001b[0m\u001b[0;34m\u001b[0m\u001b[0;34m\u001b[0m\u001b[0m\n\u001b[0m\u001b[1;32m     18\u001b[0m   \u001b[0mID_df\u001b[0m\u001b[0;34m.\u001b[0m\u001b[0mdropna\u001b[0m\u001b[0;34m(\u001b[0m\u001b[0msubset\u001b[0m\u001b[0;34m=\u001b[0m\u001b[0;34m[\u001b[0m\u001b[0;34m'expression_host_sci_name'\u001b[0m\u001b[0;34m]\u001b[0m\u001b[0;34m,\u001b[0m \u001b[0minplace\u001b[0m\u001b[0;34m=\u001b[0m\u001b[0;32mTrue\u001b[0m\u001b[0;34m)\u001b[0m\u001b[0;34m\u001b[0m\u001b[0;34m\u001b[0m\u001b[0m\n\u001b[1;32m     19\u001b[0m \u001b[0;34m\u001b[0m\u001b[0m\n",
            "\u001b[0;31mKeyError\u001b[0m: '00_Bsubtilis.csv'"
          ]
        }
      ]
    },
    {
      "cell_type": "markdown",
      "metadata": {
        "id": "J0RM1yc5xvu_"
      },
      "source": [
        "# BLASTp filtering"
      ]
    },
    {
      "cell_type": "markdown",
      "metadata": {
        "id": "P7RZJVknVW3K"
      },
      "source": [
        "We use BLASTp results obtained in DAMBE. The results were saved as CSV files. We will filter the results to get PDB entries with same (or almost identical) AA sequences and different Expression systems"
      ]
    },
    {
      "cell_type": "code",
      "metadata": {
        "id": "PvkmuWm4x9_s",
        "colab": {
          "resources": {
            "http://localhost:8080/nbextensions/google.colab/files.js": {
              "data": "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",
              "ok": true,
              "headers": [
                [
                  "content-type",
                  "application/javascript"
                ]
              ],
              "status": 200,
              "status_text": ""
            }
          },
          "base_uri": "https://localhost:8080/",
          "height": 73
        },
        "outputId": "d34ad7ce-85ba-4b43-e122-afc5625954a4"
      },
      "source": [
        "uploaded = files.upload()"
      ],
      "execution_count": null,
      "outputs": [
        {
          "output_type": "display_data",
          "data": {
            "text/plain": [
              "<IPython.core.display.HTML object>"
            ],
            "text/html": [
              "\n",
              "     <input type=\"file\" id=\"files-93ce950e-7d09-47f4-b52c-7b8b0ee1e7d3\" name=\"files[]\" multiple disabled\n",
              "        style=\"border:none\" />\n",
              "     <output id=\"result-93ce950e-7d09-47f4-b52c-7b8b0ee1e7d3\">\n",
              "      Upload widget is only available when the cell has been executed in the\n",
              "      current browser session. Please rerun this cell to enable.\n",
              "      </output>\n",
              "      <script src=\"/nbextensions/google.colab/files.js\"></script> "
            ]
          },
          "metadata": {}
        },
        {
          "output_type": "stream",
          "name": "stdout",
          "text": [
            "Saving 04_Hsalinarum_BLAST.csv to 04_Hsalinarum_BLAST.csv\n"
          ]
        }
      ]
    },
    {
      "cell_type": "code",
      "metadata": {
        "id": "2kREOjru3dZo"
      },
      "source": [
        "def filter_BLASTp(filename, download=False, min_match=95, min_len=50, max_e=0.01):\n",
        "  '''\n",
        "  BLASTp filtering, creation of a dataframe and optional saving of a CSV\n",
        "  '''\n",
        "  BLAST_results = pd.read_csv(StringIO(str(uploaded[filename],'utf-8')),sep=';')\n",
        "  BLAST_results_filtered = BLAST_results[(BLAST_results['%Match'] >= min_match) &\n",
        "                                         (BLAST_results['MatchLen'] >= min_len) &\n",
        "                                         (BLAST_results['E-Val'] <= max_e)]\n",
        "  BLAST_results_filtered = BLAST_results_filtered.reset_index().iloc[:,1:]\n",
        "  if download == True:\n",
        "    newname = filename.replace('04', '05').replace('.csv', '_results_filtered.csv')\n",
        "    BLAST_results_filtered.to_csv(newname)\n",
        "    files.download(newname)\n",
        "  return BLAST_results_filtered"
      ],
      "execution_count": null,
      "outputs": []
    },
    {
      "cell_type": "markdown",
      "metadata": {
        "id": "wo-D5cKjPQn9"
      },
      "source": [
        "**filtered_BLASTps** dictionary will have all filtered BLASTp results stored as dataframes. The dataframes can also be downloaded as CSV files using the *'download=True'* option"
      ]
    },
    {
      "cell_type": "code",
      "metadata": {
        "colab": {
          "base_uri": "https://localhost:8080/",
          "height": 17
        },
        "id": "e6HTwvsPG7gM",
        "outputId": "21efa0fc-fc36-4f72-aad3-9b13a4d8980d"
      },
      "source": [
        "filtered_BLASTps = {}\n",
        "db_names = ['BS', 'DV', 'LL', 'PF', 'PP', 'SE', 'SR', 'TT']\n",
        "for filename, db_name in zip(uploaded.keys(), db_names):\n",
        "  filtered_BLASTps[db_name] = filter_BLASTp(filename, download=True)"
      ],
      "execution_count": null,
      "outputs": [
        {
          "output_type": "display_data",
          "data": {
            "application/javascript": [
              "\n",
              "    async function download(id, filename, size) {\n",
              "      if (!google.colab.kernel.accessAllowed) {\n",
              "        return;\n",
              "      }\n",
              "      const div = document.createElement('div');\n",
              "      const label = document.createElement('label');\n",
              "      label.textContent = `Downloading \"${filename}\": `;\n",
              "      div.appendChild(label);\n",
              "      const progress = document.createElement('progress');\n",
              "      progress.max = size;\n",
              "      div.appendChild(progress);\n",
              "      document.body.appendChild(div);\n",
              "\n",
              "      const buffers = [];\n",
              "      let downloaded = 0;\n",
              "\n",
              "      const channel = await google.colab.kernel.comms.open(id);\n",
              "      // Send a message to notify the kernel that we're ready.\n",
              "      channel.send({})\n",
              "\n",
              "      for await (const message of channel.messages) {\n",
              "        // Send a message to notify the kernel that we're ready.\n",
              "        channel.send({})\n",
              "        if (message.buffers) {\n",
              "          for (const buffer of message.buffers) {\n",
              "            buffers.push(buffer);\n",
              "            downloaded += buffer.byteLength;\n",
              "            progress.value = downloaded;\n",
              "          }\n",
              "        }\n",
              "      }\n",
              "      const blob = new Blob(buffers, {type: 'application/binary'});\n",
              "      const a = document.createElement('a');\n",
              "      a.href = window.URL.createObjectURL(blob);\n",
              "      a.download = filename;\n",
              "      div.appendChild(a);\n",
              "      a.click();\n",
              "      div.remove();\n",
              "    }\n",
              "  "
            ],
            "text/plain": [
              "<IPython.core.display.Javascript object>"
            ]
          },
          "metadata": {}
        },
        {
          "output_type": "display_data",
          "data": {
            "application/javascript": [
              "download(\"download_ac50c85a-efa2-4ed8-9a49-eaa89e9cbc78\", \"05_Bsubtilis_BLAST_results_filtered.csv\", 1528)"
            ],
            "text/plain": [
              "<IPython.core.display.Javascript object>"
            ]
          },
          "metadata": {}
        },
        {
          "output_type": "display_data",
          "data": {
            "application/javascript": [
              "\n",
              "    async function download(id, filename, size) {\n",
              "      if (!google.colab.kernel.accessAllowed) {\n",
              "        return;\n",
              "      }\n",
              "      const div = document.createElement('div');\n",
              "      const label = document.createElement('label');\n",
              "      label.textContent = `Downloading \"${filename}\": `;\n",
              "      div.appendChild(label);\n",
              "      const progress = document.createElement('progress');\n",
              "      progress.max = size;\n",
              "      div.appendChild(progress);\n",
              "      document.body.appendChild(div);\n",
              "\n",
              "      const buffers = [];\n",
              "      let downloaded = 0;\n",
              "\n",
              "      const channel = await google.colab.kernel.comms.open(id);\n",
              "      // Send a message to notify the kernel that we're ready.\n",
              "      channel.send({})\n",
              "\n",
              "      for await (const message of channel.messages) {\n",
              "        // Send a message to notify the kernel that we're ready.\n",
              "        channel.send({})\n",
              "        if (message.buffers) {\n",
              "          for (const buffer of message.buffers) {\n",
              "            buffers.push(buffer);\n",
              "            downloaded += buffer.byteLength;\n",
              "            progress.value = downloaded;\n",
              "          }\n",
              "        }\n",
              "      }\n",
              "      const blob = new Blob(buffers, {type: 'application/binary'});\n",
              "      const a = document.createElement('a');\n",
              "      a.href = window.URL.createObjectURL(blob);\n",
              "      a.download = filename;\n",
              "      div.appendChild(a);\n",
              "      a.click();\n",
              "      div.remove();\n",
              "    }\n",
              "  "
            ],
            "text/plain": [
              "<IPython.core.display.Javascript object>"
            ]
          },
          "metadata": {}
        },
        {
          "output_type": "display_data",
          "data": {
            "application/javascript": [
              "download(\"download_ccac279c-e5e7-4df4-9c07-b80385c80fce\", \"05_Dvulgaris_BLAST_results_filtered.csv\", 3134)"
            ],
            "text/plain": [
              "<IPython.core.display.Javascript object>"
            ]
          },
          "metadata": {}
        },
        {
          "output_type": "display_data",
          "data": {
            "application/javascript": [
              "\n",
              "    async function download(id, filename, size) {\n",
              "      if (!google.colab.kernel.accessAllowed) {\n",
              "        return;\n",
              "      }\n",
              "      const div = document.createElement('div');\n",
              "      const label = document.createElement('label');\n",
              "      label.textContent = `Downloading \"${filename}\": `;\n",
              "      div.appendChild(label);\n",
              "      const progress = document.createElement('progress');\n",
              "      progress.max = size;\n",
              "      div.appendChild(progress);\n",
              "      document.body.appendChild(div);\n",
              "\n",
              "      const buffers = [];\n",
              "      let downloaded = 0;\n",
              "\n",
              "      const channel = await google.colab.kernel.comms.open(id);\n",
              "      // Send a message to notify the kernel that we're ready.\n",
              "      channel.send({})\n",
              "\n",
              "      for await (const message of channel.messages) {\n",
              "        // Send a message to notify the kernel that we're ready.\n",
              "        channel.send({})\n",
              "        if (message.buffers) {\n",
              "          for (const buffer of message.buffers) {\n",
              "            buffers.push(buffer);\n",
              "            downloaded += buffer.byteLength;\n",
              "            progress.value = downloaded;\n",
              "          }\n",
              "        }\n",
              "      }\n",
              "      const blob = new Blob(buffers, {type: 'application/binary'});\n",
              "      const a = document.createElement('a');\n",
              "      a.href = window.URL.createObjectURL(blob);\n",
              "      a.download = filename;\n",
              "      div.appendChild(a);\n",
              "      a.click();\n",
              "      div.remove();\n",
              "    }\n",
              "  "
            ],
            "text/plain": [
              "<IPython.core.display.Javascript object>"
            ]
          },
          "metadata": {}
        },
        {
          "output_type": "display_data",
          "data": {
            "application/javascript": [
              "download(\"download_57bcc8f9-cad6-480b-a364-5ca7c008bde5\", \"05_Llactis_BLAST_results_filtered.csv\", 835)"
            ],
            "text/plain": [
              "<IPython.core.display.Javascript object>"
            ]
          },
          "metadata": {}
        },
        {
          "output_type": "display_data",
          "data": {
            "application/javascript": [
              "\n",
              "    async function download(id, filename, size) {\n",
              "      if (!google.colab.kernel.accessAllowed) {\n",
              "        return;\n",
              "      }\n",
              "      const div = document.createElement('div');\n",
              "      const label = document.createElement('label');\n",
              "      label.textContent = `Downloading \"${filename}\": `;\n",
              "      div.appendChild(label);\n",
              "      const progress = document.createElement('progress');\n",
              "      progress.max = size;\n",
              "      div.appendChild(progress);\n",
              "      document.body.appendChild(div);\n",
              "\n",
              "      const buffers = [];\n",
              "      let downloaded = 0;\n",
              "\n",
              "      const channel = await google.colab.kernel.comms.open(id);\n",
              "      // Send a message to notify the kernel that we're ready.\n",
              "      channel.send({})\n",
              "\n",
              "      for await (const message of channel.messages) {\n",
              "        // Send a message to notify the kernel that we're ready.\n",
              "        channel.send({})\n",
              "        if (message.buffers) {\n",
              "          for (const buffer of message.buffers) {\n",
              "            buffers.push(buffer);\n",
              "            downloaded += buffer.byteLength;\n",
              "            progress.value = downloaded;\n",
              "          }\n",
              "        }\n",
              "      }\n",
              "      const blob = new Blob(buffers, {type: 'application/binary'});\n",
              "      const a = document.createElement('a');\n",
              "      a.href = window.URL.createObjectURL(blob);\n",
              "      a.download = filename;\n",
              "      div.appendChild(a);\n",
              "      a.click();\n",
              "      div.remove();\n",
              "    }\n",
              "  "
            ],
            "text/plain": [
              "<IPython.core.display.Javascript object>"
            ]
          },
          "metadata": {}
        },
        {
          "output_type": "display_data",
          "data": {
            "application/javascript": [
              "download(\"download_34490d8d-63ea-4a7e-add2-dbdb4273476b\", \"05_Pfluorescens_BLAST_results_filtered.csv\", 347)"
            ],
            "text/plain": [
              "<IPython.core.display.Javascript object>"
            ]
          },
          "metadata": {}
        },
        {
          "output_type": "display_data",
          "data": {
            "application/javascript": [
              "\n",
              "    async function download(id, filename, size) {\n",
              "      if (!google.colab.kernel.accessAllowed) {\n",
              "        return;\n",
              "      }\n",
              "      const div = document.createElement('div');\n",
              "      const label = document.createElement('label');\n",
              "      label.textContent = `Downloading \"${filename}\": `;\n",
              "      div.appendChild(label);\n",
              "      const progress = document.createElement('progress');\n",
              "      progress.max = size;\n",
              "      div.appendChild(progress);\n",
              "      document.body.appendChild(div);\n",
              "\n",
              "      const buffers = [];\n",
              "      let downloaded = 0;\n",
              "\n",
              "      const channel = await google.colab.kernel.comms.open(id);\n",
              "      // Send a message to notify the kernel that we're ready.\n",
              "      channel.send({})\n",
              "\n",
              "      for await (const message of channel.messages) {\n",
              "        // Send a message to notify the kernel that we're ready.\n",
              "        channel.send({})\n",
              "        if (message.buffers) {\n",
              "          for (const buffer of message.buffers) {\n",
              "            buffers.push(buffer);\n",
              "            downloaded += buffer.byteLength;\n",
              "            progress.value = downloaded;\n",
              "          }\n",
              "        }\n",
              "      }\n",
              "      const blob = new Blob(buffers, {type: 'application/binary'});\n",
              "      const a = document.createElement('a');\n",
              "      a.href = window.URL.createObjectURL(blob);\n",
              "      a.download = filename;\n",
              "      div.appendChild(a);\n",
              "      a.click();\n",
              "      div.remove();\n",
              "    }\n",
              "  "
            ],
            "text/plain": [
              "<IPython.core.display.Javascript object>"
            ]
          },
          "metadata": {}
        },
        {
          "output_type": "display_data",
          "data": {
            "application/javascript": [
              "download(\"download_18a743b1-eee0-44ae-b843-eccb44fabbf6\", \"05_Pputida_BLAST_results_filtered.csv\", 2094)"
            ],
            "text/plain": [
              "<IPython.core.display.Javascript object>"
            ]
          },
          "metadata": {}
        },
        {
          "output_type": "display_data",
          "data": {
            "application/javascript": [
              "\n",
              "    async function download(id, filename, size) {\n",
              "      if (!google.colab.kernel.accessAllowed) {\n",
              "        return;\n",
              "      }\n",
              "      const div = document.createElement('div');\n",
              "      const label = document.createElement('label');\n",
              "      label.textContent = `Downloading \"${filename}\": `;\n",
              "      div.appendChild(label);\n",
              "      const progress = document.createElement('progress');\n",
              "      progress.max = size;\n",
              "      div.appendChild(progress);\n",
              "      document.body.appendChild(div);\n",
              "\n",
              "      const buffers = [];\n",
              "      let downloaded = 0;\n",
              "\n",
              "      const channel = await google.colab.kernel.comms.open(id);\n",
              "      // Send a message to notify the kernel that we're ready.\n",
              "      channel.send({})\n",
              "\n",
              "      for await (const message of channel.messages) {\n",
              "        // Send a message to notify the kernel that we're ready.\n",
              "        channel.send({})\n",
              "        if (message.buffers) {\n",
              "          for (const buffer of message.buffers) {\n",
              "            buffers.push(buffer);\n",
              "            downloaded += buffer.byteLength;\n",
              "            progress.value = downloaded;\n",
              "          }\n",
              "        }\n",
              "      }\n",
              "      const blob = new Blob(buffers, {type: 'application/binary'});\n",
              "      const a = document.createElement('a');\n",
              "      a.href = window.URL.createObjectURL(blob);\n",
              "      a.download = filename;\n",
              "      div.appendChild(a);\n",
              "      a.click();\n",
              "      div.remove();\n",
              "    }\n",
              "  "
            ],
            "text/plain": [
              "<IPython.core.display.Javascript object>"
            ]
          },
          "metadata": {}
        },
        {
          "output_type": "display_data",
          "data": {
            "application/javascript": [
              "download(\"download_32a4681b-a4d9-4ba4-ab8d-f7106c9ef9b5\", \"05_Senterica_BLAST_results_filtered.csv\", 2056)"
            ],
            "text/plain": [
              "<IPython.core.display.Javascript object>"
            ]
          },
          "metadata": {}
        },
        {
          "output_type": "display_data",
          "data": {
            "application/javascript": [
              "\n",
              "    async function download(id, filename, size) {\n",
              "      if (!google.colab.kernel.accessAllowed) {\n",
              "        return;\n",
              "      }\n",
              "      const div = document.createElement('div');\n",
              "      const label = document.createElement('label');\n",
              "      label.textContent = `Downloading \"${filename}\": `;\n",
              "      div.appendChild(label);\n",
              "      const progress = document.createElement('progress');\n",
              "      progress.max = size;\n",
              "      div.appendChild(progress);\n",
              "      document.body.appendChild(div);\n",
              "\n",
              "      const buffers = [];\n",
              "      let downloaded = 0;\n",
              "\n",
              "      const channel = await google.colab.kernel.comms.open(id);\n",
              "      // Send a message to notify the kernel that we're ready.\n",
              "      channel.send({})\n",
              "\n",
              "      for await (const message of channel.messages) {\n",
              "        // Send a message to notify the kernel that we're ready.\n",
              "        channel.send({})\n",
              "        if (message.buffers) {\n",
              "          for (const buffer of message.buffers) {\n",
              "            buffers.push(buffer);\n",
              "            downloaded += buffer.byteLength;\n",
              "            progress.value = downloaded;\n",
              "          }\n",
              "        }\n",
              "      }\n",
              "      const blob = new Blob(buffers, {type: 'application/binary'});\n",
              "      const a = document.createElement('a');\n",
              "      a.href = window.URL.createObjectURL(blob);\n",
              "      a.download = filename;\n",
              "      div.appendChild(a);\n",
              "      a.click();\n",
              "      div.remove();\n",
              "    }\n",
              "  "
            ],
            "text/plain": [
              "<IPython.core.display.Javascript object>"
            ]
          },
          "metadata": {}
        },
        {
          "output_type": "display_data",
          "data": {
            "application/javascript": [
              "download(\"download_72806b7e-720f-4e3e-b1fe-85a0a76fb7b9\", \"05_Srubiginosus_BLAST_results_filtered.csv\", 2856)"
            ],
            "text/plain": [
              "<IPython.core.display.Javascript object>"
            ]
          },
          "metadata": {}
        },
        {
          "output_type": "display_data",
          "data": {
            "application/javascript": [
              "\n",
              "    async function download(id, filename, size) {\n",
              "      if (!google.colab.kernel.accessAllowed) {\n",
              "        return;\n",
              "      }\n",
              "      const div = document.createElement('div');\n",
              "      const label = document.createElement('label');\n",
              "      label.textContent = `Downloading \"${filename}\": `;\n",
              "      div.appendChild(label);\n",
              "      const progress = document.createElement('progress');\n",
              "      progress.max = size;\n",
              "      div.appendChild(progress);\n",
              "      document.body.appendChild(div);\n",
              "\n",
              "      const buffers = [];\n",
              "      let downloaded = 0;\n",
              "\n",
              "      const channel = await google.colab.kernel.comms.open(id);\n",
              "      // Send a message to notify the kernel that we're ready.\n",
              "      channel.send({})\n",
              "\n",
              "      for await (const message of channel.messages) {\n",
              "        // Send a message to notify the kernel that we're ready.\n",
              "        channel.send({})\n",
              "        if (message.buffers) {\n",
              "          for (const buffer of message.buffers) {\n",
              "            buffers.push(buffer);\n",
              "            downloaded += buffer.byteLength;\n",
              "            progress.value = downloaded;\n",
              "          }\n",
              "        }\n",
              "      }\n",
              "      const blob = new Blob(buffers, {type: 'application/binary'});\n",
              "      const a = document.createElement('a');\n",
              "      a.href = window.URL.createObjectURL(blob);\n",
              "      a.download = filename;\n",
              "      div.appendChild(a);\n",
              "      a.click();\n",
              "      div.remove();\n",
              "    }\n",
              "  "
            ],
            "text/plain": [
              "<IPython.core.display.Javascript object>"
            ]
          },
          "metadata": {}
        },
        {
          "output_type": "display_data",
          "data": {
            "application/javascript": [
              "download(\"download_7dadaa01-1f8b-4ee2-9256-108acdc063ed\", \"05_Tthermophilus_BLAST_results_filtered.csv\", 353)"
            ],
            "text/plain": [
              "<IPython.core.display.Javascript object>"
            ]
          },
          "metadata": {}
        }
      ]
    },
    {
      "cell_type": "markdown",
      "metadata": {
        "id": "vFDGipHLPnJI"
      },
      "source": [
        "# Data files creation"
      ]
    },
    {
      "cell_type": "markdown",
      "metadata": {
        "id": "MCAqBMhOkKqp"
      },
      "source": [
        "The entries names in BLASTp file need to be connected with the AA and SS sequences in the ss.txt file (which has been preprocessed into a dataframe).\n",
        "\n",
        "A single Query entry can have multiple DB entries, separated by '_' symbol. Not only the DB entries need to be separated from each other, but the Query entries need to be multiplied so that each DB entry has a Query entry pair. The function below will tackle this issue"
      ]
    },
    {
      "cell_type": "code",
      "metadata": {
        "id": "8uaw5d_hPlDg"
      },
      "source": [
        "def create_data_file(filtered_BLASTp_file, db_name, q_name='Ecoli', download=False):\n",
        "  '''\n",
        "  Create a data file from the filtered BLASTp dataframe. Data files will have AA and SS sequences for all PDB entries in the BLASTp file in FASTA format\n",
        "\n",
        "  Query and Database names need to be specified\n",
        "\n",
        "  Optionally, the result file will be downloaded to the local disk\n",
        "  '''\n",
        "  # create lists\n",
        "  DB_list = [filtered_BLASTp_file.loc[i,'DB_Seq'].split('_') for i in range(len(filtered_BLASTp_file))]    # list of DB sequences separated from each other\n",
        "  multiplier_list = [filtered_BLASTp_file.loc[i,'DB_Seq'].count('_') + 1 for i in range(len(filtered_BLASTp_file))]    # list of integers to multiply Query entries\n",
        "  Q_list = list(filtered_BLASTp_file['Query'])    # list of Query entries\n",
        "  QS_list = list(filtered_BLASTp_file['QueryStart'].astype(int))    # list of Query start positions\n",
        "  QE_list = list(filtered_BLASTp_file['QueryEnd'].astype(int))    # list of Query end positions\n",
        "  DBS_list = list(filtered_BLASTp_file['DB_SeqStart'].astype(int))    # list of DB start positions\n",
        "  DBE_list = list(filtered_BLASTp_file['DB_SeqEnd'].astype(int))    # list of DB end positions\n",
        "\n",
        "  # create lines for Query entries\n",
        "  Q_AA_line = ''\n",
        "  Q_SS_line = ''\n",
        "  for Q, QS, QE, mult in zip(Q_list, QS_list, QE_list, multiplier_list):\n",
        "    AA_seq = d_processed.loc[Q]['AA_seq'][QS-1:QE]\n",
        "    SS_seq = d_processed.loc[Q]['SS_seq'][QS-1:QE]\n",
        "    Q_AA_line += ('*' + AA_seq) * mult\n",
        "    Q_SS_line += ('*' + SS_seq) * mult\n",
        "\n",
        "  # create lines for DB entries\n",
        "  DB_AA_line = ''\n",
        "  DB_SS_line = ''\n",
        "  for DB, DBS, DBE in zip(DB_list, DBS_list, DBE_list):\n",
        "    AA_line = ''\n",
        "    SS_line = ''\n",
        "    for DB_i in DB:\n",
        "      AA_seq = d_processed.loc[DB_i]['AA_seq'][DBS-1:DBE]\n",
        "      SS_seq = d_processed.loc[DB_i]['SS_seq'][DBS-1:DBE]\n",
        "      AA_line += ('*' + AA_seq)\n",
        "      SS_line += ('*' + SS_seq)\n",
        "    DB_AA_line += AA_line\n",
        "    DB_SS_line += SS_line\n",
        "\n",
        "  # make data files with option to save in FASTA format\n",
        "  datafiles = {}\n",
        "  Q_data_file_name = '06_' + db_name + '_' + q_name + '_datafile.fas'\n",
        "  DB_data_file_name = '06_' + db_name + '_' + db_name + '_datafile.fas'\n",
        "  for n, aa, ss in zip([Q_data_file_name, DB_data_file_name],\n",
        "                       [Q_AA_line, DB_AA_line],\n",
        "                       [Q_SS_line, DB_SS_line]):\n",
        "    datafiles[n] = open(n, 'w')\n",
        "    datafiles[n].write('>AA\\n')\n",
        "    datafiles[n].write(aa + '\\n')\n",
        "    datafiles[n].write('>SS\\n')\n",
        "    datafiles[n].write(ss)\n",
        "    datafiles[n].close()\n",
        "    if download == True:\n",
        "      files.download(n)\n",
        "\n",
        "  return datafiles"
      ],
      "execution_count": null,
      "outputs": []
    },
    {
      "cell_type": "code",
      "metadata": {
        "colab": {
          "base_uri": "https://localhost:8080/",
          "height": 235
        },
        "id": "Hi-H7y1oyN2l",
        "outputId": "6e7b1768-a769-445b-85ca-173701cb5130"
      },
      "source": [
        "datafiles = {}\n",
        "for BLASTp, species_name_short in zip(filtered_BLASTps.keys(), species_names_short):\n",
        "  print(species_name_short)\n",
        "  datafiles[species_name_short] = create_data_file(filtered_BLASTps[BLASTp], species_name_short, q_name='Ecoli', download=True)"
      ],
      "execution_count": 9,
      "outputs": [
        {
          "output_type": "error",
          "ename": "NameError",
          "evalue": "ignored",
          "traceback": [
            "\u001b[0;31m---------------------------------------------------------------------------\u001b[0m",
            "\u001b[0;31mNameError\u001b[0m                                 Traceback (most recent call last)",
            "\u001b[0;32m<ipython-input-9-e63053fcbb4f>\u001b[0m in \u001b[0;36m<module>\u001b[0;34m()\u001b[0m\n\u001b[1;32m      1\u001b[0m \u001b[0mdatafiles\u001b[0m \u001b[0;34m=\u001b[0m \u001b[0;34m{\u001b[0m\u001b[0;34m}\u001b[0m\u001b[0;34m\u001b[0m\u001b[0;34m\u001b[0m\u001b[0m\n\u001b[0;32m----> 2\u001b[0;31m \u001b[0;32mfor\u001b[0m \u001b[0mBLASTp\u001b[0m\u001b[0;34m,\u001b[0m \u001b[0mspecies_name_short\u001b[0m \u001b[0;32min\u001b[0m \u001b[0mzip\u001b[0m\u001b[0;34m(\u001b[0m\u001b[0mfiltered_BLASTps\u001b[0m\u001b[0;34m.\u001b[0m\u001b[0mkeys\u001b[0m\u001b[0;34m(\u001b[0m\u001b[0;34m)\u001b[0m\u001b[0;34m,\u001b[0m \u001b[0mspecies_names_short\u001b[0m\u001b[0;34m)\u001b[0m\u001b[0;34m:\u001b[0m\u001b[0;34m\u001b[0m\u001b[0;34m\u001b[0m\u001b[0m\n\u001b[0m\u001b[1;32m      3\u001b[0m   \u001b[0mprint\u001b[0m\u001b[0;34m(\u001b[0m\u001b[0mspecies_name_short\u001b[0m\u001b[0;34m)\u001b[0m\u001b[0;34m\u001b[0m\u001b[0;34m\u001b[0m\u001b[0m\n\u001b[1;32m      4\u001b[0m   \u001b[0mdatafiles\u001b[0m\u001b[0;34m[\u001b[0m\u001b[0mspecies_name_short\u001b[0m\u001b[0;34m]\u001b[0m \u001b[0;34m=\u001b[0m \u001b[0mcreate_data_file\u001b[0m\u001b[0;34m(\u001b[0m\u001b[0mfiltered_BLASTps\u001b[0m\u001b[0;34m[\u001b[0m\u001b[0mBLASTp\u001b[0m\u001b[0;34m]\u001b[0m\u001b[0;34m,\u001b[0m \u001b[0mspecies_name_short\u001b[0m\u001b[0;34m,\u001b[0m \u001b[0mq_name\u001b[0m\u001b[0;34m=\u001b[0m\u001b[0;34m'Ecoli'\u001b[0m\u001b[0;34m,\u001b[0m \u001b[0mdownload\u001b[0m\u001b[0;34m=\u001b[0m\u001b[0;32mTrue\u001b[0m\u001b[0;34m)\u001b[0m\u001b[0;34m\u001b[0m\u001b[0;34m\u001b[0m\u001b[0m\n",
            "\u001b[0;31mNameError\u001b[0m: name 'filtered_BLASTps' is not defined"
          ]
        }
      ]
    },
    {
      "cell_type": "code",
      "metadata": {
        "colab": {
          "base_uri": "https://localhost:8080/",
          "height": 72
        },
        "id": "84AHN-0KDu8Q",
        "outputId": "bbfaae19-2270-484b-927d-7da10d75d295"
      },
      "source": [
        "create_data_file(filtered_BLASTps['TT'], 'Tthermophilus', 'Ecoli', True)"
      ],
      "execution_count": null,
      "outputs": [
        {
          "output_type": "display_data",
          "data": {
            "application/javascript": [
              "\n",
              "    async function download(id, filename, size) {\n",
              "      if (!google.colab.kernel.accessAllowed) {\n",
              "        return;\n",
              "      }\n",
              "      const div = document.createElement('div');\n",
              "      const label = document.createElement('label');\n",
              "      label.textContent = `Downloading \"${filename}\": `;\n",
              "      div.appendChild(label);\n",
              "      const progress = document.createElement('progress');\n",
              "      progress.max = size;\n",
              "      div.appendChild(progress);\n",
              "      document.body.appendChild(div);\n",
              "\n",
              "      const buffers = [];\n",
              "      let downloaded = 0;\n",
              "\n",
              "      const channel = await google.colab.kernel.comms.open(id);\n",
              "      // Send a message to notify the kernel that we're ready.\n",
              "      channel.send({})\n",
              "\n",
              "      for await (const message of channel.messages) {\n",
              "        // Send a message to notify the kernel that we're ready.\n",
              "        channel.send({})\n",
              "        if (message.buffers) {\n",
              "          for (const buffer of message.buffers) {\n",
              "            buffers.push(buffer);\n",
              "            downloaded += buffer.byteLength;\n",
              "            progress.value = downloaded;\n",
              "          }\n",
              "        }\n",
              "      }\n",
              "      const blob = new Blob(buffers, {type: 'application/binary'});\n",
              "      const a = document.createElement('a');\n",
              "      a.href = window.URL.createObjectURL(blob);\n",
              "      a.download = filename;\n",
              "      div.appendChild(a);\n",
              "      a.click();\n",
              "      div.remove();\n",
              "    }\n",
              "  "
            ],
            "text/plain": [
              "<IPython.core.display.Javascript object>"
            ]
          },
          "metadata": {}
        },
        {
          "output_type": "display_data",
          "data": {
            "application/javascript": [
              "download(\"download_3f39d02a-400e-4097-8b16-f566681bf6b1\", \"06_Tthermophilus_Ecoli_datafile.fas\", 3567)"
            ],
            "text/plain": [
              "<IPython.core.display.Javascript object>"
            ]
          },
          "metadata": {}
        },
        {
          "output_type": "display_data",
          "data": {
            "application/javascript": [
              "\n",
              "    async function download(id, filename, size) {\n",
              "      if (!google.colab.kernel.accessAllowed) {\n",
              "        return;\n",
              "      }\n",
              "      const div = document.createElement('div');\n",
              "      const label = document.createElement('label');\n",
              "      label.textContent = `Downloading \"${filename}\": `;\n",
              "      div.appendChild(label);\n",
              "      const progress = document.createElement('progress');\n",
              "      progress.max = size;\n",
              "      div.appendChild(progress);\n",
              "      document.body.appendChild(div);\n",
              "\n",
              "      const buffers = [];\n",
              "      let downloaded = 0;\n",
              "\n",
              "      const channel = await google.colab.kernel.comms.open(id);\n",
              "      // Send a message to notify the kernel that we're ready.\n",
              "      channel.send({})\n",
              "\n",
              "      for await (const message of channel.messages) {\n",
              "        // Send a message to notify the kernel that we're ready.\n",
              "        channel.send({})\n",
              "        if (message.buffers) {\n",
              "          for (const buffer of message.buffers) {\n",
              "            buffers.push(buffer);\n",
              "            downloaded += buffer.byteLength;\n",
              "            progress.value = downloaded;\n",
              "          }\n",
              "        }\n",
              "      }\n",
              "      const blob = new Blob(buffers, {type: 'application/binary'});\n",
              "      const a = document.createElement('a');\n",
              "      a.href = window.URL.createObjectURL(blob);\n",
              "      a.download = filename;\n",
              "      div.appendChild(a);\n",
              "      a.click();\n",
              "      div.remove();\n",
              "    }\n",
              "  "
            ],
            "text/plain": [
              "<IPython.core.display.Javascript object>"
            ]
          },
          "metadata": {}
        },
        {
          "output_type": "display_data",
          "data": {
            "application/javascript": [
              "download(\"download_e0a5185b-0efa-4c97-84f0-47b859917f4c\", \"06_Tthermophilus_Tthermophilus_datafile.fas\", 3567)"
            ],
            "text/plain": [
              "<IPython.core.display.Javascript object>"
            ]
          },
          "metadata": {}
        },
        {
          "output_type": "execute_result",
          "data": {
            "text/plain": [
              "{'06_Tthermophilus_Ecoli_datafile.fas': <_io.TextIOWrapper name='06_Tthermophilus_Ecoli_datafile.fas' mode='w' encoding='UTF-8'>,\n",
              " '06_Tthermophilus_Tthermophilus_datafile.fas': <_io.TextIOWrapper name='06_Tthermophilus_Tthermophilus_datafile.fas' mode='w' encoding='UTF-8'>}"
            ]
          },
          "metadata": {},
          "execution_count": 20
        }
      ]
    },
    {
      "cell_type": "markdown",
      "metadata": {
        "id": "QT1naxdC508m"
      },
      "source": [
        "Option to upload data files to avoid previous steps:"
      ]
    },
    {
      "cell_type": "code",
      "metadata": {
        "colab": {
          "resources": {
            "http://localhost:8080/nbextensions/google.colab/files.js": {
              "data": "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",
              "headers": [
                [
                  "content-type",
                  "application/javascript"
                ]
              ],
              "ok": true,
              "status": 200,
              "status_text": ""
            }
          },
          "base_uri": "https://localhost:8080/",
          "height": 594
        },
        "id": "2hwPqXZp50m6",
        "outputId": "b4faf099-00f4-4bac-c032-be87b3501ed2"
      },
      "source": [
        "uploaded = files.upload()\n",
        "\n",
        "datafiles = {}\n",
        "f = 0\n",
        "for i, species_name in enumerate(species_names_short):\n",
        "  d = {}\n",
        "  while f <= i*2:\n",
        "    d[list(uploaded.keys())[f]] = uploaded[list(uploaded.keys())[f]].decode('utf-8').split('\\n')\n",
        "    d[list(uploaded.keys())[f+1]] = uploaded[list(uploaded.keys())[f+1]].decode('utf-8').split('\\n')\n",
        "    f += 2\n",
        "  datafiles[species_name] = d"
      ],
      "execution_count": 10,
      "outputs": [
        {
          "output_type": "display_data",
          "data": {
            "text/plain": [
              "<IPython.core.display.HTML object>"
            ],
            "text/html": [
              "\n",
              "     <input type=\"file\" id=\"files-059a9b85-1245-4989-aa87-0844c6563fc7\" name=\"files[]\" multiple disabled\n",
              "        style=\"border:none\" />\n",
              "     <output id=\"result-059a9b85-1245-4989-aa87-0844c6563fc7\">\n",
              "      Upload widget is only available when the cell has been executed in the\n",
              "      current browser session. Please rerun this cell to enable.\n",
              "      </output>\n",
              "      <script src=\"/nbextensions/google.colab/files.js\"></script> "
            ]
          },
          "metadata": {}
        },
        {
          "output_type": "stream",
          "name": "stdout",
          "text": [
            "Saving 06_Bsubtilis_Bsubtilis_datafile_ALL.fas to 06_Bsubtilis_Bsubtilis_datafile_ALL.fas\n",
            "Saving 06_Bsubtilis_Ecoli_datafile_ALL.fas to 06_Bsubtilis_Ecoli_datafile_ALL.fas\n",
            "Saving 06_Dvulgaris_Dvulgaris_datafile_ALL.fas to 06_Dvulgaris_Dvulgaris_datafile_ALL.fas\n",
            "Saving 06_Dvulgaris_Ecoli_datafile_ALL.fas to 06_Dvulgaris_Ecoli_datafile_ALL.fas\n",
            "Saving 06_Llactis_Ecoli_datafile_ALL.fas to 06_Llactis_Ecoli_datafile_ALL.fas\n",
            "Saving 06_Llactis_Llactis_datafile_ALL.fas to 06_Llactis_Llactis_datafile_ALL.fas\n",
            "Saving 06_Pfluorescens_Ecoli_datafile_ALL.fas to 06_Pfluorescens_Ecoli_datafile_ALL.fas\n",
            "Saving 06_Pfluorescens_Pfluorescens_datafile_ALL.fas to 06_Pfluorescens_Pfluorescens_datafile_ALL.fas\n",
            "Saving 06_Pputida_Ecoli_datafile_ALL.fas to 06_Pputida_Ecoli_datafile_ALL.fas\n",
            "Saving 06_Pputida_Pputida_datafile_ALL.fas to 06_Pputida_Pputida_datafile_ALL.fas\n",
            "Saving 06_Senterica_Ecoli_datafile_ALL.fas to 06_Senterica_Ecoli_datafile_ALL.fas\n",
            "Saving 06_Senterica_Senterica_datafile_ALL.fas to 06_Senterica_Senterica_datafile_ALL.fas\n",
            "Saving 06_Srubiginosus_Ecoli_datafile_ALL.fas to 06_Srubiginosus_Ecoli_datafile_ALL.fas\n",
            "Saving 06_Srubiginosus_Srubiginosus_datafile_ALL.fas to 06_Srubiginosus_Srubiginosus_datafile_ALL.fas\n",
            "Saving 06_Tthermophilus_Ecoli_datafile_ALL.fas to 06_Tthermophilus_Ecoli_datafile_ALL.fas\n",
            "Saving 06_Tthermophilus_Tthermophilus_datafile_ALL.fas to 06_Tthermophilus_Tthermophilus_datafile_ALL.fas\n"
          ]
        }
      ]
    },
    {
      "cell_type": "markdown",
      "metadata": {
        "id": "lBOVcmTRmhXw"
      },
      "source": [
        "We will also create an Datafile class"
      ]
    },
    {
      "cell_type": "code",
      "metadata": {
        "id": "jDmvL2N4mkXd"
      },
      "source": [
        "class Datafile:\n",
        "  \"\"\"\n",
        "  AA and SS sequences container\n",
        "  \"\"\"\n",
        "  def __init__(self, source, expr_sys):\n",
        "    self.source = source\n",
        "    self.source_short = source[0] + source.split(' ')[1]\n",
        "    self.expr_sys = expr_sys\n",
        "    self.expr_sys_short = expr_sys[0] + expr_sys.split(' ')[1]\n",
        "    self.fasta_file = datafiles[self.source_short]['06_%s_%s_datafile_ALL.fas' %(self.source_short, self.expr_sys_short)]\n",
        "    self.AA_seq = self.fasta_file[1].replace('*', '')\n",
        "    self.SS_seq = self.fasta_file[3].replace('*', '')\n",
        "    self.SS_seq_3 = self.SS_seq.translate(str.maketrans(SS_types_mapping))\n",
        "    self.len = len(self.AA_seq)\n",
        "\n",
        "  def AA_count(self, aa):\n",
        "    return self.AA_seq.count(aa)\n",
        "\n",
        "  def SS_count(self, ss):\n",
        "    return self.SS_seq.count(ss)"
      ],
      "execution_count": 11,
      "outputs": []
    },
    {
      "cell_type": "markdown",
      "metadata": {
        "id": "zBb8-VPBZ4BO"
      },
      "source": [
        "We will create a dataframe which will contain the original sequences and will be used to calculate JS divergence"
      ]
    },
    {
      "cell_type": "code",
      "metadata": {
        "id": "H-at1Jo1aWRq"
      },
      "source": [
        "AA_native_list = []\n",
        "AA_recomb_list = []\n",
        "SS_native_list = []\n",
        "SS_recomb_list = []\n",
        "\n",
        "for species_name in species_names:\n",
        "  datafile_native = Datafile(source=species_name, expr_sys=species_name)\n",
        "  AA_native_list.append(datafile_native.AA_seq)\n",
        "  SS_native_list.append(datafile_native.SS_seq)\n",
        "  datafile_recomb = Datafile(source=species_name, expr_sys='Escherichia coli')\n",
        "  AA_recomb_list.append(datafile_recomb.AA_seq)\n",
        "  SS_recomb_list.append(datafile_recomb.SS_seq)\n",
        "\n",
        "protein_SS_df = pd.DataFrame({'AA_native':AA_native_list, 'SS_native':SS_native_list,\n",
        "                              'AA_recomb':AA_recomb_list, 'SS_recomb':SS_recomb_list}, index=species_names)"
      ],
      "execution_count": 12,
      "outputs": []
    },
    {
      "cell_type": "markdown",
      "metadata": {
        "id": "wQZ1txB1xsuM"
      },
      "source": [
        "# Count matrix creation"
      ]
    },
    {
      "cell_type": "markdown",
      "metadata": {
        "id": "mKwCQOdl7EKN"
      },
      "source": [
        "No we have data for every species with \"native\" and *E. coli* expression systems. We will create count matrices which will show how often each AA corresponds to each SS in the data file"
      ]
    },
    {
      "cell_type": "markdown",
      "metadata": {
        "id": "nfpg2ous7yNG"
      },
      "source": [
        "The matrices will have fixed levels, because some rare AA and SS might not be in all data files"
      ]
    },
    {
      "cell_type": "code",
      "metadata": {
        "id": "MWcNVgIqkl3J"
      },
      "source": [
        "def get_count_matrix(AA_seq, SS_seq):\n",
        "\n",
        "  AA_seq = np.array([*AA_seq])\n",
        "  SS_seq = np.array([*SS_seq])\n",
        "\n",
        "  counts = np.array([np.sum([aa==AA and ss==SS for aa, ss in zip(AA_seq, SS_seq)]) \\\n",
        "                     for SS in SS8_types for AA in AA_types]).reshape((len(SS8_types),len(AA_types)))\n",
        "\n",
        "  count_matrix = pd.DataFrame(counts, columns=AA_types, index=SS8_types)\n",
        "\n",
        "  return count_matrix"
      ],
      "execution_count": 13,
      "outputs": []
    },
    {
      "cell_type": "code",
      "metadata": {
        "colab": {
          "base_uri": "https://localhost:8080/"
        },
        "id": "Wb2Oi5cgJJyb",
        "outputId": "973c09f7-a352-4be1-9bbf-d795e7609de1"
      },
      "source": [
        "protein_SS_df['CM8_native'] = [*map(get_count_matrix, [AA_seq for AA_seq in protein_SS_df.loc[:, 'AA_native']],\n",
        "                                    tqdm([SS_seq for SS_seq in protein_SS_df.loc[:, 'SS_native']]))]"
      ],
      "execution_count": 14,
      "outputs": [
        {
          "output_type": "stream",
          "name": "stderr",
          "text": [
            " 88%|████████▊ | 7/8 [00:05<00:00,  1.31it/s]\n"
          ]
        }
      ]
    },
    {
      "cell_type": "code",
      "metadata": {
        "colab": {
          "base_uri": "https://localhost:8080/"
        },
        "id": "Vq20WIsSffIT",
        "outputId": "5b18920a-6b78-4957-9187-e2be40e21ba9"
      },
      "source": [
        "protein_SS_df['CM8_recomb'] = [*map(get_count_matrix, [AA_seq for AA_seq in protein_SS_df.loc[:, 'AA_recomb']],\n",
        "                                    tqdm([SS_seq for SS_seq in protein_SS_df.loc[:, 'SS_recomb']]))]"
      ],
      "execution_count": 15,
      "outputs": [
        {
          "output_type": "stream",
          "name": "stderr",
          "text": [
            " 88%|████████▊ | 7/8 [02:13<00:19, 19.12s/it]\n"
          ]
        }
      ]
    },
    {
      "cell_type": "code",
      "metadata": {
        "id": "tGnWmsl-pQmW"
      },
      "source": [
        "def change_to_SS3(count_matrix_8):\n",
        "  count_matrix_8 = count_matrix_8.T\n",
        "  count_matrix_3 = pd.DataFrame(np.zeros((len(AA_types), len(SS3_types))), columns=SS3_types, index=AA_types)\n",
        "  count_matrix_3.H = count_matrix_8.H + count_matrix_8.I + count_matrix_8.G\n",
        "  count_matrix_3.E = count_matrix_8.E + count_matrix_8.B\n",
        "  count_matrix_3.C = count_matrix_8.C + count_matrix_8.S + count_matrix_8['T']\n",
        "  return count_matrix_3.T"
      ],
      "execution_count": 16,
      "outputs": []
    },
    {
      "cell_type": "code",
      "metadata": {
        "id": "LyuM3VBpSZrs"
      },
      "source": [
        "protein_SS_df['CM3_native'] = [*map(change_to_SS3, protein_SS_df.loc[:, 'CM8_native'])]\n",
        "protein_SS_df['CM3_recomb']  = [*map(change_to_SS3, protein_SS_df.loc[:, 'CM8_recomb'])]"
      ],
      "execution_count": 17,
      "outputs": []
    },
    {
      "cell_type": "code",
      "metadata": {
        "id": "X35VE652QWYQ"
      },
      "source": [
        "protein_SS_df.to_pickle('protein_SS_df.pkl')"
      ],
      "execution_count": 18,
      "outputs": []
    },
    {
      "cell_type": "code",
      "metadata": {
        "colab": {
          "base_uri": "https://localhost:8080/",
          "height": 17
        },
        "id": "z-R9J6PaWqL7",
        "outputId": "8a7863d1-dbb1-472f-ec0f-a620b2ae7853"
      },
      "source": [
        "files.download('protein_SS_df.pkl')"
      ],
      "execution_count": 19,
      "outputs": [
        {
          "output_type": "display_data",
          "data": {
            "text/plain": [
              "<IPython.core.display.Javascript object>"
            ],
            "application/javascript": [
              "\n",
              "    async function download(id, filename, size) {\n",
              "      if (!google.colab.kernel.accessAllowed) {\n",
              "        return;\n",
              "      }\n",
              "      const div = document.createElement('div');\n",
              "      const label = document.createElement('label');\n",
              "      label.textContent = `Downloading \"${filename}\": `;\n",
              "      div.appendChild(label);\n",
              "      const progress = document.createElement('progress');\n",
              "      progress.max = size;\n",
              "      div.appendChild(progress);\n",
              "      document.body.appendChild(div);\n",
              "\n",
              "      const buffers = [];\n",
              "      let downloaded = 0;\n",
              "\n",
              "      const channel = await google.colab.kernel.comms.open(id);\n",
              "      // Send a message to notify the kernel that we're ready.\n",
              "      channel.send({})\n",
              "\n",
              "      for await (const message of channel.messages) {\n",
              "        // Send a message to notify the kernel that we're ready.\n",
              "        channel.send({})\n",
              "        if (message.buffers) {\n",
              "          for (const buffer of message.buffers) {\n",
              "            buffers.push(buffer);\n",
              "            downloaded += buffer.byteLength;\n",
              "            progress.value = downloaded;\n",
              "          }\n",
              "        }\n",
              "      }\n",
              "      const blob = new Blob(buffers, {type: 'application/binary'});\n",
              "      const a = document.createElement('a');\n",
              "      a.href = window.URL.createObjectURL(blob);\n",
              "      a.download = filename;\n",
              "      div.appendChild(a);\n",
              "      a.click();\n",
              "      div.remove();\n",
              "    }\n",
              "  "
            ]
          },
          "metadata": {}
        },
        {
          "output_type": "display_data",
          "data": {
            "text/plain": [
              "<IPython.core.display.Javascript object>"
            ],
            "application/javascript": [
              "download(\"download_aa3a6d43-e52b-4f3c-94e5-428480aab3b9\", \"protein_SS_df.pkl\", 2569051)"
            ]
          },
          "metadata": {}
        }
      ]
    },
    {
      "cell_type": "markdown",
      "metadata": {
        "id": "2WuvELPgTxSR"
      },
      "source": [
        "# Matrix comparison"
      ]
    },
    {
      "cell_type": "markdown",
      "metadata": {
        "id": "RTIKluGXb273"
      },
      "source": [
        "We will calculate [Jensen–Shannon divergence](https://en.wikipedia.org/wiki/Jensen%E2%80%93Shannon_divergence) for each Protein origin species between matrices with \"native\" and *E. coli* Expression systems"
      ]
    },
    {
      "cell_type": "code",
      "metadata": {
        "id": "JbTi3wMebc5e"
      },
      "source": [
        "def calculate_JS_matrix(matrix1, matrix2):\n",
        "  matrix1 = (matrix1) / (matrix1).values.sum()\n",
        "  matrix2 = (matrix2) / (matrix2).values.sum()\n",
        "  matrix_both = (matrix1 + matrix2) / 2\n",
        "  P = np.concatenate(matrix1.values)\n",
        "  Q = np.concatenate(matrix2.values)\n",
        "  M = np.concatenate(matrix_both.values)\n",
        "  jsd_matrix1 = np.nan_to_num(P * np.log2(P / M))\n",
        "  jsd_matrix2 = np.nan_to_num(Q * np.log2(Q / M))\n",
        "  jsd_matrix = (jsd_matrix1 + jsd_matrix2) / 2\n",
        "  return jsd_matrix.reshape(matrix1.shape)"
      ],
      "execution_count": 20,
      "outputs": []
    },
    {
      "cell_type": "code",
      "metadata": {
        "colab": {
          "base_uri": "https://localhost:8080/"
        },
        "id": "5jSywVOHYxJu",
        "outputId": "61c4946b-060d-4ae9-feb9-ecde336b8883"
      },
      "source": [
        "protein_SS_df['JSD8_matrix'] = [*map(calculate_JS_matrix, protein_SS_df.loc[:, 'CM8_native'],\n",
        "                                     protein_SS_df.loc[:, 'CM8_recomb'])]\n",
        "protein_SS_df['JSD3_matrix']  = [*map(calculate_JS_matrix, protein_SS_df.loc[:, 'CM3_native'],\n",
        "                                      protein_SS_df.loc[:, 'CM3_recomb'])]\n",
        "protein_SS_df['JSD8'] = [*map(np.sum, protein_SS_df.JSD8_matrix)]\n",
        "protein_SS_df['JSD3']  = [*map(np.sum, protein_SS_df.JSD3_matrix)]"
      ],
      "execution_count": 21,
      "outputs": [
        {
          "output_type": "stream",
          "name": "stderr",
          "text": [
            "/usr/local/lib/python3.7/dist-packages/ipykernel_launcher.py:8: RuntimeWarning: invalid value encountered in true_divide\n",
            "  \n",
            "/usr/local/lib/python3.7/dist-packages/ipykernel_launcher.py:8: RuntimeWarning: divide by zero encountered in log2\n",
            "  \n",
            "/usr/local/lib/python3.7/dist-packages/ipykernel_launcher.py:8: RuntimeWarning: invalid value encountered in multiply\n",
            "  \n",
            "/usr/local/lib/python3.7/dist-packages/ipykernel_launcher.py:9: RuntimeWarning: invalid value encountered in true_divide\n",
            "  if __name__ == '__main__':\n",
            "/usr/local/lib/python3.7/dist-packages/ipykernel_launcher.py:9: RuntimeWarning: divide by zero encountered in log2\n",
            "  if __name__ == '__main__':\n",
            "/usr/local/lib/python3.7/dist-packages/ipykernel_launcher.py:9: RuntimeWarning: invalid value encountered in multiply\n",
            "  if __name__ == '__main__':\n"
          ]
        }
      ]
    },
    {
      "cell_type": "code",
      "metadata": {
        "colab": {
          "base_uri": "https://localhost:8080/",
          "height": 300
        },
        "id": "CBqSxlvlZwvF",
        "outputId": "16841bb6-bfa8-421a-f80e-f5d3d12863f3"
      },
      "source": [
        "protein_SS_df.loc[:, ['JSD8', 'JSD3']]"
      ],
      "execution_count": 22,
      "outputs": [
        {
          "output_type": "execute_result",
          "data": {
            "text/plain": [
              "                              JSD8      JSD3\n",
              "Bacillus subtilis         0.030516  0.018865\n",
              "Desulfovibrio vulgaris    0.039776  0.017785\n",
              "Lactococcus lactis        0.041907  0.025400\n",
              "Pseudomonas fluorescens   0.063402  0.043861\n",
              "Pseudomonas putida        0.026872  0.012908\n",
              "Salmonella enterica       0.067669  0.044294\n",
              "Streptomyces rubiginosus  0.003566  0.000550\n",
              "Thermus thermophilus      0.127076  0.098465"
            ],
            "text/html": [
              "\n",
              "  <div id=\"df-bbeebee6-ce8c-4024-b4d9-58926b482407\">\n",
              "    <div class=\"colab-df-container\">\n",
              "      <div>\n",
              "<style scoped>\n",
              "    .dataframe tbody tr th:only-of-type {\n",
              "        vertical-align: middle;\n",
              "    }\n",
              "\n",
              "    .dataframe tbody tr th {\n",
              "        vertical-align: top;\n",
              "    }\n",
              "\n",
              "    .dataframe thead th {\n",
              "        text-align: right;\n",
              "    }\n",
              "</style>\n",
              "<table border=\"1\" class=\"dataframe\">\n",
              "  <thead>\n",
              "    <tr style=\"text-align: right;\">\n",
              "      <th></th>\n",
              "      <th>JSD8</th>\n",
              "      <th>JSD3</th>\n",
              "    </tr>\n",
              "  </thead>\n",
              "  <tbody>\n",
              "    <tr>\n",
              "      <th>Bacillus subtilis</th>\n",
              "      <td>0.030516</td>\n",
              "      <td>0.018865</td>\n",
              "    </tr>\n",
              "    <tr>\n",
              "      <th>Desulfovibrio vulgaris</th>\n",
              "      <td>0.039776</td>\n",
              "      <td>0.017785</td>\n",
              "    </tr>\n",
              "    <tr>\n",
              "      <th>Lactococcus lactis</th>\n",
              "      <td>0.041907</td>\n",
              "      <td>0.025400</td>\n",
              "    </tr>\n",
              "    <tr>\n",
              "      <th>Pseudomonas fluorescens</th>\n",
              "      <td>0.063402</td>\n",
              "      <td>0.043861</td>\n",
              "    </tr>\n",
              "    <tr>\n",
              "      <th>Pseudomonas putida</th>\n",
              "      <td>0.026872</td>\n",
              "      <td>0.012908</td>\n",
              "    </tr>\n",
              "    <tr>\n",
              "      <th>Salmonella enterica</th>\n",
              "      <td>0.067669</td>\n",
              "      <td>0.044294</td>\n",
              "    </tr>\n",
              "    <tr>\n",
              "      <th>Streptomyces rubiginosus</th>\n",
              "      <td>0.003566</td>\n",
              "      <td>0.000550</td>\n",
              "    </tr>\n",
              "    <tr>\n",
              "      <th>Thermus thermophilus</th>\n",
              "      <td>0.127076</td>\n",
              "      <td>0.098465</td>\n",
              "    </tr>\n",
              "  </tbody>\n",
              "</table>\n",
              "</div>\n",
              "      <button class=\"colab-df-convert\" onclick=\"convertToInteractive('df-bbeebee6-ce8c-4024-b4d9-58926b482407')\"\n",
              "              title=\"Convert this dataframe to an interactive table.\"\n",
              "              style=\"display:none;\">\n",
              "        \n",
              "  <svg xmlns=\"http://www.w3.org/2000/svg\" height=\"24px\"viewBox=\"0 0 24 24\"\n",
              "       width=\"24px\">\n",
              "    <path d=\"M0 0h24v24H0V0z\" fill=\"none\"/>\n",
              "    <path d=\"M18.56 5.44l.94 2.06.94-2.06 2.06-.94-2.06-.94-.94-2.06-.94 2.06-2.06.94zm-11 1L8.5 8.5l.94-2.06 2.06-.94-2.06-.94L8.5 2.5l-.94 2.06-2.06.94zm10 10l.94 2.06.94-2.06 2.06-.94-2.06-.94-.94-2.06-.94 2.06-2.06.94z\"/><path d=\"M17.41 7.96l-1.37-1.37c-.4-.4-.92-.59-1.43-.59-.52 0-1.04.2-1.43.59L10.3 9.45l-7.72 7.72c-.78.78-.78 2.05 0 2.83L4 21.41c.39.39.9.59 1.41.59.51 0 1.02-.2 1.41-.59l7.78-7.78 2.81-2.81c.8-.78.8-2.07 0-2.86zM5.41 20L4 18.59l7.72-7.72 1.47 1.35L5.41 20z\"/>\n",
              "  </svg>\n",
              "      </button>\n",
              "      \n",
              "  <style>\n",
              "    .colab-df-container {\n",
              "      display:flex;\n",
              "      flex-wrap:wrap;\n",
              "      gap: 12px;\n",
              "    }\n",
              "\n",
              "    .colab-df-convert {\n",
              "      background-color: #E8F0FE;\n",
              "      border: none;\n",
              "      border-radius: 50%;\n",
              "      cursor: pointer;\n",
              "      display: none;\n",
              "      fill: #1967D2;\n",
              "      height: 32px;\n",
              "      padding: 0 0 0 0;\n",
              "      width: 32px;\n",
              "    }\n",
              "\n",
              "    .colab-df-convert:hover {\n",
              "      background-color: #E2EBFA;\n",
              "      box-shadow: 0px 1px 2px rgba(60, 64, 67, 0.3), 0px 1px 3px 1px rgba(60, 64, 67, 0.15);\n",
              "      fill: #174EA6;\n",
              "    }\n",
              "\n",
              "    [theme=dark] .colab-df-convert {\n",
              "      background-color: #3B4455;\n",
              "      fill: #D2E3FC;\n",
              "    }\n",
              "\n",
              "    [theme=dark] .colab-df-convert:hover {\n",
              "      background-color: #434B5C;\n",
              "      box-shadow: 0px 1px 3px 1px rgba(0, 0, 0, 0.15);\n",
              "      filter: drop-shadow(0px 1px 2px rgba(0, 0, 0, 0.3));\n",
              "      fill: #FFFFFF;\n",
              "    }\n",
              "  </style>\n",
              "\n",
              "      <script>\n",
              "        const buttonEl =\n",
              "          document.querySelector('#df-bbeebee6-ce8c-4024-b4d9-58926b482407 button.colab-df-convert');\n",
              "        buttonEl.style.display =\n",
              "          google.colab.kernel.accessAllowed ? 'block' : 'none';\n",
              "\n",
              "        async function convertToInteractive(key) {\n",
              "          const element = document.querySelector('#df-bbeebee6-ce8c-4024-b4d9-58926b482407');\n",
              "          const dataTable =\n",
              "            await google.colab.kernel.invokeFunction('convertToInteractive',\n",
              "                                                     [key], {});\n",
              "          if (!dataTable) return;\n",
              "\n",
              "          const docLinkHtml = 'Like what you see? Visit the ' +\n",
              "            '<a target=\"_blank\" href=https://colab.research.google.com/notebooks/data_table.ipynb>data table notebook</a>'\n",
              "            + ' to learn more about interactive tables.';\n",
              "          element.innerHTML = '';\n",
              "          dataTable['output_type'] = 'display_data';\n",
              "          await google.colab.output.renderOutput(dataTable, element);\n",
              "          const docLink = document.createElement('div');\n",
              "          docLink.innerHTML = docLinkHtml;\n",
              "          element.appendChild(docLink);\n",
              "        }\n",
              "      </script>\n",
              "    </div>\n",
              "  </div>\n",
              "  "
            ]
          },
          "metadata": {},
          "execution_count": 22
        }
      ]
    },
    {
      "cell_type": "code",
      "metadata": {
        "id": "90mY8N1Jh_z9"
      },
      "source": [
        "def plot_PM_heatmap(species_name, n_SS_types=8):\n",
        "  if n_SS_types == 8:\n",
        "    figsize = (7, 4)\n",
        "    SS_types = SS8_types\n",
        "  else:\n",
        "    figsize = (7, 3)\n",
        "    SS_types = SS3_types\n",
        "  # get the matrices\n",
        "  CM_native = protein_SS_df.loc[species_name, 'CM{ss}_native'.format(ss=n_SS_types)]\n",
        "  CM_recomb = protein_SS_df.loc[species_name, 'CM{ss}_recomb'.format(ss=n_SS_types)]\n",
        "  PM_native = CM_native / CM_native.sum().sum()\n",
        "  PM_recomb = CM_recomb / CM_recomb.sum().sum()\n",
        "  # get relevant JSD\n",
        "  jsd = str(round(protein_SS_df.loc[species_name, 'JSD{ss}'.format(ss=n_SS_types)], 5))\n",
        "  # plot heatmap\n",
        "  plt.subplots(figsize=figsize)\n",
        "  cbar_kws = {'orientation': 'horizontal'}\n",
        "  sns.heatmap(PM_native - PM_recomb,\n",
        "              linewidth=0.5, center=0, cmap=sns.diverging_palette(10, 200, sep=50, as_cmap=True),\n",
        "              xticklabels=AA_types, yticklabels=SS_types, square=True,\n",
        "              vmax=0.04, vmin=-0.04, cbar_kws=cbar_kws)\n",
        "  plt.title(species_name, style='italic', fontsize=15)\n",
        "  plt.annotate('JSD = ' + jsd, (0,0), fontsize=13)\n",
        "  plt.show()"
      ],
      "execution_count": 41,
      "outputs": []
    },
    {
      "cell_type": "code",
      "metadata": {
        "colab": {
          "base_uri": "https://localhost:8080/",
          "height": 267
        },
        "id": "41YsqhwutTFn",
        "outputId": "de7cc693-7154-43b9-ee50-f8913de4e138"
      },
      "source": [
        "plot_PM_heatmap(species_name='Thermus thermophilus', n_SS_types=8)"
      ],
      "execution_count": 42,
      "outputs": [
        {
          "output_type": "display_data",
          "data": {
            "text/plain": [
              "<Figure size 504x288 with 2 Axes>"
            ],
            "image/png": "[encoded data removed]"
          },
          "metadata": {
            "needs_background": "light"
          }
        }
      ]
    },
    {
      "cell_type": "code",
      "metadata": {
        "colab": {
          "base_uri": "https://localhost:8080/",
          "height": 267
        },
        "id": "hSMVOItqtef7",
        "outputId": "ecc49910-4311-4c93-d7cb-69a425e9839b"
      },
      "source": [
        "plot_PM_heatmap(species_name='Bacillus subtilis', n_SS_types=8)"
      ],
      "execution_count": 43,
      "outputs": [
        {
          "output_type": "display_data",
          "data": {
            "text/plain": [
              "<Figure size 504x288 with 2 Axes>"
            ],
            "image/png": "[encoded data removed]"
          },
          "metadata": {
            "needs_background": "light"
          }
        }
      ]
    },
    {
      "cell_type": "code",
      "metadata": {
        "colab": {
          "base_uri": "https://localhost:8080/",
          "height": 166
        },
        "id": "pk1GvpPwtZjL",
        "outputId": "3bfefcd7-c901-4ea0-f12f-da4248b2fb69"
      },
      "source": [
        "plot_PM_heatmap(species_name='Thermus thermophilus', n_SS_types=3)"
      ],
      "execution_count": 44,
      "outputs": [
        {
          "output_type": "display_data",
          "data": {
            "text/plain": [
              "<Figure size 504x216 with 2 Axes>"
            ],
            "image/png": "[encoded data removed]"
          },
          "metadata": {
            "needs_background": "light"
          }
        }
      ]
    },
    {
      "cell_type": "code",
      "metadata": {
        "colab": {
          "base_uri": "https://localhost:8080/",
          "height": 166
        },
        "id": "fdG6aWjptlU5",
        "outputId": "f45334c4-8e58-463c-faaa-28e1e3a8d54f"
      },
      "source": [
        "plot_PM_heatmap(species_name='Desulfovibrio vulgaris', n_SS_types=3)"
      ],
      "execution_count": 45,
      "outputs": [
        {
          "output_type": "display_data",
          "data": {
            "text/plain": [
              "<Figure size 504x216 with 2 Axes>"
            ],
            "image/png": "[encoded data removed]"
          },
          "metadata": {
            "needs_background": "light"
          }
        }
      ]
    },
    {
      "cell_type": "code",
      "source": [
        "sns.diverging_palette(10, 200, sep=50, as_cmap=True)"
      ],
      "metadata": {
        "colab": {
          "base_uri": "https://localhost:8080/"
        },
        "id": "xz08Gc-rUQXt",
        "outputId": "faea7805-b029-4572-b0fd-62d9d99bf9fa"
      },
      "execution_count": 46,
      "outputs": [
        {
          "output_type": "execute_result",
          "data": {
            "text/plain": [
              "<matplotlib.colors.LinearSegmentedColormap at 0x7fbc474bd850>"
            ]
          },
          "metadata": {},
          "execution_count": 46
        }
      ]
    },
    {
      "cell_type": "code",
      "metadata": {
        "colab": {
          "base_uri": "https://localhost:8080/",
          "height": 777
        },
        "id": "8s4V180KmJyM",
        "outputId": "21ad7d98-5084-4d8e-fdbb-87d98d56a3e4"
      },
      "source": [
        "fig, axs = plt.subplots(nrows=4, ncols=2, figsize = (10, 10))\n",
        "cbar_ax = fig.add_axes([1.02, .3, .01, .5])\n",
        "for i, ax in enumerate(axs.flatten()):\n",
        "  species_name = protein_SS_df.index[i]\n",
        "  # get the matrices\n",
        "  CM_native = protein_SS_df.loc[species_name, 'CM8_native']\n",
        "  CM_recomb = protein_SS_df.loc[species_name, 'CM8_recomb']\n",
        "  PM_native = CM_native / CM_native.sum().sum()\n",
        "  PM_recomb = CM_recomb / CM_recomb.sum().sum()\n",
        "  # plot heatmap\n",
        "  sns.heatmap(PM_native - PM_recomb, ax=ax,\n",
        "              linewidth=0.5, center=0, cmap=sns.diverging_palette(10, 200, sep=20, as_cmap=True),\n",
        "              xticklabels=AA_types, yticklabels=SS8_types, square=True,\n",
        "              vmax=0.04, vmin=-0.04, cbar=i==0, cbar_ax=None if i else cbar_ax)\n",
        "  ax.set_title(species_name, style='italic', fontsize=15)\n",
        "fig.tight_layout()\n",
        "#plt.show()\n",
        "plt.savefig('Heatmaps8_all.jpg', bbox_inches='tight', dpi=300)\n",
        "files.download('Heatmaps8_all.jpg')"
      ],
      "execution_count": 48,
      "outputs": [
        {
          "output_type": "stream",
          "name": "stderr",
          "text": [
            "/usr/local/lib/python3.7/dist-packages/ipykernel_launcher.py:16: UserWarning: This figure includes Axes that are not compatible with tight_layout, so results might be incorrect.\n",
            "  app.launch_new_instance()\n"
          ]
        },
        {
          "output_type": "display_data",
          "data": {
            "text/plain": [
              "<IPython.core.display.Javascript object>"
            ],
            "application/javascript": [
              "\n",
              "    async function download(id, filename, size) {\n",
              "      if (!google.colab.kernel.accessAllowed) {\n",
              "        return;\n",
              "      }\n",
              "      const div = document.createElement('div');\n",
              "      const label = document.createElement('label');\n",
              "      label.textContent = `Downloading \"${filename}\": `;\n",
              "      div.appendChild(label);\n",
              "      const progress = document.createElement('progress');\n",
              "      progress.max = size;\n",
              "      div.appendChild(progress);\n",
              "      document.body.appendChild(div);\n",
              "\n",
              "      const buffers = [];\n",
              "      let downloaded = 0;\n",
              "\n",
              "      const channel = await google.colab.kernel.comms.open(id);\n",
              "      // Send a message to notify the kernel that we're ready.\n",
              "      channel.send({})\n",
              "\n",
              "      for await (const message of channel.messages) {\n",
              "        // Send a message to notify the kernel that we're ready.\n",
              "        channel.send({})\n",
              "        if (message.buffers) {\n",
              "          for (const buffer of message.buffers) {\n",
              "            buffers.push(buffer);\n",
              "            downloaded += buffer.byteLength;\n",
              "            progress.value = downloaded;\n",
              "          }\n",
              "        }\n",
              "      }\n",
              "      const blob = new Blob(buffers, {type: 'application/binary'});\n",
              "      const a = document.createElement('a');\n",
              "      a.href = window.URL.createObjectURL(blob);\n",
              "      a.download = filename;\n",
              "      div.appendChild(a);\n",
              "      a.click();\n",
              "      div.remove();\n",
              "    }\n",
              "  "
            ]
          },
          "metadata": {}
        },
        {
          "output_type": "display_data",
          "data": {
            "text/plain": [
              "<IPython.core.display.Javascript object>"
            ],
            "application/javascript": [
              "download(\"download_ceb56941-d153-46a4-991b-5bc78d8ad01d\", \"Heatmaps8_all.jpg\", 897300)"
            ]
          },
          "metadata": {}
        },
        {
          "output_type": "display_data",
          "data": {
            "text/plain": [
              "<Figure size 720x720 with 9 Axes>"
            ],
            "image/png": "[encoded data removed]"
          },
          "metadata": {
            "needs_background": "light"
          }
        }
      ]
    },
    {
      "cell_type": "code",
      "metadata": {
        "colab": {
          "base_uri": "https://localhost:8080/",
          "height": 483
        },
        "id": "7AcKVt5rlKny",
        "outputId": "2de489ae-6c19-4c11-c116-193b21b3662d"
      },
      "source": [
        "fig, axs = plt.subplots(nrows=4, ncols=2, figsize = (10, 6))\n",
        "cbar_ax = fig.add_axes([1.02, .3, .01, .5])\n",
        "for i, ax in enumerate(axs.flatten()):\n",
        "  species_name = protein_SS_df.index[i]\n",
        "  # get the matrices\n",
        "  CM_native = protein_SS_df.loc[species_name, 'CM3_native']\n",
        "  CM_recomb = protein_SS_df.loc[species_name, 'CM3_recomb']\n",
        "  PM_native = CM_native / CM_native.sum().sum()\n",
        "  PM_recomb = CM_recomb / CM_recomb.sum().sum()\n",
        "  # plot heatmap\n",
        "  sns.heatmap(PM_native - PM_recomb, ax=ax,\n",
        "              linewidth=0.5, center=0, cmap=sns.diverging_palette(10, 200, sep=20, as_cmap=True),\n",
        "              xticklabels=AA_types, yticklabels=SS3_types, square=True,\n",
        "              vmax=0.06, vmin=-0.06, cbar=i==0, cbar_ax=None if i else cbar_ax)\n",
        "  ax.set_title(species_name, style='italic', fontsize=15)\n",
        "fig.tight_layout()\n",
        "#plt.show()\n",
        "plt.savefig('Heatmaps3_all.jpg', bbox_inches='tight', dpi=300)\n",
        "files.download('Heatmaps3_all.jpg')"
      ],
      "execution_count": 51,
      "outputs": [
        {
          "output_type": "stream",
          "name": "stderr",
          "text": [
            "/usr/local/lib/python3.7/dist-packages/ipykernel_launcher.py:16: UserWarning: This figure includes Axes that are not compatible with tight_layout, so results might be incorrect.\n",
            "  app.launch_new_instance()\n"
          ]
        },
        {
          "output_type": "display_data",
          "data": {
            "text/plain": [
              "<IPython.core.display.Javascript object>"
            ],
            "application/javascript": [
              "\n",
              "    async function download(id, filename, size) {\n",
              "      if (!google.colab.kernel.accessAllowed) {\n",
              "        return;\n",
              "      }\n",
              "      const div = document.createElement('div');\n",
              "      const label = document.createElement('label');\n",
              "      label.textContent = `Downloading \"${filename}\": `;\n",
              "      div.appendChild(label);\n",
              "      const progress = document.createElement('progress');\n",
              "      progress.max = size;\n",
              "      div.appendChild(progress);\n",
              "      document.body.appendChild(div);\n",
              "\n",
              "      const buffers = [];\n",
              "      let downloaded = 0;\n",
              "\n",
              "      const channel = await google.colab.kernel.comms.open(id);\n",
              "      // Send a message to notify the kernel that we're ready.\n",
              "      channel.send({})\n",
              "\n",
              "      for await (const message of channel.messages) {\n",
              "        // Send a message to notify the kernel that we're ready.\n",
              "        channel.send({})\n",
              "        if (message.buffers) {\n",
              "          for (const buffer of message.buffers) {\n",
              "            buffers.push(buffer);\n",
              "            downloaded += buffer.byteLength;\n",
              "            progress.value = downloaded;\n",
              "          }\n",
              "        }\n",
              "      }\n",
              "      const blob = new Blob(buffers, {type: 'application/binary'});\n",
              "      const a = document.createElement('a');\n",
              "      a.href = window.URL.createObjectURL(blob);\n",
              "      a.download = filename;\n",
              "      div.appendChild(a);\n",
              "      a.click();\n",
              "      div.remove();\n",
              "    }\n",
              "  "
            ]
          },
          "metadata": {}
        },
        {
          "output_type": "display_data",
          "data": {
            "text/plain": [
              "<IPython.core.display.Javascript object>"
            ],
            "application/javascript": [
              "download(\"download_57e6305b-571e-4db3-a60c-f8d540c96a98\", \"Heatmaps3_all.jpg\", 580168)"
            ]
          },
          "metadata": {}
        },
        {
          "output_type": "display_data",
          "data": {
            "text/plain": [
              "<Figure size 720x432 with 9 Axes>"
            ],
            "image/png": "[encoded data removed]"
          },
          "metadata": {
            "needs_background": "light"
          }
        }
      ]
    },
    {
      "cell_type": "code",
      "metadata": {
        "id": "2Xz6raiZYah0"
      },
      "source": [
        "def plot_jsd_heatmap(jsd_matrix, title=''):\n",
        "  if jsd_matrix.shape[0] == 8:\n",
        "    figsize = (7, 4)\n",
        "    SS_types = SS8_types\n",
        "  else:\n",
        "    figsize = (7, 3)\n",
        "    SS_types = SS3_types\n",
        "  jsd = str(round(np.sum(jsd_matrix), 5))\n",
        "  plt.subplots(figsize=figsize)\n",
        "  cbar_kws = {'orientation': 'horizontal'}\n",
        "  sns.heatmap(jsd_matrix,\n",
        "              linewidth=0.5, center=0, cmap=sns.diverging_palette(10, 200, sep=50, as_cmap=True),\n",
        "              xticklabels=AA_types, yticklabels=SS_types, square=True,\n",
        "              vmax=0.004, vmin=0, cbar_kws=cbar_kws)\n",
        "  plt.title(title, style='italic', fontsize=15)\n",
        "  plt.annotate('JSD = ' + jsd, (0,0), fontsize=13)\n",
        "  plt.show()"
      ],
      "execution_count": null,
      "outputs": []
    },
    {
      "cell_type": "code",
      "metadata": {
        "colab": {
          "base_uri": "https://localhost:8080/",
          "height": 267
        },
        "id": "4x6fd2vj98kz",
        "outputId": "e4733e66-5384-4c36-dc0c-39abdb534810"
      },
      "source": [
        "plot_jsd_heatmap(protein_SS_df.loc['Thermus thermophilus', 'JSD8_matrix'], 'Thermus thermophilus')"
      ],
      "execution_count": null,
      "outputs": [
        {
          "output_type": "display_data",
          "data": {
            "image/png": "[encoded data removed]",
            "text/plain": [
              "<Figure size 504x288 with 2 Axes>"
            ]
          },
          "metadata": {
            "needs_background": "light"
          }
        }
      ]
    },
    {
      "cell_type": "markdown",
      "metadata": {
        "id": "yvSVDRKYcRgc"
      },
      "source": [
        "# Statistical analysis"
      ]
    },
    {
      "cell_type": "markdown",
      "metadata": {
        "id": "OLkXeMVVjU_X"
      },
      "source": [
        "We will use permutation to test whether JS divergence values are from the same distribution. To do that we will create artifitial AA / SS sequences using all original AA / SS sequences. We will create 10,000 sequences of 1000 residues long by resampling original data with replacement"
      ]
    },
    {
      "cell_type": "markdown",
      "metadata": {
        "id": "2PuzFSal6cs-"
      },
      "source": [
        "As all Data files are of different lengths, we will have to resample each datafile individually first and only then concatenate the results"
      ]
    },
    {
      "cell_type": "markdown",
      "metadata": {
        "id": "0NfkliuTkzhb"
      },
      "source": [
        "We will also need to use the same positions for each native, recombinant, AA and SS sequence. To do that for each resampling event, we will first create a list of random integers (with replacement, from 0 to length of the corresponding sequence) and use that list to resample from each sequence\n",
        "\n",
        "In order to speed up the process, we will not really create resampled sequences, but instead will directly create count matrices that will be used to calculate JS divergence. We will add up count matrices from each resample to \"concatenate\" and then calculate JS divergence (using 8 and 3 SS types)"
      ]
    },
    {
      "cell_type": "code",
      "metadata": {
        "colab": {
          "base_uri": "https://localhost:8080/"
        },
        "id": "3Ge4uoTwUqeQ",
        "outputId": "b40e8fd2-3bd3-4ae4-e81b-a1be097b3c55"
      },
      "source": [
        "[*map(len, protein_SS_df.loc[:, 'AA_native'])]"
      ],
      "execution_count": 54,
      "outputs": [
        {
          "output_type": "execute_result",
          "data": {
            "text/plain": [
              "[2225, 10354, 7971, 5397, 1273, 11303, 6591, 4926]"
            ]
          },
          "metadata": {},
          "execution_count": 54
        }
      ]
    },
    {
      "cell_type": "code",
      "metadata": {
        "id": "ka1ByVYN8DNu"
      },
      "source": [
        "def resample_seqs_to_CMs(species, df=protein_SS_df, seq_len=1000):\n",
        "\n",
        "  size = int(seq_len / len(species))\n",
        "\n",
        "  final_CM1 = pd.DataFrame(0, columns=AA_types, index=SS8_types)\n",
        "  final_CM2 = pd.DataFrame(0, columns=AA_types, index=SS8_types)\n",
        "\n",
        "  for s in species:\n",
        "    \n",
        "    AA_seqs = (df.loc[s, 'AA_native'], df.loc[s, 'AA_recomb'])\n",
        "    SS_seqs = (df.loc[s, 'SS_native'], df.loc[s, 'SS_recomb'])\n",
        "\n",
        "    resampled_sequence_positions = np.random.randint(0, len(AA_seqs[0]), size=size)\n",
        "\n",
        "    AA_seq1 = np.array([*AA_seqs[0]])[resampled_sequence_positions]\n",
        "    AA_seq2 = np.array([*AA_seqs[1]])[resampled_sequence_positions]\n",
        "    SS_seq1 = np.array([*SS_seqs[0]])[resampled_sequence_positions]\n",
        "    SS_seq2 = np.array([*SS_seqs[1]])[resampled_sequence_positions]\n",
        "\n",
        "    counts1 = np.array([np.sum([aa==AA and ss==SS for aa, ss in zip(AA_seq1, SS_seq1)]) \\\n",
        "                      for SS in SS8_types for AA in AA_types]).reshape((len(SS8_types),len(AA_types)))\n",
        "\n",
        "    CM1 = pd.DataFrame(counts1, columns=AA_types, index=SS8_types)\n",
        "\n",
        "    counts2 = np.array([np.sum([aa==AA and ss==SS for aa, ss in zip(AA_seq2, SS_seq2)]) \\\n",
        "                      for SS in SS8_types for AA in AA_types]).reshape((len(SS8_types),len(AA_types)))\n",
        "\n",
        "    CM2 = pd.DataFrame(counts2, columns=AA_types, index=SS8_types)\n",
        "\n",
        "    final_CM1 += CM1\n",
        "    final_CM2 += CM2\n",
        "\n",
        "  \n",
        "  return final_CM1, final_CM2"
      ],
      "execution_count": 52,
      "outputs": []
    },
    {
      "cell_type": "code",
      "metadata": {
        "id": "Nqcxr11UCGHz",
        "colab": {
          "base_uri": "https://localhost:8080/",
          "height": 373
        },
        "outputId": "f06e75b3-5bf1-4016-92dc-0ef00ad7ea5b"
      },
      "source": [
        "resampled_data = pd.DataFrame()\n",
        "resampled_data['CM8s'] = [*map(resample_seqs_to_CMs, tqdm([protein_SS_df.index]*10000))]\n",
        "resampled_data[['CM8_native', 'CM8_recomb']] = pd.DataFrame(resampled_data.CM8s.tolist())\n",
        "resampled_data['CM3_native'] = [*map(change_to_SS3, resampled_data['CM8_native'])]\n",
        "resampled_data['CM3_recomb'] = [*map(change_to_SS3, resampled_data['CM8_recomb'])]\n",
        "resampled_data['JSD8_matrix'] = [*map(calculate_JS_matrix, resampled_data['CM8_native'], resampled_data['CM8_recomb'])]\n",
        "resampled_data['JSD3_matrix'] = [*map(calculate_JS_matrix, resampled_data['CM3_native'], resampled_data['CM3_recomb'])]\n",
        "resampled_data['JSD8'] = [*map(np.sum, resampled_data['JSD8_matrix'])]\n",
        "resampled_data['JSD3'] = [*map(np.sum, resampled_data['JSD3_matrix'])]"
      ],
      "execution_count": 53,
      "outputs": [
        {
          "output_type": "stream",
          "name": "stderr",
          "text": [
            "  0%|          | 0/10000 [00:00<?, ?it/s]\n"
          ]
        },
        {
          "output_type": "error",
          "ename": "IndexError",
          "evalue": "ignored",
          "traceback": [
            "\u001b[0;31m---------------------------------------------------------------------------\u001b[0m",
            "\u001b[0;31mIndexError\u001b[0m                                Traceback (most recent call last)",
            "\u001b[0;32m<ipython-input-53-0494dfa35cac>\u001b[0m in \u001b[0;36m<module>\u001b[0;34m()\u001b[0m\n\u001b[1;32m      1\u001b[0m \u001b[0mresampled_data\u001b[0m \u001b[0;34m=\u001b[0m \u001b[0mpd\u001b[0m\u001b[0;34m.\u001b[0m\u001b[0mDataFrame\u001b[0m\u001b[0;34m(\u001b[0m\u001b[0;34m)\u001b[0m\u001b[0;34m\u001b[0m\u001b[0;34m\u001b[0m\u001b[0m\n\u001b[0;32m----> 2\u001b[0;31m \u001b[0mresampled_data\u001b[0m\u001b[0;34m[\u001b[0m\u001b[0;34m'CM8s'\u001b[0m\u001b[0;34m]\u001b[0m \u001b[0;34m=\u001b[0m \u001b[0;34m[\u001b[0m\u001b[0;34m*\u001b[0m\u001b[0mmap\u001b[0m\u001b[0;34m(\u001b[0m\u001b[0mresample_seqs_to_CMs\u001b[0m\u001b[0;34m,\u001b[0m \u001b[0mtqdm\u001b[0m\u001b[0;34m(\u001b[0m\u001b[0;34m[\u001b[0m\u001b[0mprotein_SS_df\u001b[0m\u001b[0;34m.\u001b[0m\u001b[0mindex\u001b[0m\u001b[0;34m]\u001b[0m\u001b[0;34m*\u001b[0m\u001b[0;36m10000\u001b[0m\u001b[0;34m)\u001b[0m\u001b[0;34m)\u001b[0m\u001b[0;34m]\u001b[0m\u001b[0;34m\u001b[0m\u001b[0;34m\u001b[0m\u001b[0m\n\u001b[0m\u001b[1;32m      3\u001b[0m \u001b[0mresampled_data\u001b[0m\u001b[0;34m[\u001b[0m\u001b[0;34m[\u001b[0m\u001b[0;34m'CM8_native'\u001b[0m\u001b[0;34m,\u001b[0m \u001b[0;34m'CM8_recomb'\u001b[0m\u001b[0;34m]\u001b[0m\u001b[0;34m]\u001b[0m \u001b[0;34m=\u001b[0m \u001b[0mpd\u001b[0m\u001b[0;34m.\u001b[0m\u001b[0mDataFrame\u001b[0m\u001b[0;34m(\u001b[0m\u001b[0mresampled_data\u001b[0m\u001b[0;34m.\u001b[0m\u001b[0mCM8s\u001b[0m\u001b[0;34m.\u001b[0m\u001b[0mtolist\u001b[0m\u001b[0;34m(\u001b[0m\u001b[0;34m)\u001b[0m\u001b[0;34m)\u001b[0m\u001b[0;34m\u001b[0m\u001b[0;34m\u001b[0m\u001b[0m\n\u001b[1;32m      4\u001b[0m \u001b[0mresampled_data\u001b[0m\u001b[0;34m[\u001b[0m\u001b[0;34m'CM3_native'\u001b[0m\u001b[0;34m]\u001b[0m \u001b[0;34m=\u001b[0m \u001b[0;34m[\u001b[0m\u001b[0;34m*\u001b[0m\u001b[0mmap\u001b[0m\u001b[0;34m(\u001b[0m\u001b[0mchange_to_SS3\u001b[0m\u001b[0;34m,\u001b[0m \u001b[0mresampled_data\u001b[0m\u001b[0;34m[\u001b[0m\u001b[0;34m'CM8_native'\u001b[0m\u001b[0;34m]\u001b[0m\u001b[0;34m)\u001b[0m\u001b[0;34m]\u001b[0m\u001b[0;34m\u001b[0m\u001b[0;34m\u001b[0m\u001b[0m\n\u001b[1;32m      5\u001b[0m \u001b[0mresampled_data\u001b[0m\u001b[0;34m[\u001b[0m\u001b[0;34m'CM3_recomb'\u001b[0m\u001b[0;34m]\u001b[0m \u001b[0;34m=\u001b[0m \u001b[0;34m[\u001b[0m\u001b[0;34m*\u001b[0m\u001b[0mmap\u001b[0m\u001b[0;34m(\u001b[0m\u001b[0mchange_to_SS3\u001b[0m\u001b[0;34m,\u001b[0m \u001b[0mresampled_data\u001b[0m\u001b[0;34m[\u001b[0m\u001b[0;34m'CM8_recomb'\u001b[0m\u001b[0;34m]\u001b[0m\u001b[0;34m)\u001b[0m\u001b[0;34m]\u001b[0m\u001b[0;34m\u001b[0m\u001b[0;34m\u001b[0m\u001b[0m\n",
            "\u001b[0;32m<ipython-input-52-f9ac0593a80d>\u001b[0m in \u001b[0;36mresample_seqs_to_CMs\u001b[0;34m(species, df, seq_len)\u001b[0m\n\u001b[1;32m     14\u001b[0m \u001b[0;34m\u001b[0m\u001b[0m\n\u001b[1;32m     15\u001b[0m     \u001b[0mAA_seq1\u001b[0m \u001b[0;34m=\u001b[0m \u001b[0mnp\u001b[0m\u001b[0;34m.\u001b[0m\u001b[0marray\u001b[0m\u001b[0;34m(\u001b[0m\u001b[0;34m[\u001b[0m\u001b[0;34m*\u001b[0m\u001b[0mAA_seqs\u001b[0m\u001b[0;34m[\u001b[0m\u001b[0;36m0\u001b[0m\u001b[0;34m]\u001b[0m\u001b[0;34m]\u001b[0m\u001b[0;34m)\u001b[0m\u001b[0;34m[\u001b[0m\u001b[0mresampled_sequence_positions\u001b[0m\u001b[0;34m]\u001b[0m\u001b[0;34m\u001b[0m\u001b[0;34m\u001b[0m\u001b[0m\n\u001b[0;32m---> 16\u001b[0;31m     \u001b[0mAA_seq2\u001b[0m \u001b[0;34m=\u001b[0m \u001b[0mnp\u001b[0m\u001b[0;34m.\u001b[0m\u001b[0marray\u001b[0m\u001b[0;34m(\u001b[0m\u001b[0;34m[\u001b[0m\u001b[0;34m*\u001b[0m\u001b[0mAA_seqs\u001b[0m\u001b[0;34m[\u001b[0m\u001b[0;36m1\u001b[0m\u001b[0;34m]\u001b[0m\u001b[0;34m]\u001b[0m\u001b[0;34m)\u001b[0m\u001b[0;34m[\u001b[0m\u001b[0mresampled_sequence_positions\u001b[0m\u001b[0;34m]\u001b[0m\u001b[0;34m\u001b[0m\u001b[0;34m\u001b[0m\u001b[0m\n\u001b[0m\u001b[1;32m     17\u001b[0m     \u001b[0mSS_seq1\u001b[0m \u001b[0;34m=\u001b[0m \u001b[0mnp\u001b[0m\u001b[0;34m.\u001b[0m\u001b[0marray\u001b[0m\u001b[0;34m(\u001b[0m\u001b[0;34m[\u001b[0m\u001b[0;34m*\u001b[0m\u001b[0mSS_seqs\u001b[0m\u001b[0;34m[\u001b[0m\u001b[0;36m0\u001b[0m\u001b[0;34m]\u001b[0m\u001b[0;34m]\u001b[0m\u001b[0;34m)\u001b[0m\u001b[0;34m[\u001b[0m\u001b[0mresampled_sequence_positions\u001b[0m\u001b[0;34m]\u001b[0m\u001b[0;34m\u001b[0m\u001b[0;34m\u001b[0m\u001b[0m\n\u001b[1;32m     18\u001b[0m     \u001b[0mSS_seq2\u001b[0m \u001b[0;34m=\u001b[0m \u001b[0mnp\u001b[0m\u001b[0;34m.\u001b[0m\u001b[0marray\u001b[0m\u001b[0;34m(\u001b[0m\u001b[0;34m[\u001b[0m\u001b[0;34m*\u001b[0m\u001b[0mSS_seqs\u001b[0m\u001b[0;34m[\u001b[0m\u001b[0;36m1\u001b[0m\u001b[0;34m]\u001b[0m\u001b[0;34m]\u001b[0m\u001b[0;34m)\u001b[0m\u001b[0;34m[\u001b[0m\u001b[0mresampled_sequence_positions\u001b[0m\u001b[0;34m]\u001b[0m\u001b[0;34m\u001b[0m\u001b[0;34m\u001b[0m\u001b[0m\n",
            "\u001b[0;31mIndexError\u001b[0m: index 5458 is out of bounds for axis 0 with size 4265"
          ]
        }
      ]
    },
    {
      "cell_type": "code",
      "metadata": {
        "colab": {
          "base_uri": "https://localhost:8080/",
          "height": 353
        },
        "id": "F-iX5u3dI21Q",
        "outputId": "9c3cf6fc-a7db-450a-dc38-7aae57f4e00b"
      },
      "source": [
        "fig, ax = plt.subplots(ncols=2, figsize=(15,5))\n",
        "\n",
        "ax[0].title.set_text('Permuted JS divergence using 8 SS types')\n",
        "ax[0].set_xlabel('Jensen-Shannon divengence')\n",
        "sns.histplot(resampled_data.JSD8, element='step', stat='probability', color='gray', ax=ax[0])\n",
        "ax[0].axvline(x=protein_SS_df.loc['Thermus thermophilus', 'JSD8'], c='red', linestyle=':')\n",
        "for species in species_names[:-1]:\n",
        "  ax[0].axvline(x=protein_SS_df.loc[species, 'JSD8'], c='black', linestyle=':')\n",
        "\n",
        "ax[1].title.set_text('Permuted JS divergence using 3 SS types')\n",
        "ax[1].set_xlabel('Jensen-Shannon divengence')\n",
        "sns.histplot(resampled_data.JSD3, element='step', stat='probability', color='gray', ax=ax[1])\n",
        "ax[1].axvline(x=protein_SS_df.loc['Thermus thermophilus', 'JSD3'], c='red', linestyle=':', label='T. thermophilus')\n",
        "for species in species_names[:-1]:\n",
        "  ax[1].axvline(x=protein_SS_df.loc[species, 'JSD3'], c='black', linestyle=':', label='Other species')\n",
        "\n",
        "colors = ['black', 'red']\n",
        "lines = [Line2D([0], [0], color=c, linewidth=2, linestyle=':') for c in colors]\n",
        "labels = ['Other species', '$\\it{T. thermophilus}$']\n",
        "plt.figlegend(lines, labels, loc='upper right')\n",
        "\n",
        "plt.show()\n",
        "fig.savefig('JSD_permutation.jpg')\n",
        "files.download('JSD_permutation.jpg')"
      ],
      "execution_count": null,
      "outputs": [
        {
          "output_type": "display_data",
          "data": {
            "image/png": "[encoded data removed]",
            "text/plain": [
              "<Figure size 1080x360 with 2 Axes>"
            ]
          },
          "metadata": {
            "needs_background": "light"
          }
        },
        {
          "output_type": "display_data",
          "data": {
            "application/javascript": [
              "\n",
              "    async function download(id, filename, size) {\n",
              "      if (!google.colab.kernel.accessAllowed) {\n",
              "        return;\n",
              "      }\n",
              "      const div = document.createElement('div');\n",
              "      const label = document.createElement('label');\n",
              "      label.textContent = `Downloading \"${filename}\": `;\n",
              "      div.appendChild(label);\n",
              "      const progress = document.createElement('progress');\n",
              "      progress.max = size;\n",
              "      div.appendChild(progress);\n",
              "      document.body.appendChild(div);\n",
              "\n",
              "      const buffers = [];\n",
              "      let downloaded = 0;\n",
              "\n",
              "      const channel = await google.colab.kernel.comms.open(id);\n",
              "      // Send a message to notify the kernel that we're ready.\n",
              "      channel.send({})\n",
              "\n",
              "      for await (const message of channel.messages) {\n",
              "        // Send a message to notify the kernel that we're ready.\n",
              "        channel.send({})\n",
              "        if (message.buffers) {\n",
              "          for (const buffer of message.buffers) {\n",
              "            buffers.push(buffer);\n",
              "            downloaded += buffer.byteLength;\n",
              "            progress.value = downloaded;\n",
              "          }\n",
              "        }\n",
              "      }\n",
              "      const blob = new Blob(buffers, {type: 'application/binary'});\n",
              "      const a = document.createElement('a');\n",
              "      a.href = window.URL.createObjectURL(blob);\n",
              "      a.download = filename;\n",
              "      div.appendChild(a);\n",
              "      a.click();\n",
              "      div.remove();\n",
              "    }\n",
              "  "
            ],
            "text/plain": [
              "<IPython.core.display.Javascript object>"
            ]
          },
          "metadata": {}
        },
        {
          "output_type": "display_data",
          "data": {
            "application/javascript": [
              "download(\"download_77ee385e-b064-4486-86a2-5d56b70cedeb\", \"JSD_permutation.jpg\", 71605)"
            ],
            "text/plain": [
              "<IPython.core.display.Javascript object>"
            ]
          },
          "metadata": {}
        }
      ]
    },
    {
      "cell_type": "code",
      "metadata": {
        "colab": {
          "base_uri": "https://localhost:8080/"
        },
        "id": "Kw0pxfvycPYX",
        "outputId": "76a3e26e-ed69-4eb8-abce-e737692096ca"
      },
      "source": [
        "np.quantile(resampled_data.JSD8, [0.05, 0.95])"
      ],
      "execution_count": null,
      "outputs": [
        {
          "output_type": "execute_result",
          "data": {
            "text/plain": [
              "array([0.00489042, 0.01102528])"
            ]
          },
          "metadata": {},
          "execution_count": 14
        }
      ]
    },
    {
      "cell_type": "code",
      "metadata": {
        "colab": {
          "base_uri": "https://localhost:8080/"
        },
        "id": "hn-NIw5X3sB5",
        "outputId": "b16b837e-ac65-4e05-8917-6d788faa3a06"
      },
      "source": [
        "np.quantile(resampled_data.JSD3, [0.05, 0.95])"
      ],
      "execution_count": null,
      "outputs": [
        {
          "output_type": "execute_result",
          "data": {
            "text/plain": [
              "array([0.00073837, 0.00247025])"
            ]
          },
          "metadata": {},
          "execution_count": 15
        }
      ]
    },
    {
      "cell_type": "code",
      "metadata": {
        "colab": {
          "base_uri": "https://localhost:8080/",
          "height": 300
        },
        "id": "Stq45FPLo9CW",
        "outputId": "93338054-5932-440f-fa97-fcbebc775730"
      },
      "source": [
        "JSD8_confidence = pd.DataFrame({'JSD8':protein_SS_df.JSD8,\n",
        "                                'p-value':[np.sum(resampled_data.JSD8 >= jsd_actual) / len(resampled_data.JSD8) \\\n",
        "                                           for jsd_actual in protein_SS_df.JSD8]})\n",
        "JSD8_confidence"
      ],
      "execution_count": null,
      "outputs": [
        {
          "output_type": "execute_result",
          "data": {
            "text/html": [
              "<div>\n",
              "<style scoped>\n",
              "    .dataframe tbody tr th:only-of-type {\n",
              "        vertical-align: middle;\n",
              "    }\n",
              "\n",
              "    .dataframe tbody tr th {\n",
              "        vertical-align: top;\n",
              "    }\n",
              "\n",
              "    .dataframe thead th {\n",
              "        text-align: right;\n",
              "    }\n",
              "</style>\n",
              "<table border=\"1\" class=\"dataframe\">\n",
              "  <thead>\n",
              "    <tr style=\"text-align: right;\">\n",
              "      <th></th>\n",
              "      <th>JSD8</th>\n",
              "      <th>p-value</th>\n",
              "    </tr>\n",
              "  </thead>\n",
              "  <tbody>\n",
              "    <tr>\n",
              "      <th>Bacillus subtilis</th>\n",
              "      <td>0.010411</td>\n",
              "      <td>0.0823</td>\n",
              "    </tr>\n",
              "    <tr>\n",
              "      <th>Desulfovibrio vulgaris</th>\n",
              "      <td>0.008291</td>\n",
              "      <td>0.3427</td>\n",
              "    </tr>\n",
              "    <tr>\n",
              "      <th>Lactococcus lactis</th>\n",
              "      <td>0.007105</td>\n",
              "      <td>0.5942</td>\n",
              "    </tr>\n",
              "    <tr>\n",
              "      <th>Pseudomonas fluorescens</th>\n",
              "      <td>0.008700</td>\n",
              "      <td>0.2702</td>\n",
              "    </tr>\n",
              "    <tr>\n",
              "      <th>Pseudomonas putida</th>\n",
              "      <td>0.001878</td>\n",
              "      <td>1.0000</td>\n",
              "    </tr>\n",
              "    <tr>\n",
              "      <th>Salmonella enterica</th>\n",
              "      <td>0.002733</td>\n",
              "      <td>0.9993</td>\n",
              "    </tr>\n",
              "    <tr>\n",
              "      <th>Streptomyces rubiginosus</th>\n",
              "      <td>0.003569</td>\n",
              "      <td>0.9954</td>\n",
              "    </tr>\n",
              "    <tr>\n",
              "      <th>Thermus thermophilus</th>\n",
              "      <td>0.033324</td>\n",
              "      <td>0.0000</td>\n",
              "    </tr>\n",
              "  </tbody>\n",
              "</table>\n",
              "</div>"
            ],
            "text/plain": [
              "                              JSD8  p-value\n",
              "Bacillus subtilis         0.010411   0.0823\n",
              "Desulfovibrio vulgaris    0.008291   0.3427\n",
              "Lactococcus lactis        0.007105   0.5942\n",
              "Pseudomonas fluorescens   0.008700   0.2702\n",
              "Pseudomonas putida        0.001878   1.0000\n",
              "Salmonella enterica       0.002733   0.9993\n",
              "Streptomyces rubiginosus  0.003569   0.9954\n",
              "Thermus thermophilus      0.033324   0.0000"
            ]
          },
          "metadata": {},
          "execution_count": 11
        }
      ]
    },
    {
      "cell_type": "code",
      "metadata": {
        "colab": {
          "base_uri": "https://localhost:8080/",
          "height": 300
        },
        "id": "BWqB7YQ8xivZ",
        "outputId": "b020e6bd-f895-4ebd-8568-1533125f9f6d"
      },
      "source": [
        "JSD3_confidence = pd.DataFrame({'JSD3':protein_SS_df.JSD3,\n",
        "                                'p-value':[np.sum(resampled_data.JSD3 >= jsd_actual) / len(resampled_data.JSD3) \\\n",
        "                                           for jsd_actual in protein_SS_df.JSD3]})\n",
        "JSD3_confidence"
      ],
      "execution_count": null,
      "outputs": [
        {
          "output_type": "execute_result",
          "data": {
            "text/html": [
              "<div>\n",
              "<style scoped>\n",
              "    .dataframe tbody tr th:only-of-type {\n",
              "        vertical-align: middle;\n",
              "    }\n",
              "\n",
              "    .dataframe tbody tr th {\n",
              "        vertical-align: top;\n",
              "    }\n",
              "\n",
              "    .dataframe thead th {\n",
              "        text-align: right;\n",
              "    }\n",
              "</style>\n",
              "<table border=\"1\" class=\"dataframe\">\n",
              "  <thead>\n",
              "    <tr style=\"text-align: right;\">\n",
              "      <th></th>\n",
              "      <th>JSD3</th>\n",
              "      <th>p-value</th>\n",
              "    </tr>\n",
              "  </thead>\n",
              "  <tbody>\n",
              "    <tr>\n",
              "      <th>Bacillus subtilis</th>\n",
              "      <td>0.001135</td>\n",
              "      <td>0.6971</td>\n",
              "    </tr>\n",
              "    <tr>\n",
              "      <th>Desulfovibrio vulgaris</th>\n",
              "      <td>0.003449</td>\n",
              "      <td>0.0039</td>\n",
              "    </tr>\n",
              "    <tr>\n",
              "      <th>Lactococcus lactis</th>\n",
              "      <td>0.003086</td>\n",
              "      <td>0.0115</td>\n",
              "    </tr>\n",
              "    <tr>\n",
              "      <th>Pseudomonas fluorescens</th>\n",
              "      <td>0.002172</td>\n",
              "      <td>0.1009</td>\n",
              "    </tr>\n",
              "    <tr>\n",
              "      <th>Pseudomonas putida</th>\n",
              "      <td>0.000241</td>\n",
              "      <td>1.0000</td>\n",
              "    </tr>\n",
              "    <tr>\n",
              "      <th>Salmonella enterica</th>\n",
              "      <td>0.000351</td>\n",
              "      <td>0.9998</td>\n",
              "    </tr>\n",
              "    <tr>\n",
              "      <th>Streptomyces rubiginosus</th>\n",
              "      <td>0.000551</td>\n",
              "      <td>0.9919</td>\n",
              "    </tr>\n",
              "    <tr>\n",
              "      <th>Thermus thermophilus</th>\n",
              "      <td>0.014054</td>\n",
              "      <td>0.0000</td>\n",
              "    </tr>\n",
              "  </tbody>\n",
              "</table>\n",
              "</div>"
            ],
            "text/plain": [
              "                              JSD3  p-value\n",
              "Bacillus subtilis         0.001135   0.6971\n",
              "Desulfovibrio vulgaris    0.003449   0.0039\n",
              "Lactococcus lactis        0.003086   0.0115\n",
              "Pseudomonas fluorescens   0.002172   0.1009\n",
              "Pseudomonas putida        0.000241   1.0000\n",
              "Salmonella enterica       0.000351   0.9998\n",
              "Streptomyces rubiginosus  0.000551   0.9919\n",
              "Thermus thermophilus      0.014054   0.0000"
            ]
          },
          "metadata": {},
          "execution_count": 12
        }
      ]
    },
    {
      "cell_type": "code",
      "metadata": {
        "colab": {
          "base_uri": "https://localhost:8080/",
          "height": 442
        },
        "id": "JV9YGNBBDlUR",
        "outputId": "90948bb5-fcbe-44fc-cea1-7c98a96f653e"
      },
      "source": [
        "fig, ax = plt.subplots(figsize=(10,7))\n",
        "sns.scatterplot(x='JSD8_range', y='JSD3_range', hue='Species', data=ci_df_long)\n",
        "plt.show()"
      ],
      "execution_count": null,
      "outputs": [
        {
          "output_type": "display_data",
          "data": {
            "image/png": "[encoded data removed]",
            "text/plain": [
              "<Figure size 720x504 with 1 Axes>"
            ]
          },
          "metadata": {
            "needs_background": "light"
          }
        }
      ]
    },
    {
      "cell_type": "code",
      "metadata": {
        "colab": {
          "base_uri": "https://localhost:8080/",
          "height": 423
        },
        "id": "u3GqG2UXFS29",
        "outputId": "fffd4319-7637-44df-d749-eb57f52b2aa3"
      },
      "source": [
        "ci_df_long"
      ],
      "execution_count": null,
      "outputs": [
        {
          "output_type": "execute_result",
          "data": {
            "text/html": [
              "<div>\n",
              "<style scoped>\n",
              "    .dataframe tbody tr th:only-of-type {\n",
              "        vertical-align: middle;\n",
              "    }\n",
              "\n",
              "    .dataframe tbody tr th {\n",
              "        vertical-align: top;\n",
              "    }\n",
              "\n",
              "    .dataframe thead th {\n",
              "        text-align: right;\n",
              "    }\n",
              "</style>\n",
              "<table border=\"1\" class=\"dataframe\">\n",
              "  <thead>\n",
              "    <tr style=\"text-align: right;\">\n",
              "      <th></th>\n",
              "      <th>Species</th>\n",
              "      <th>JSD8_range</th>\n",
              "      <th>JSD3_range</th>\n",
              "    </tr>\n",
              "  </thead>\n",
              "  <tbody>\n",
              "    <tr>\n",
              "      <th>0</th>\n",
              "      <td>Bacillus subtilis</td>\n",
              "      <td>0.0117132</td>\n",
              "      <td>0.000884927</td>\n",
              "    </tr>\n",
              "    <tr>\n",
              "      <th>1</th>\n",
              "      <td>Bacillus subtilis</td>\n",
              "      <td>0.00951636</td>\n",
              "      <td>0.00108374</td>\n",
              "    </tr>\n",
              "    <tr>\n",
              "      <th>2</th>\n",
              "      <td>Bacillus subtilis</td>\n",
              "      <td>0.0097394</td>\n",
              "      <td>0.00124249</td>\n",
              "    </tr>\n",
              "    <tr>\n",
              "      <th>3</th>\n",
              "      <td>Bacillus subtilis</td>\n",
              "      <td>0.0112294</td>\n",
              "      <td>0.00125701</td>\n",
              "    </tr>\n",
              "    <tr>\n",
              "      <th>4</th>\n",
              "      <td>Bacillus subtilis</td>\n",
              "      <td>0.0110401</td>\n",
              "      <td>0.000883252</td>\n",
              "    </tr>\n",
              "    <tr>\n",
              "      <th>...</th>\n",
              "      <td>...</td>\n",
              "      <td>...</td>\n",
              "      <td>...</td>\n",
              "    </tr>\n",
              "    <tr>\n",
              "      <th>7995</th>\n",
              "      <td>Thermus thermophilus</td>\n",
              "      <td>0.0360271</td>\n",
              "      <td>0.0160445</td>\n",
              "    </tr>\n",
              "    <tr>\n",
              "      <th>7996</th>\n",
              "      <td>Thermus thermophilus</td>\n",
              "      <td>0.0436216</td>\n",
              "      <td>0.0172202</td>\n",
              "    </tr>\n",
              "    <tr>\n",
              "      <th>7997</th>\n",
              "      <td>Thermus thermophilus</td>\n",
              "      <td>0.0404005</td>\n",
              "      <td>0.0149781</td>\n",
              "    </tr>\n",
              "    <tr>\n",
              "      <th>7998</th>\n",
              "      <td>Thermus thermophilus</td>\n",
              "      <td>0.0355569</td>\n",
              "      <td>0.0151555</td>\n",
              "    </tr>\n",
              "    <tr>\n",
              "      <th>7999</th>\n",
              "      <td>Thermus thermophilus</td>\n",
              "      <td>0.0322527</td>\n",
              "      <td>0.0140019</td>\n",
              "    </tr>\n",
              "  </tbody>\n",
              "</table>\n",
              "<p>8000 rows × 3 columns</p>\n",
              "</div>"
            ],
            "text/plain": [
              "                   Species  JSD8_range   JSD3_range\n",
              "0        Bacillus subtilis   0.0117132  0.000884927\n",
              "1        Bacillus subtilis  0.00951636   0.00108374\n",
              "2        Bacillus subtilis   0.0097394   0.00124249\n",
              "3        Bacillus subtilis   0.0112294   0.00125701\n",
              "4        Bacillus subtilis   0.0110401  0.000883252\n",
              "...                    ...         ...          ...\n",
              "7995  Thermus thermophilus   0.0360271    0.0160445\n",
              "7996  Thermus thermophilus   0.0436216    0.0172202\n",
              "7997  Thermus thermophilus   0.0404005    0.0149781\n",
              "7998  Thermus thermophilus   0.0355569    0.0151555\n",
              "7999  Thermus thermophilus   0.0322527    0.0140019\n",
              "\n",
              "[8000 rows x 3 columns]"
            ]
          },
          "metadata": {},
          "execution_count": 21
        }
      ]
    },
    {
      "cell_type": "markdown",
      "metadata": {
        "id": "_bzCtSbZIgt7"
      },
      "source": [
        "We can also estimate confidence intervals (CI) for each JS divergence that we calculated previously for the \"real\" data. To do that we will use each species individually to create resampled datafiles of the same size as the original datafiles. After that we can use the resampled datafiles to calculate CI"
      ]
    },
    {
      "cell_type": "code",
      "metadata": {
        "colab": {
          "base_uri": "https://localhost:8080/",
          "height": 255
        },
        "id": "MZ2_T575IgTi",
        "outputId": "af71fa76-23e8-4341-e234-6c61d79d4a02"
      },
      "source": [
        "n = 1000\n",
        "\n",
        "for i, species in enumerate(['Streptomyces rubiginosus']):\n",
        "  print(i+1, ':', species)\n",
        "  name = species.replace(' ', '_') + '_resampledJSDs.npy'\n",
        "  l = len(protein_SS_df.loc[species, 'AA_native'])\n",
        "  CM8_list = [*map(resample_seqs_to_CMs, tqdm([[species]]*n), [protein_SS_df]*n, [l]*n)]\n",
        "  CM3_list = [(change_to_SS3(m1), change_to_SS3(m2)) for m1, m2 in CM8_list]\n",
        "  JSM8_list = [calculate_JS_matrix(m1, m2) for m1, m2 in CM8_list]\n",
        "  JSM3_list = [calculate_JS_matrix(m1, m2) for m1, m2 in CM3_list]\n",
        "  JSD8_values = np.array([np.sum(jsm) for jsm in JSM8_list])\n",
        "  JSD3_values = np.array([np.sum(jsm) for jsm in JSM3_list])\n",
        "  with open(name, 'wb') as f:\n",
        "    np.save(f, JSD8_values)\n",
        "    np.save(f, JSD3_values)\n",
        "  files.download(name)"
      ],
      "execution_count": null,
      "outputs": [
        {
          "output_type": "stream",
          "name": "stdout",
          "text": [
            "1 : Streptomyces rubiginosus\n"
          ]
        },
        {
          "output_type": "stream",
          "name": "stderr",
          "text": [
            "100%|██████████| 1000/1000 [3:42:19<00:00, 13.34s/it]\n",
            "/usr/local/lib/python3.7/dist-packages/ipykernel_launcher.py:8: RuntimeWarning: invalid value encountered in true_divide\n",
            "  \n",
            "/usr/local/lib/python3.7/dist-packages/ipykernel_launcher.py:8: RuntimeWarning: divide by zero encountered in log2\n",
            "  \n",
            "/usr/local/lib/python3.7/dist-packages/ipykernel_launcher.py:8: RuntimeWarning: invalid value encountered in multiply\n",
            "  \n",
            "/usr/local/lib/python3.7/dist-packages/ipykernel_launcher.py:9: RuntimeWarning: invalid value encountered in true_divide\n",
            "  if __name__ == '__main__':\n",
            "/usr/local/lib/python3.7/dist-packages/ipykernel_launcher.py:9: RuntimeWarning: divide by zero encountered in log2\n",
            "  if __name__ == '__main__':\n",
            "/usr/local/lib/python3.7/dist-packages/ipykernel_launcher.py:9: RuntimeWarning: invalid value encountered in multiply\n",
            "  if __name__ == '__main__':\n"
          ]
        },
        {
          "output_type": "display_data",
          "data": {
            "application/javascript": [
              "\n",
              "    async function download(id, filename, size) {\n",
              "      if (!google.colab.kernel.accessAllowed) {\n",
              "        return;\n",
              "      }\n",
              "      const div = document.createElement('div');\n",
              "      const label = document.createElement('label');\n",
              "      label.textContent = `Downloading \"${filename}\": `;\n",
              "      div.appendChild(label);\n",
              "      const progress = document.createElement('progress');\n",
              "      progress.max = size;\n",
              "      div.appendChild(progress);\n",
              "      document.body.appendChild(div);\n",
              "\n",
              "      const buffers = [];\n",
              "      let downloaded = 0;\n",
              "\n",
              "      const channel = await google.colab.kernel.comms.open(id);\n",
              "      // Send a message to notify the kernel that we're ready.\n",
              "      channel.send({})\n",
              "\n",
              "      for await (const message of channel.messages) {\n",
              "        // Send a message to notify the kernel that we're ready.\n",
              "        channel.send({})\n",
              "        if (message.buffers) {\n",
              "          for (const buffer of message.buffers) {\n",
              "            buffers.push(buffer);\n",
              "            downloaded += buffer.byteLength;\n",
              "            progress.value = downloaded;\n",
              "          }\n",
              "        }\n",
              "      }\n",
              "      const blob = new Blob(buffers, {type: 'application/binary'});\n",
              "      const a = document.createElement('a');\n",
              "      a.href = window.URL.createObjectURL(blob);\n",
              "      a.download = filename;\n",
              "      div.appendChild(a);\n",
              "      a.click();\n",
              "      div.remove();\n",
              "    }\n",
              "  "
            ],
            "text/plain": [
              "<IPython.core.display.Javascript object>"
            ]
          },
          "metadata": {}
        },
        {
          "output_type": "display_data",
          "data": {
            "application/javascript": [
              "download(\"download_ddc13676-4563-44a2-81a4-df4b4b8beb46\", \"Streptomyces_rubiginosus_resampledJSDs.npy\", 16256)"
            ],
            "text/plain": [
              "<IPython.core.display.Javascript object>"
            ]
          },
          "metadata": {}
        }
      ]
    },
    {
      "cell_type": "code",
      "metadata": {
        "id": "sJWw4YYdOb8W"
      },
      "source": [
        "ci_df = pd.DataFrame(index=protein_SS_df.index, columns=['JSD8_range', 'JSD3_range'])\n",
        "file_names = ['/content/Bacillus_subtilis_resampledJSDs.npy',\n",
        "              '/content/Desulfovibrio_vulgaris_resampledJSDs.npy',\n",
        "              '/content/Lactococcus_lactis_resampledJSDs.npy',\n",
        "              '/content/Pseudomonas_fluorescens_resampledJSDs.npy',\n",
        "              '/content/Pseudomonas_putida_resampledJSDs.npy',\n",
        "              '/content/Salmonella_enterica_resampledJSDs.npy',\n",
        "              '/content/Streptomyces_rubiginosus_resampledJSDs.npy',\n",
        "              '/content/Thermus_thermophilus_resampledJSDs.npy']\n",
        "\n",
        "for species, file_name in zip(ci_df.index, file_names):\n",
        "  with open(file_name, 'rb') as f:\n",
        "    ci_df.loc[species, 'JSD8_range'] = np.load(f)\n",
        "    ci_df.loc[species, 'JSD3_range'] = np.load(f)"
      ],
      "execution_count": null,
      "outputs": []
    },
    {
      "cell_type": "code",
      "metadata": {
        "colab": {
          "base_uri": "https://localhost:8080/",
          "height": 297
        },
        "id": "GyqC7K0eP2xL",
        "outputId": "d644650c-d5ab-4ab7-85aa-a2cec4215efd"
      },
      "source": [
        "ci_df"
      ],
      "execution_count": null,
      "outputs": [
        {
          "output_type": "execute_result",
          "data": {
            "text/html": [
              "<div>\n",
              "<style scoped>\n",
              "    .dataframe tbody tr th:only-of-type {\n",
              "        vertical-align: middle;\n",
              "    }\n",
              "\n",
              "    .dataframe tbody tr th {\n",
              "        vertical-align: top;\n",
              "    }\n",
              "\n",
              "    .dataframe thead th {\n",
              "        text-align: right;\n",
              "    }\n",
              "</style>\n",
              "<table border=\"1\" class=\"dataframe\">\n",
              "  <thead>\n",
              "    <tr style=\"text-align: right;\">\n",
              "      <th></th>\n",
              "      <th>JSD8_range</th>\n",
              "      <th>JSD3_range</th>\n",
              "    </tr>\n",
              "  </thead>\n",
              "  <tbody>\n",
              "    <tr>\n",
              "      <th>Bacillus subtilis</th>\n",
              "      <td>[0.011713179546810115, 0.009516360002821262, 0...</td>\n",
              "      <td>[0.0008849274951518754, 0.001083735176318384, ...</td>\n",
              "    </tr>\n",
              "    <tr>\n",
              "      <th>Desulfovibrio vulgaris</th>\n",
              "      <td>[0.008569956915403399, 0.008601729210010721, 0...</td>\n",
              "      <td>[0.0035308425846182307, 0.0036804969428611534,...</td>\n",
              "    </tr>\n",
              "    <tr>\n",
              "      <th>Lactococcus lactis</th>\n",
              "      <td>[0.01037479057270449, 0.006783594917383462, 0....</td>\n",
              "      <td>[0.0056241846816539615, 0.0036888970705006748,...</td>\n",
              "    </tr>\n",
              "    <tr>\n",
              "      <th>Pseudomonas fluorescens</th>\n",
              "      <td>[0.009846184190195013, 0.010653854437711482, 0...</td>\n",
              "      <td>[0.0019837799843721764, 0.002944872121742647, ...</td>\n",
              "    </tr>\n",
              "    <tr>\n",
              "      <th>Pseudomonas putida</th>\n",
              "      <td>[0.002027282911973732, 0.0018218732366399831, ...</td>\n",
              "      <td>[0.0002806542292384058, 0.0002580849198510637,...</td>\n",
              "    </tr>\n",
              "    <tr>\n",
              "      <th>Salmonella enterica</th>\n",
              "      <td>[0.0025280982818551984, 0.0027977920599121867,...</td>\n",
              "      <td>[0.0003095937178522136, 0.00033356796158177314...</td>\n",
              "    </tr>\n",
              "    <tr>\n",
              "      <th>Streptomyces rubiginosus</th>\n",
              "      <td>[0.0037972281482802047, 0.003673494483434652, ...</td>\n",
              "      <td>[0.0005286158208172415, 0.0005361488937236896,...</td>\n",
              "    </tr>\n",
              "    <tr>\n",
              "      <th>Thermus thermophilus</th>\n",
              "      <td>[0.036549222876091164, 0.04014918151742442, 0....</td>\n",
              "      <td>[0.016046160101434573, 0.016560687684367147, 0...</td>\n",
              "    </tr>\n",
              "  </tbody>\n",
              "</table>\n",
              "</div>"
            ],
            "text/plain": [
              "                                                                 JSD8_range                                         JSD3_range\n",
              "Bacillus subtilis         [0.011713179546810115, 0.009516360002821262, 0...  [0.0008849274951518754, 0.001083735176318384, ...\n",
              "Desulfovibrio vulgaris    [0.008569956915403399, 0.008601729210010721, 0...  [0.0035308425846182307, 0.0036804969428611534,...\n",
              "Lactococcus lactis        [0.01037479057270449, 0.006783594917383462, 0....  [0.0056241846816539615, 0.0036888970705006748,...\n",
              "Pseudomonas fluorescens   [0.009846184190195013, 0.010653854437711482, 0...  [0.0019837799843721764, 0.002944872121742647, ...\n",
              "Pseudomonas putida        [0.002027282911973732, 0.0018218732366399831, ...  [0.0002806542292384058, 0.0002580849198510637,...\n",
              "Salmonella enterica       [0.0025280982818551984, 0.0027977920599121867,...  [0.0003095937178522136, 0.00033356796158177314...\n",
              "Streptomyces rubiginosus  [0.0037972281482802047, 0.003673494483434652, ...  [0.0005286158208172415, 0.0005361488937236896,...\n",
              "Thermus thermophilus      [0.036549222876091164, 0.04014918151742442, 0....  [0.016046160101434573, 0.016560687684367147, 0..."
            ]
          },
          "metadata": {},
          "execution_count": 12
        }
      ]
    },
    {
      "cell_type": "code",
      "metadata": {
        "id": "s74NkUde6Lpi"
      },
      "source": [
        "ci_df_long = pd.DataFrame()\n",
        "\n",
        "ci_df_long['JSD8_range'] = ci_df.JSD8_range.explode()\n",
        "ci_df_long['JSD3_range'] = ci_df.JSD3_range.explode()\n",
        "ci_df_long = ci_df_long.rename_axis('Species').reset_index()"
      ],
      "execution_count": null,
      "outputs": []
    },
    {
      "cell_type": "code",
      "metadata": {
        "id": "sSh-36WC91Wc"
      },
      "source": [
        "ci_df_long.to_pickle('ci_df_long.pkl')"
      ],
      "execution_count": null,
      "outputs": []
    },
    {
      "cell_type": "code",
      "metadata": {
        "colab": {
          "base_uri": "https://localhost:8080/",
          "height": 444
        },
        "id": "ORN5XwiSeIhT",
        "outputId": "d1494502-9e4a-46e1-f0ac-1334c6015abb"
      },
      "source": [
        "fig, ax = plt.subplots(figsize = (12, 7))\n",
        "fig = sns.boxplot(data=ci_df_long, x='Species', y='JSD8_range')\n",
        "fig.set_xlabel('')\n",
        "fig.set_ylabel('Jensen–Shannon divergence')\n",
        "fig.set_title('Jensen–Shannon divergence of 8-state matrices')\n",
        "fig.set_xticklabels(species_names_veryshort, style = 'italic')\n",
        "\n",
        "plt.ylim([0,0.06])\n",
        "\n",
        "ax.get_figure().savefig('08_JSD8_boxplot.png')\n",
        "files.download('08_JSD8_boxplot.png')"
      ],
      "execution_count": null,
      "outputs": [
        {
          "output_type": "display_data",
          "data": {
            "application/javascript": [
              "\n",
              "    async function download(id, filename, size) {\n",
              "      if (!google.colab.kernel.accessAllowed) {\n",
              "        return;\n",
              "      }\n",
              "      const div = document.createElement('div');\n",
              "      const label = document.createElement('label');\n",
              "      label.textContent = `Downloading \"${filename}\": `;\n",
              "      div.appendChild(label);\n",
              "      const progress = document.createElement('progress');\n",
              "      progress.max = size;\n",
              "      div.appendChild(progress);\n",
              "      document.body.appendChild(div);\n",
              "\n",
              "      const buffers = [];\n",
              "      let downloaded = 0;\n",
              "\n",
              "      const channel = await google.colab.kernel.comms.open(id);\n",
              "      // Send a message to notify the kernel that we're ready.\n",
              "      channel.send({})\n",
              "\n",
              "      for await (const message of channel.messages) {\n",
              "        // Send a message to notify the kernel that we're ready.\n",
              "        channel.send({})\n",
              "        if (message.buffers) {\n",
              "          for (const buffer of message.buffers) {\n",
              "            buffers.push(buffer);\n",
              "            downloaded += buffer.byteLength;\n",
              "            progress.value = downloaded;\n",
              "          }\n",
              "        }\n",
              "      }\n",
              "      const blob = new Blob(buffers, {type: 'application/binary'});\n",
              "      const a = document.createElement('a');\n",
              "      a.href = window.URL.createObjectURL(blob);\n",
              "      a.download = filename;\n",
              "      div.appendChild(a);\n",
              "      a.click();\n",
              "      div.remove();\n",
              "    }\n",
              "  "
            ],
            "text/plain": [
              "<IPython.core.display.Javascript object>"
            ]
          },
          "metadata": {}
        },
        {
          "output_type": "display_data",
          "data": {
            "application/javascript": [
              "download(\"download_7e0543df-c5e2-4dc1-bc2d-d999478b3259\", \"08_JSD8_boxplot.png\", 24329)"
            ],
            "text/plain": [
              "<IPython.core.display.Javascript object>"
            ]
          },
          "metadata": {}
        },
        {
          "output_type": "display_data",
          "data": {
            "image/png": "[encoded data removed]",
            "text/plain": [
              "<Figure size 864x504 with 1 Axes>"
            ]
          },
          "metadata": {
            "needs_background": "light"
          }
        }
      ]
    },
    {
      "cell_type": "code",
      "metadata": {
        "colab": {
          "base_uri": "https://localhost:8080/",
          "height": 444
        },
        "id": "TwCoFm_705Kz",
        "outputId": "18f77dca-b487-4e45-d37d-9dd24ff86ecb"
      },
      "source": [
        "fig, ax = plt.subplots(figsize = (12, 7))\n",
        "fig = sns.boxplot(data=ci_df_long, x='Species', y='JSD3_range')\n",
        "fig.set_xlabel('')\n",
        "fig.set_ylabel('Jensen–Shannon divergence')\n",
        "fig.set_title('Jensen–Shannon divergence of 3-state matrices')\n",
        "fig.set_xticklabels(species_names_veryshort, style = 'italic')\n",
        "\n",
        "plt.ylim([0,0.03])\n",
        "\n",
        "ax.get_figure().savefig('08_JSD3_boxplot.png')\n",
        "files.download('08_JSD3_boxplot.png')"
      ],
      "execution_count": null,
      "outputs": [
        {
          "output_type": "display_data",
          "data": {
            "application/javascript": [
              "\n",
              "    async function download(id, filename, size) {\n",
              "      if (!google.colab.kernel.accessAllowed) {\n",
              "        return;\n",
              "      }\n",
              "      const div = document.createElement('div');\n",
              "      const label = document.createElement('label');\n",
              "      label.textContent = `Downloading \"${filename}\": `;\n",
              "      div.appendChild(label);\n",
              "      const progress = document.createElement('progress');\n",
              "      progress.max = size;\n",
              "      div.appendChild(progress);\n",
              "      document.body.appendChild(div);\n",
              "\n",
              "      const buffers = [];\n",
              "      let downloaded = 0;\n",
              "\n",
              "      const channel = await google.colab.kernel.comms.open(id);\n",
              "      // Send a message to notify the kernel that we're ready.\n",
              "      channel.send({})\n",
              "\n",
              "      for await (const message of channel.messages) {\n",
              "        // Send a message to notify the kernel that we're ready.\n",
              "        channel.send({})\n",
              "        if (message.buffers) {\n",
              "          for (const buffer of message.buffers) {\n",
              "            buffers.push(buffer);\n",
              "            downloaded += buffer.byteLength;\n",
              "            progress.value = downloaded;\n",
              "          }\n",
              "        }\n",
              "      }\n",
              "      const blob = new Blob(buffers, {type: 'application/binary'});\n",
              "      const a = document.createElement('a');\n",
              "      a.href = window.URL.createObjectURL(blob);\n",
              "      a.download = filename;\n",
              "      div.appendChild(a);\n",
              "      a.click();\n",
              "      div.remove();\n",
              "    }\n",
              "  "
            ],
            "text/plain": [
              "<IPython.core.display.Javascript object>"
            ]
          },
          "metadata": {}
        },
        {
          "output_type": "display_data",
          "data": {
            "application/javascript": [
              "download(\"download_489f8be0-ea25-406f-9487-87ff563cb7a5\", \"08_JSD3_boxplot.png\", 24453)"
            ],
            "text/plain": [
              "<IPython.core.display.Javascript object>"
            ]
          },
          "metadata": {}
        },
        {
          "output_type": "display_data",
          "data": {
            "image/png": "[encoded data removed]",
            "text/plain": [
              "<Figure size 864x504 with 1 Axes>"
            ]
          },
          "metadata": {
            "needs_background": "light"
          }
        }
      ]
    }
  ]
}